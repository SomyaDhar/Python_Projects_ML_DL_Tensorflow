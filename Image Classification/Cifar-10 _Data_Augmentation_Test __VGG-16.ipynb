{
  "nbformat": 4,
  "nbformat_minor": 0,
  "metadata": {
    "colab": {
      "name": "Untitled1.ipynb",
      "provenance": [],
      "collapsed_sections": []
    },
    "kernelspec": {
      "name": "python3",
      "display_name": "Python 3"
    },
    "language_info": {
      "name": "python"
    },
    "accelerator": "GPU"
  },
  "cells": [
    {
      "cell_type": "markdown",
      "metadata": {
        "id": "t-UJ30qIOkA5"
      },
      "source": [
        "Name :  Somya Dhar \n",
        "\n",
        "ID : 18-36396-1\n",
        "\n",
        "Section : A "
      ]
    },
    {
      "cell_type": "code",
      "metadata": {
        "id": "p4RUuNZBB6Yj"
      },
      "source": [
        "\n",
        "import tensorflow as tf\n",
        "from tensorflow import keras\n",
        "from tensorflow.keras import layers\n",
        "from tensorflow.keras.datasets import cifar10\n",
        "from tensorflow.keras.callbacks import EarlyStopping\n",
        "\n",
        "from tensorflow.keras.preprocessing.image import ImageDataGenerator\n",
        "from tensorflow.keras.callbacks import LearningRateScheduler, ReduceLROnPlateau\n",
        "\n",
        "import os\n",
        "import numpy as np\n",
        "import matplotlib.pyplot as plt\n",
        "\n",
        "os.environ['TFF_CPP_MIN_LOG_LEVEL'] = '2'\n",
        "\n",
        "%matplotlib inline"
      ],
      "execution_count": 1,
      "outputs": []
    },
    {
      "cell_type": "code",
      "metadata": {
        "colab": {
          "base_uri": "https://localhost:8080/"
        },
        "id": "SQk9DgQmM-T1",
        "outputId": "32906979-d759-4b25-a409-dfab6c23eb1f"
      },
      "source": [
        "!nvidia-smi"
      ],
      "execution_count": 2,
      "outputs": [
        {
          "output_type": "stream",
          "text": [
            "Sun Jul 18 11:23:56 2021       \n",
            "+-----------------------------------------------------------------------------+\n",
            "| NVIDIA-SMI 470.42.01    Driver Version: 460.32.03    CUDA Version: 11.2     |\n",
            "|-------------------------------+----------------------+----------------------+\n",
            "| GPU  Name        Persistence-M| Bus-Id        Disp.A | Volatile Uncorr. ECC |\n",
            "| Fan  Temp  Perf  Pwr:Usage/Cap|         Memory-Usage | GPU-Util  Compute M. |\n",
            "|                               |                      |               MIG M. |\n",
            "|===============================+======================+======================|\n",
            "|   0  Tesla T4            Off  | 00000000:00:04.0 Off |                    0 |\n",
            "| N/A   70C    P8    10W /  70W |      0MiB / 15109MiB |      0%      Default |\n",
            "|                               |                      |                  N/A |\n",
            "+-------------------------------+----------------------+----------------------+\n",
            "                                                                               \n",
            "+-----------------------------------------------------------------------------+\n",
            "| Processes:                                                                  |\n",
            "|  GPU   GI   CI        PID   Type   Process name                  GPU Memory |\n",
            "|        ID   ID                                                   Usage      |\n",
            "|=============================================================================|\n",
            "|  No running processes found                                                 |\n",
            "+-----------------------------------------------------------------------------+\n"
          ],
          "name": "stdout"
        }
      ]
    },
    {
      "cell_type": "code",
      "metadata": {
        "colab": {
          "base_uri": "https://localhost:8080/"
        },
        "id": "ebFxjRdxGwre",
        "outputId": "08e6baca-e417-496d-aba0-5979db5cc790"
      },
      "source": [
        "(X_train, Y_train), (X_test, Y_test) = cifar10.load_data()\n",
        "print(X_train.shape, Y_train.shape)\n",
        "print(X_test.shape, Y_test.shape)"
      ],
      "execution_count": 3,
      "outputs": [
        {
          "output_type": "stream",
          "text": [
            "(50000, 32, 32, 3) (50000, 1)\n",
            "(10000, 32, 32, 3) (10000, 1)\n"
          ],
          "name": "stdout"
        }
      ]
    },
    {
      "cell_type": "code",
      "metadata": {
        "id": "3wVowPxlGw6E"
      },
      "source": [
        "class_names = ['airplane', 'automobile', 'bird', 'cat', 'deer', 'dog', 'frog', 'horse', 'ship', 'truck']"
      ],
      "execution_count": 4,
      "outputs": []
    },
    {
      "cell_type": "code",
      "metadata": {
        "id": "rJTfYXX4Gw87"
      },
      "source": [
        "SEED = 1000\n",
        "BATCH_SIZE = 256\n",
        "IMG_SIZE=32;\n",
        "\n",
        "X_train = np.array(X_train)\n",
        "X_test = np.array(X_test)\n",
        "\n",
        "X_train = X_train/ 255\n",
        "X_test = X_test/ 255"
      ],
      "execution_count": 5,
      "outputs": []
    },
    {
      "cell_type": "code",
      "metadata": {
        "id": "nyIMfxG0Gw_q"
      },
      "source": [
        "train_gen_low_agmentation = ImageDataGenerator(\n",
        "    # set range for random shear\n",
        "    shear_range=0.2,\n",
        "    # set range for random zoom\n",
        "    zoom_range=0.3,\n",
        "    horizontal_flip=True,\n",
        "    # randomly flip images\n",
        "    vertical_flip=False,\n",
        "    validation_split=0.1,\n",
        "    dtype=tf.float32\n",
        "    )\n",
        "    \n",
        "train_gen_high_agmentation = ImageDataGenerator(\n",
        "    # set input mean to 0 over the dataset\n",
        "    featurewise_center=False,\n",
        "    # set each sample mean to 0\n",
        "    samplewise_center=False,\n",
        "    # divide inputs by std of dataset\n",
        "    featurewise_std_normalization=False,\n",
        "    # divide each input by its std\n",
        "    samplewise_std_normalization=False,\n",
        "    # apply ZCA whitening\n",
        "    zca_whitening=False,\n",
        "    # epsilon for ZCA whitening\n",
        "    zca_epsilon=1e-06,\n",
        "    # randomly rotate images in the range (deg 0 to 180)\n",
        "    rotation_range=60,\n",
        "    # randomly shift images horizontally\n",
        "    width_shift_range=0.2,\n",
        "    # randomly shift images vertically\n",
        "    height_shift_range=0.2,\n",
        "    # set range for random shear\n",
        "    shear_range=0.2,\n",
        "    # set range for random zoom\n",
        "    zoom_range=0.3,\n",
        "    # set range for random channel shifts\n",
        "    channel_shift_range=0.,\n",
        "    # set mode for filling points outside the input boundaries\n",
        "    fill_mode='nearest',\n",
        "    # value used for fill_mode = \"constant\"\n",
        "    cval=0.,\n",
        "    # randomly flip images\n",
        "    horizontal_flip=True,\n",
        "    # randomly flip images\n",
        "    vertical_flip=False,\n",
        "    # set rescaling factor (applied before any other transformation)\n",
        "    rescale=None,\n",
        "    # set function that will be applied on each input\n",
        "    preprocessing_function=tf.keras.applications.resnet50.preprocess_input,\n",
        "    # image data format, either \"channels_first\" or \"channels_last\"\n",
        "    data_format=None,\n",
        "    # fraction of images reserved for validation \n",
        "    \n",
        "    validation_split=0.1,\n",
        "    dtype=tf.float32,\n",
        ")\n"
      ],
      "execution_count": 6,
      "outputs": []
    },
    {
      "cell_type": "code",
      "metadata": {
        "id": "qQzIJKwgP2FD"
      },
      "source": [
        "t_batch_low_agmentation = train_gen_low_agmentation.flow(X_train,Y_train,batch_size = BATCH_SIZE)\n",
        "\n",
        "\n",
        "t_batch_high_agmentation = train_gen_high_agmentation.flow(X_train,Y_train,batch_size = BATCH_SIZE)"
      ],
      "execution_count": 7,
      "outputs": []
    },
    {
      "cell_type": "code",
      "metadata": {
        "id": "eCIHHGGwP2IK",
        "colab": {
          "base_uri": "https://localhost:8080/"
        },
        "outputId": "fcbd6e07-b7f0-42ce-c0a1-5c9bd0223a65"
      },
      "source": [
        "# VGG -16 CNN Architecture\n",
        "\n",
        "model = keras.Sequential([\n",
        "    keras.Input(shape=X_train.shape[1:]),\n",
        "    \n",
        "    layers.Conv2D(filters=64,kernel_size=(3,3),padding=\"same\", activation=\"relu\"),\n",
        "    layers.Conv2D(filters=64,kernel_size=(3,3),padding=\"same\", activation=\"relu\"),\n",
        "    layers.MaxPool2D(pool_size=(2,2),strides=(2,2)),\n",
        "    layers.Conv2D(filters=128, kernel_size=(3,3), padding=\"same\", activation=\"relu\"),\n",
        "    layers.Conv2D(filters=128, kernel_size=(3,3), padding=\"same\", activation=\"relu\"),\n",
        "    layers.MaxPool2D(pool_size=(2,2),strides=(2,2)),\n",
        "    layers.Conv2D(filters=256, kernel_size=(3,3), padding=\"same\", activation=\"relu\"),\n",
        "    layers.Conv2D(filters=256, kernel_size=(3,3), padding=\"same\", activation=\"relu\"),\n",
        "    layers.Conv2D(filters=256, kernel_size=(3,3), padding=\"same\", activation=\"relu\"),\n",
        "    layers.MaxPool2D(pool_size=(2,2),strides=(2,2)),\n",
        "    layers.Conv2D(filters=512, kernel_size=(3,3), padding=\"same\", activation=\"relu\"),\n",
        "    layers.Conv2D(filters=512, kernel_size=(3,3), padding=\"same\", activation=\"relu\"),\n",
        "    layers.Conv2D(filters=512, kernel_size=(3,3), padding=\"same\", activation=\"relu\"),\n",
        "    layers.MaxPool2D(pool_size=(2,2),strides=(2,2)),\n",
        "    layers.Conv2D(filters=512, kernel_size=(3,3), padding=\"same\", activation=\"relu\"),\n",
        "    layers.Conv2D(filters=512, kernel_size=(3,3), padding=\"same\", activation=\"relu\"),\n",
        "    layers.Conv2D(filters=512, kernel_size=(3,3), padding=\"same\", activation=\"relu\"),\n",
        "    layers.MaxPool2D(pool_size=(2,2),strides=(2,2)),\n",
        "    layers.Flatten(),\n",
        "    layers.Dense(4096,activation=\"relu\"),\n",
        "    layers.Dense(4096,activation=\"relu\"),\n",
        "    layers.Dense(10, activation=\"softmax\")\n",
        "    ])\n",
        "model.summary()"
      ],
      "execution_count": 8,
      "outputs": [
        {
          "output_type": "stream",
          "text": [
            "WARNING:tensorflow:Please add `keras.layers.InputLayer` instead of `keras.Input` to Sequential model. `keras.Input` is intended to be used by Functional model.\n",
            "Model: \"sequential\"\n",
            "_________________________________________________________________\n",
            "Layer (type)                 Output Shape              Param #   \n",
            "=================================================================\n",
            "conv2d (Conv2D)              (None, 32, 32, 64)        1792      \n",
            "_________________________________________________________________\n",
            "conv2d_1 (Conv2D)            (None, 32, 32, 64)        36928     \n",
            "_________________________________________________________________\n",
            "max_pooling2d (MaxPooling2D) (None, 16, 16, 64)        0         \n",
            "_________________________________________________________________\n",
            "conv2d_2 (Conv2D)            (None, 16, 16, 128)       73856     \n",
            "_________________________________________________________________\n",
            "conv2d_3 (Conv2D)            (None, 16, 16, 128)       147584    \n",
            "_________________________________________________________________\n",
            "max_pooling2d_1 (MaxPooling2 (None, 8, 8, 128)         0         \n",
            "_________________________________________________________________\n",
            "conv2d_4 (Conv2D)            (None, 8, 8, 256)         295168    \n",
            "_________________________________________________________________\n",
            "conv2d_5 (Conv2D)            (None, 8, 8, 256)         590080    \n",
            "_________________________________________________________________\n",
            "conv2d_6 (Conv2D)            (None, 8, 8, 256)         590080    \n",
            "_________________________________________________________________\n",
            "max_pooling2d_2 (MaxPooling2 (None, 4, 4, 256)         0         \n",
            "_________________________________________________________________\n",
            "conv2d_7 (Conv2D)            (None, 4, 4, 512)         1180160   \n",
            "_________________________________________________________________\n",
            "conv2d_8 (Conv2D)            (None, 4, 4, 512)         2359808   \n",
            "_________________________________________________________________\n",
            "conv2d_9 (Conv2D)            (None, 4, 4, 512)         2359808   \n",
            "_________________________________________________________________\n",
            "max_pooling2d_3 (MaxPooling2 (None, 2, 2, 512)         0         \n",
            "_________________________________________________________________\n",
            "conv2d_10 (Conv2D)           (None, 2, 2, 512)         2359808   \n",
            "_________________________________________________________________\n",
            "conv2d_11 (Conv2D)           (None, 2, 2, 512)         2359808   \n",
            "_________________________________________________________________\n",
            "conv2d_12 (Conv2D)           (None, 2, 2, 512)         2359808   \n",
            "_________________________________________________________________\n",
            "max_pooling2d_4 (MaxPooling2 (None, 1, 1, 512)         0         \n",
            "_________________________________________________________________\n",
            "flatten (Flatten)            (None, 512)               0         \n",
            "_________________________________________________________________\n",
            "dense (Dense)                (None, 4096)              2101248   \n",
            "_________________________________________________________________\n",
            "dense_1 (Dense)              (None, 4096)              16781312  \n",
            "_________________________________________________________________\n",
            "dense_2 (Dense)              (None, 10)                40970     \n",
            "=================================================================\n",
            "Total params: 33,638,218\n",
            "Trainable params: 33,638,218\n",
            "Non-trainable params: 0\n",
            "_________________________________________________________________\n"
          ],
          "name": "stdout"
        }
      ]
    },
    {
      "cell_type": "code",
      "metadata": {
        "id": "iQfPMxBsWMOW"
      },
      "source": [
        "model=model\n",
        "model_Low=model\n",
        "model_high=model"
      ],
      "execution_count": 9,
      "outputs": []
    },
    {
      "cell_type": "code",
      "metadata": {
        "id": "O9MHCDlgP2Kq"
      },
      "source": [
        "model.compile(\n",
        "    optimizer=keras.optimizers.Adam(learning_rate=0.0001), \n",
        "    loss='sparse_categorical_crossentropy', \n",
        "    metrics=['accuracy']\n",
        ")"
      ],
      "execution_count": 10,
      "outputs": []
    },
    {
      "cell_type": "code",
      "metadata": {
        "id": "n52yzcuDWd_g"
      },
      "source": [
        "model_Low.compile(\n",
        "    optimizer=keras.optimizers.Adam(learning_rate=0.0001), \n",
        "    loss='sparse_categorical_crossentropy', \n",
        "    metrics=['accuracy']\n",
        ")"
      ],
      "execution_count": 11,
      "outputs": []
    },
    {
      "cell_type": "code",
      "metadata": {
        "id": "6yGIu6ydWdzV"
      },
      "source": [
        "model_high.compile(\n",
        "    optimizer=keras.optimizers.Adam(learning_rate=0.0001), \n",
        "    loss='sparse_categorical_crossentropy', \n",
        "    metrics=['accuracy']\n",
        ")"
      ],
      "execution_count": 12,
      "outputs": []
    },
    {
      "cell_type": "markdown",
      "metadata": {
        "id": "fjd5ramCUm_f"
      },
      "source": [
        "**without agmentation**"
      ]
    },
    {
      "cell_type": "code",
      "metadata": {
        "colab": {
          "base_uri": "https://localhost:8080/"
        },
        "id": "MiUUuimTsqyN",
        "outputId": "e8eabc5f-75c6-4e65-ad0c-059073659f65"
      },
      "source": [
        "h = model.fit(x=X_train, y=Y_train, epochs=10,validation_split=0.1, batch_size=256,shuffle = True)"
      ],
      "execution_count": 13,
      "outputs": [
        {
          "output_type": "stream",
          "text": [
            "Epoch 1/10\n",
            "176/176 [==============================] - 29s 127ms/step - loss: 1.9737 - accuracy: 0.2203 - val_loss: 1.7417 - val_accuracy: 0.3104\n",
            "Epoch 2/10\n",
            "176/176 [==============================] - 18s 104ms/step - loss: 1.6219 - accuracy: 0.3668 - val_loss: 1.4903 - val_accuracy: 0.4214\n",
            "Epoch 3/10\n",
            "176/176 [==============================] - 18s 103ms/step - loss: 1.4200 - accuracy: 0.4632 - val_loss: 1.3555 - val_accuracy: 0.5058\n",
            "Epoch 4/10\n",
            "176/176 [==============================] - 18s 101ms/step - loss: 1.2511 - accuracy: 0.5407 - val_loss: 1.1896 - val_accuracy: 0.5744\n",
            "Epoch 5/10\n",
            "176/176 [==============================] - 18s 102ms/step - loss: 1.0940 - accuracy: 0.6020 - val_loss: 1.0644 - val_accuracy: 0.6190\n",
            "Epoch 6/10\n",
            "176/176 [==============================] - 18s 103ms/step - loss: 0.9514 - accuracy: 0.6583 - val_loss: 1.0666 - val_accuracy: 0.6314\n",
            "Epoch 7/10\n",
            "176/176 [==============================] - 18s 103ms/step - loss: 0.8505 - accuracy: 0.6957 - val_loss: 0.9779 - val_accuracy: 0.6600\n",
            "Epoch 8/10\n",
            "176/176 [==============================] - 18s 103ms/step - loss: 0.7333 - accuracy: 0.7383 - val_loss: 0.8994 - val_accuracy: 0.6866\n",
            "Epoch 9/10\n",
            "176/176 [==============================] - 18s 103ms/step - loss: 0.6358 - accuracy: 0.7749 - val_loss: 0.9012 - val_accuracy: 0.6876\n",
            "Epoch 10/10\n",
            "176/176 [==============================] - 18s 102ms/step - loss: 0.5350 - accuracy: 0.8109 - val_loss: 0.8729 - val_accuracy: 0.7052\n"
          ],
          "name": "stdout"
        }
      ]
    },
    {
      "cell_type": "code",
      "metadata": {
        "colab": {
          "base_uri": "https://localhost:8080/"
        },
        "id": "f8_05AP5UWT9",
        "outputId": "2d797d97-63b9-4dd1-8b73-93dc4a5f5a9a"
      },
      "source": [
        "test_loss, test_acc = model.evaluate(X_test, Y_test)\n",
        "print('\\nTest accuracy:', test_acc)"
      ],
      "execution_count": 14,
      "outputs": [
        {
          "output_type": "stream",
          "text": [
            "313/313 [==============================] - 4s 10ms/step - loss: 0.9039 - accuracy: 0.7005\n",
            "\n",
            "Test accuracy: 0.7005000114440918\n"
          ],
          "name": "stdout"
        }
      ]
    },
    {
      "cell_type": "markdown",
      "metadata": {
        "id": "6z0EEXuBU-_Y"
      },
      "source": [
        "**With low agmentation**"
      ]
    },
    {
      "cell_type": "code",
      "metadata": {
        "id": "8X89N1m7NBZV",
        "colab": {
          "base_uri": "https://localhost:8080/"
        },
        "outputId": "79d7f0d8-0802-4300-f6f0-9c324dca2087"
      },
      "source": [
        "h_low_agmentation = model_Low.fit(t_batch_low_agmentation, \n",
        "              epochs=10,\n",
        "              steps_per_epoch = X_train.shape[0] // BATCH_SIZE,\n",
        "              #validation_split=0.1,\n",
        "              #callbacks=lr_scheduler,\n",
        "              verbose=1\n",
        "             )"
      ],
      "execution_count": 15,
      "outputs": [
        {
          "output_type": "stream",
          "text": [
            "Epoch 1/10\n",
            "195/195 [==============================] - 28s 140ms/step - loss: 0.9145 - accuracy: 0.6828\n",
            "Epoch 2/10\n",
            "195/195 [==============================] - 26s 131ms/step - loss: 0.8419 - accuracy: 0.7066\n",
            "Epoch 3/10\n",
            "195/195 [==============================] - 26s 134ms/step - loss: 0.7857 - accuracy: 0.7263\n",
            "Epoch 4/10\n",
            "195/195 [==============================] - 26s 132ms/step - loss: 0.7456 - accuracy: 0.7416\n",
            "Epoch 5/10\n",
            "195/195 [==============================] - 25s 129ms/step - loss: 0.7024 - accuracy: 0.7560\n",
            "Epoch 6/10\n",
            "195/195 [==============================] - 26s 135ms/step - loss: 0.6834 - accuracy: 0.7637\n",
            "Epoch 7/10\n",
            "195/195 [==============================] - 26s 130ms/step - loss: 0.6431 - accuracy: 0.7772\n",
            "Epoch 8/10\n",
            "195/195 [==============================] - 26s 133ms/step - loss: 0.6329 - accuracy: 0.7813\n",
            "Epoch 9/10\n",
            "195/195 [==============================] - 25s 130ms/step - loss: 0.5976 - accuracy: 0.7945\n",
            "Epoch 10/10\n",
            "195/195 [==============================] - 26s 134ms/step - loss: 0.5792 - accuracy: 0.7991\n"
          ],
          "name": "stdout"
        }
      ]
    },
    {
      "cell_type": "code",
      "metadata": {
        "colab": {
          "base_uri": "https://localhost:8080/"
        },
        "id": "qIBeLeC7UeTV",
        "outputId": "f8fb4642-7c67-43db-ca15-623ac1ec759d"
      },
      "source": [
        "test_loss, test_acc = model_Low.evaluate(X_test, Y_test)\n",
        "print('\\nTest accuracy:', test_acc)"
      ],
      "execution_count": 16,
      "outputs": [
        {
          "output_type": "stream",
          "text": [
            "313/313 [==============================] - 3s 9ms/step - loss: 0.6724 - accuracy: 0.7695\n",
            "\n",
            "Test accuracy: 0.7695000171661377\n"
          ],
          "name": "stdout"
        }
      ]
    },
    {
      "cell_type": "markdown",
      "metadata": {
        "id": "ApSGMk6OVKNc"
      },
      "source": [
        "**With High augmentation**"
      ]
    },
    {
      "cell_type": "code",
      "metadata": {
        "id": "ERvkaVjyNBWB",
        "colab": {
          "base_uri": "https://localhost:8080/"
        },
        "outputId": "cc963ea7-0988-4816-81f1-7f844ac4246e"
      },
      "source": [
        "h_high_agmentation = model_high.fit(t_batch_high_agmentation, \n",
        "              epochs=10,\n",
        "              steps_per_epoch = X_train.shape[0] // BATCH_SIZE,\n",
        "              verbose=1\n",
        "             )"
      ],
      "execution_count": 17,
      "outputs": [
        {
          "output_type": "stream",
          "text": [
            "Epoch 1/10\n",
            "195/195 [==============================] - 31s 158ms/step - loss: 12.7041 - accuracy: 0.0984\n",
            "Epoch 2/10\n",
            "195/195 [==============================] - 30s 151ms/step - loss: 2.3027 - accuracy: 0.1003\n",
            "Epoch 3/10\n",
            "195/195 [==============================] - 31s 157ms/step - loss: 2.3027 - accuracy: 0.0998\n",
            "Epoch 4/10\n",
            "195/195 [==============================] - 30s 153ms/step - loss: 2.3027 - accuracy: 0.0976\n",
            "Epoch 5/10\n",
            "195/195 [==============================] - 30s 152ms/step - loss: 2.3027 - accuracy: 0.0988\n",
            "Epoch 6/10\n",
            "195/195 [==============================] - 31s 159ms/step - loss: 2.3027 - accuracy: 0.0982\n",
            "Epoch 7/10\n",
            "195/195 [==============================] - 30s 155ms/step - loss: 2.3027 - accuracy: 0.0962\n",
            "Epoch 8/10\n",
            "195/195 [==============================] - 31s 159ms/step - loss: 2.3027 - accuracy: 0.0985\n",
            "Epoch 9/10\n",
            "195/195 [==============================] - 30s 155ms/step - loss: 2.3026 - accuracy: 0.0986\n",
            "Epoch 10/10\n",
            "195/195 [==============================] - 31s 161ms/step - loss: 2.3026 - accuracy: 0.0978\n"
          ],
          "name": "stdout"
        }
      ]
    },
    {
      "cell_type": "code",
      "metadata": {
        "colab": {
          "base_uri": "https://localhost:8080/"
        },
        "id": "2EmJUho6TemH",
        "outputId": "43cee57b-2c42-4a1c-b32e-9bbc8a5ce9c3"
      },
      "source": [
        "test_loss, test_acc = model_high.evaluate(X_test, Y_test)\n",
        "print('\\nTest accuracy:', test_acc)"
      ],
      "execution_count": 18,
      "outputs": [
        {
          "output_type": "stream",
          "text": [
            "313/313 [==============================] - 3s 9ms/step - loss: 2.3103 - accuracy: 0.1000\n",
            "\n",
            "Test accuracy: 0.10000000149011612\n"
          ],
          "name": "stdout"
        }
      ]
    },
    {
      "cell_type": "code",
      "metadata": {
        "id": "r8FafT0rNBNY",
        "colab": {
          "base_uri": "https://localhost:8080/",
          "height": 334
        },
        "outputId": "704b679a-3d9c-453f-8809-144e1c6affb4"
      },
      "source": [
        "plt.figure(figsize=(18,5))\n",
        "plt.subplot(1,2,1)\n",
        "plt.plot(h.history['accuracy'], 'o-', label='without augmentation train accuracy')\n",
        "plt.plot(h_low_agmentation.history['accuracy'], 'o-', label='low augmentation train accuracy')\n",
        "plt.plot(h_high_agmentation.history['accuracy'], 'o-', label='High augmentation train accuracy')\n",
        "\n",
        "plt.xlabel('Epoch')\n",
        "plt.ylabel('Accuracy')\n",
        "plt.grid(True)\n",
        "plt.legend(loc='lower right')\n",
        "\n",
        "plt.subplot(1,2,2)\n",
        "plt.plot(h.history['loss'], 'o-', label='without augmentation train loss')\n",
        "plt.plot(h_low_agmentation.history['loss'], 'o-', label='low augmentation train loss')\n",
        "plt.plot(h_high_agmentation.history['loss'], 'o-', label='High augmentation train loss')\n",
        "\n",
        "plt.xlabel('Epoch')\n",
        "plt.ylabel('Loss')\n",
        "plt.grid(True)\n",
        "plt.legend(loc='upper right')\n",
        "\n",
        "plt.show()"
      ],
      "execution_count": 19,
      "outputs": [
        {
          "output_type": "display_data",
          "data": {
            "image/png": "[encoded data removed]",
            "text/plain": [
              "<Figure size 1296x360 with 2 Axes>"
            ]
          },
          "metadata": {
            "tags": [],
            "needs_background": "light"
          }
        }
      ]
    },
    {
      "cell_type": "markdown",
      "metadata": {
        "id": "Pzz38CuMKpFA"
      },
      "source": [
        "##**Findings**"
      ]
    },
    {
      "cell_type": "markdown",
      "metadata": {
        "id": "Z-4FKGPRYtfA"
      },
      "source": [
        "### The notebook contains several observations regarding model training, accuracy, losses, and data preparation.  Without data augmentation, the training accuracy is evidently higher than other methods. The accuracy of less data augmentation is higher than that of high data augmentation.\n",
        "\n",
        "If we measure test accuracy by considering data augmentation, less data augmentation has higher accuracy than other data.\n",
        "Similarly, we can observe that training needs more memory without the data generator. Data generators used with flow methods require significantly less memory to train.\n",
        "\n",
        "As a result, we can conclude that we must use the data generator for less memory consumption, and we must also do some augmentation to extend the data set."
      ]
    }
  ]
}