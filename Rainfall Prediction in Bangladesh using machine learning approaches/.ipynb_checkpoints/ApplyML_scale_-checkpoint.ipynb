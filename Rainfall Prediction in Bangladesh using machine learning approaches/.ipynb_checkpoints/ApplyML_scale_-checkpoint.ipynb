{
 "cells": [
  {
   "cell_type": "code",
   "execution_count": 1,
   "id": "93dee11d",
   "metadata": {},
   "outputs": [],
   "source": [
    "import pandas as pd\n",
    "import numpy as np\n",
    "import matplotlib.pyplot as plt\n",
    "import tensorflow as tf\n",
    "from sklearn.model_selection import train_test_split\n",
    "from sklearn.ensemble import RandomForestClassifier\n",
    "import datetime\n",
    "from sklearn.preprocessing import LabelEncoder\n",
    "from sklearn import preprocessing\n",
    "from sklearn.preprocessing import StandardScaler\n",
    "from sklearn.model_selection import train_test_split\n",
    "import seaborn as sns\n",
    "from keras.layers import Dense, BatchNormalization, Dropout, LSTM\n",
    "from keras.models import Sequential\n",
    "from keras.utils import to_categorical\n",
    "from keras.optimizers import Adam\n",
    "from tensorflow.keras import regularizers\n",
    "from sklearn.metrics import precision_score, recall_score, confusion_matrix, classification_report, accuracy_score, f1_score\n",
    "from keras import callbacks\n",
    "from sklearn.naive_bayes import GaussianNB\n",
    "from sklearn import datasets, linear_model, metrics\n",
    "from sklearn.preprocessing import MinMaxScaler\n",
    "np.random.seed(0)"
   ]
  },
  {
   "cell_type": "code",
   "execution_count": 2,
   "id": "01dbe09e",
   "metadata": {},
   "outputs": [],
   "source": [
    "df = pd.read_csv('observedDataset1.csv')"
   ]
  },
  {
   "cell_type": "code",
   "execution_count": 3,
   "id": "71030a47",
   "metadata": {},
   "outputs": [
    {
     "data": {
      "text/html": [
       "<div>\n",
       "<style scoped>\n",
       "    .dataframe tbody tr th:only-of-type {\n",
       "        vertical-align: middle;\n",
       "    }\n",
       "\n",
       "    .dataframe tbody tr th {\n",
       "        vertical-align: top;\n",
       "    }\n",
       "\n",
       "    .dataframe thead th {\n",
       "        text-align: right;\n",
       "    }\n",
       "</style>\n",
       "<table border=\"1\" class=\"dataframe\">\n",
       "  <thead>\n",
       "    <tr style=\"text-align: right;\">\n",
       "      <th></th>\n",
       "      <th>Unnamed: 0</th>\n",
       "      <th>stationID</th>\n",
       "      <th>Days</th>\n",
       "      <th>observedTempMax</th>\n",
       "      <th>observedTempMin</th>\n",
       "      <th>observedHumidity</th>\n",
       "      <th>observedPressure</th>\n",
       "      <th>observedWind</th>\n",
       "      <th>observedRainfallcatagorical</th>\n",
       "    </tr>\n",
       "  </thead>\n",
       "  <tbody>\n",
       "    <tr>\n",
       "      <th>0</th>\n",
       "      <td>0</td>\n",
       "      <td>10120</td>\n",
       "      <td>1</td>\n",
       "      <td>23.182051</td>\n",
       "      <td>10.735897</td>\n",
       "      <td>77.586207</td>\n",
       "      <td>1016.255172</td>\n",
       "      <td>3.968966</td>\n",
       "      <td>0.0</td>\n",
       "    </tr>\n",
       "    <tr>\n",
       "      <th>1</th>\n",
       "      <td>1</td>\n",
       "      <td>10120</td>\n",
       "      <td>2</td>\n",
       "      <td>22.997436</td>\n",
       "      <td>10.738462</td>\n",
       "      <td>78.655172</td>\n",
       "      <td>1016.424138</td>\n",
       "      <td>4.017241</td>\n",
       "      <td>0.0</td>\n",
       "    </tr>\n",
       "    <tr>\n",
       "      <th>2</th>\n",
       "      <td>2</td>\n",
       "      <td>10120</td>\n",
       "      <td>3</td>\n",
       "      <td>22.276923</td>\n",
       "      <td>10.566667</td>\n",
       "      <td>80.551724</td>\n",
       "      <td>1016.227586</td>\n",
       "      <td>4.306897</td>\n",
       "      <td>0.0</td>\n",
       "    </tr>\n",
       "    <tr>\n",
       "      <th>3</th>\n",
       "      <td>3</td>\n",
       "      <td>10120</td>\n",
       "      <td>4</td>\n",
       "      <td>22.115385</td>\n",
       "      <td>10.712821</td>\n",
       "      <td>79.862069</td>\n",
       "      <td>1016.027586</td>\n",
       "      <td>4.234483</td>\n",
       "      <td>1.0</td>\n",
       "    </tr>\n",
       "    <tr>\n",
       "      <th>4</th>\n",
       "      <td>4</td>\n",
       "      <td>10120</td>\n",
       "      <td>5</td>\n",
       "      <td>22.325641</td>\n",
       "      <td>10.274359</td>\n",
       "      <td>79.758621</td>\n",
       "      <td>1015.627586</td>\n",
       "      <td>4.434483</td>\n",
       "      <td>0.0</td>\n",
       "    </tr>\n",
       "  </tbody>\n",
       "</table>\n",
       "</div>"
      ],
      "text/plain": [
       "   Unnamed: 0  stationID  Days  observedTempMax  observedTempMin  \\\n",
       "0           0      10120     1        23.182051        10.735897   \n",
       "1           1      10120     2        22.997436        10.738462   \n",
       "2           2      10120     3        22.276923        10.566667   \n",
       "3           3      10120     4        22.115385        10.712821   \n",
       "4           4      10120     5        22.325641        10.274359   \n",
       "\n",
       "   observedHumidity  observedPressure  observedWind  \\\n",
       "0         77.586207       1016.255172      3.968966   \n",
       "1         78.655172       1016.424138      4.017241   \n",
       "2         80.551724       1016.227586      4.306897   \n",
       "3         79.862069       1016.027586      4.234483   \n",
       "4         79.758621       1015.627586      4.434483   \n",
       "\n",
       "   observedRainfallcatagorical  \n",
       "0                          0.0  \n",
       "1                          0.0  \n",
       "2                          0.0  \n",
       "3                          1.0  \n",
       "4                          0.0  "
      ]
     },
     "execution_count": 3,
     "metadata": {},
     "output_type": "execute_result"
    }
   ],
   "source": [
    "df.head()"
   ]
  },
  {
   "cell_type": "code",
   "execution_count": 4,
   "id": "0c86a81b",
   "metadata": {},
   "outputs": [],
   "source": [
    "df.drop(\"Unnamed: 0\", axis=1, inplace=True)"
   ]
  },
  {
   "cell_type": "code",
   "execution_count": 5,
   "id": "ca6e26f5",
   "metadata": {},
   "outputs": [
    {
     "data": {
      "text/plain": [
       "(12838, 9)"
      ]
     },
     "execution_count": 5,
     "metadata": {},
     "output_type": "execute_result"
    }
   ],
   "source": [
    "df = df.reset_index()\n",
    "df.shape"
   ]
  },
  {
   "cell_type": "code",
   "execution_count": 6,
   "id": "c516d3ad",
   "metadata": {},
   "outputs": [
    {
     "data": {
      "text/plain": [
       "Index(['index', 'stationID', 'Days', 'observedTempMax', 'observedTempMin',\n",
       "       'observedHumidity', 'observedPressure', 'observedWind',\n",
       "       'observedRainfallcatagorical'],\n",
       "      dtype='object')"
      ]
     },
     "execution_count": 6,
     "metadata": {},
     "output_type": "execute_result"
    }
   ],
   "source": [
    "df.columns"
   ]
  },
  {
   "cell_type": "code",
   "execution_count": 7,
   "id": "5ac1767d",
   "metadata": {},
   "outputs": [
    {
     "data": {
      "text/plain": [
       "Index(['stationID', 'Days', 'observedTempMax', 'observedTempMin',\n",
       "       'observedHumidity', 'observedPressure', 'observedWind',\n",
       "       'observedRainfallcatagorical'],\n",
       "      dtype='object')"
      ]
     },
     "execution_count": 7,
     "metadata": {},
     "output_type": "execute_result"
    }
   ],
   "source": [
    "df.drop(\"index\", axis=1, inplace=True)\n",
    "df.columns"
   ]
  },
  {
   "cell_type": "code",
   "execution_count": 8,
   "id": "b2737793",
   "metadata": {},
   "outputs": [
    {
     "data": {
      "text/plain": [
       "1.0    9660\n",
       "0.0    3150\n",
       "Name: observedRainfallcatagorical, dtype: int64"
      ]
     },
     "execution_count": 8,
     "metadata": {},
     "output_type": "execute_result"
    }
   ],
   "source": [
    "df['observedRainfallcatagorical'].value_counts()"
   ]
  },
  {
   "cell_type": "code",
   "execution_count": 9,
   "id": "8b0b1a87",
   "metadata": {},
   "outputs": [],
   "source": [
    "df['observedRainfallcatagorical'].fillna(method='ffill',inplace=True,axis=0)"
   ]
  },
  {
   "cell_type": "code",
   "execution_count": 10,
   "id": "4f0f40c5",
   "metadata": {},
   "outputs": [
    {
     "data": {
      "text/plain": [
       "1.0    9660\n",
       "0.0    3178\n",
       "Name: observedRainfallcatagorical, dtype: int64"
      ]
     },
     "execution_count": 10,
     "metadata": {},
     "output_type": "execute_result"
    }
   ],
   "source": [
    "df['observedRainfallcatagorical'].value_counts()"
   ]
  },
  {
   "cell_type": "code",
   "execution_count": 11,
   "id": "3017036e",
   "metadata": {},
   "outputs": [],
   "source": [
    "df['observedHumidity'].fillna(method='ffill',inplace=True,axis=0)"
   ]
  },
  {
   "cell_type": "code",
   "execution_count": 12,
   "id": "82a16178",
   "metadata": {},
   "outputs": [],
   "source": [
    "df['observedPressure'].fillna(method='ffill',inplace=True,axis=0)"
   ]
  },
  {
   "cell_type": "code",
   "execution_count": 13,
   "id": "39c2dc57",
   "metadata": {},
   "outputs": [],
   "source": [
    "df['observedWind'].fillna(method='ffill',inplace=True,axis=0)"
   ]
  },
  {
   "cell_type": "code",
   "execution_count": 14,
   "id": "281eb584",
   "metadata": {},
   "outputs": [
    {
     "data": {
      "text/html": [
       "<div>\n",
       "<style scoped>\n",
       "    .dataframe tbody tr th:only-of-type {\n",
       "        vertical-align: middle;\n",
       "    }\n",
       "\n",
       "    .dataframe tbody tr th {\n",
       "        vertical-align: top;\n",
       "    }\n",
       "\n",
       "    .dataframe thead th {\n",
       "        text-align: right;\n",
       "    }\n",
       "</style>\n",
       "<table border=\"1\" class=\"dataframe\">\n",
       "  <thead>\n",
       "    <tr style=\"text-align: right;\">\n",
       "      <th></th>\n",
       "      <th>stationID</th>\n",
       "      <th>Days</th>\n",
       "      <th>observedTempMax</th>\n",
       "      <th>observedTempMin</th>\n",
       "      <th>observedHumidity</th>\n",
       "      <th>observedPressure</th>\n",
       "      <th>observedWind</th>\n",
       "      <th>observedRainfallcatagorical</th>\n",
       "    </tr>\n",
       "  </thead>\n",
       "  <tbody>\n",
       "    <tr>\n",
       "      <th>stationID</th>\n",
       "      <td>1.000000</td>\n",
       "      <td>-0.008462</td>\n",
       "      <td>0.042371</td>\n",
       "      <td>-0.000458</td>\n",
       "      <td>0.009811</td>\n",
       "      <td>-0.006394</td>\n",
       "      <td>0.387652</td>\n",
       "      <td>0.000351</td>\n",
       "    </tr>\n",
       "    <tr>\n",
       "      <th>Days</th>\n",
       "      <td>-0.008462</td>\n",
       "      <td>1.000000</td>\n",
       "      <td>0.045088</td>\n",
       "      <td>0.205650</td>\n",
       "      <td>0.437585</td>\n",
       "      <td>-0.072143</td>\n",
       "      <td>-0.266540</td>\n",
       "      <td>0.035526</td>\n",
       "    </tr>\n",
       "    <tr>\n",
       "      <th>observedTempMax</th>\n",
       "      <td>0.042371</td>\n",
       "      <td>0.045088</td>\n",
       "      <td>1.000000</td>\n",
       "      <td>0.866812</td>\n",
       "      <td>0.221166</td>\n",
       "      <td>-0.634708</td>\n",
       "      <td>0.298645</td>\n",
       "      <td>0.651053</td>\n",
       "    </tr>\n",
       "    <tr>\n",
       "      <th>observedTempMin</th>\n",
       "      <td>-0.000458</td>\n",
       "      <td>0.205650</td>\n",
       "      <td>0.866812</td>\n",
       "      <td>1.000000</td>\n",
       "      <td>0.571570</td>\n",
       "      <td>-0.785690</td>\n",
       "      <td>0.286132</td>\n",
       "      <td>0.714239</td>\n",
       "    </tr>\n",
       "    <tr>\n",
       "      <th>observedHumidity</th>\n",
       "      <td>0.009811</td>\n",
       "      <td>0.437585</td>\n",
       "      <td>0.221166</td>\n",
       "      <td>0.571570</td>\n",
       "      <td>1.000000</td>\n",
       "      <td>-0.532134</td>\n",
       "      <td>0.005046</td>\n",
       "      <td>0.366324</td>\n",
       "    </tr>\n",
       "    <tr>\n",
       "      <th>observedPressure</th>\n",
       "      <td>-0.006394</td>\n",
       "      <td>-0.072143</td>\n",
       "      <td>-0.634708</td>\n",
       "      <td>-0.785690</td>\n",
       "      <td>-0.532134</td>\n",
       "      <td>1.000000</td>\n",
       "      <td>-0.299707</td>\n",
       "      <td>-0.576958</td>\n",
       "    </tr>\n",
       "    <tr>\n",
       "      <th>observedWind</th>\n",
       "      <td>0.387652</td>\n",
       "      <td>-0.266540</td>\n",
       "      <td>0.298645</td>\n",
       "      <td>0.286132</td>\n",
       "      <td>0.005046</td>\n",
       "      <td>-0.299707</td>\n",
       "      <td>1.000000</td>\n",
       "      <td>0.250445</td>\n",
       "    </tr>\n",
       "    <tr>\n",
       "      <th>observedRainfallcatagorical</th>\n",
       "      <td>0.000351</td>\n",
       "      <td>0.035526</td>\n",
       "      <td>0.651053</td>\n",
       "      <td>0.714239</td>\n",
       "      <td>0.366324</td>\n",
       "      <td>-0.576958</td>\n",
       "      <td>0.250445</td>\n",
       "      <td>1.000000</td>\n",
       "    </tr>\n",
       "  </tbody>\n",
       "</table>\n",
       "</div>"
      ],
      "text/plain": [
       "                             stationID      Days  observedTempMax  \\\n",
       "stationID                     1.000000 -0.008462         0.042371   \n",
       "Days                         -0.008462  1.000000         0.045088   \n",
       "observedTempMax               0.042371  0.045088         1.000000   \n",
       "observedTempMin              -0.000458  0.205650         0.866812   \n",
       "observedHumidity              0.009811  0.437585         0.221166   \n",
       "observedPressure             -0.006394 -0.072143        -0.634708   \n",
       "observedWind                  0.387652 -0.266540         0.298645   \n",
       "observedRainfallcatagorical   0.000351  0.035526         0.651053   \n",
       "\n",
       "                             observedTempMin  observedHumidity  \\\n",
       "stationID                          -0.000458          0.009811   \n",
       "Days                                0.205650          0.437585   \n",
       "observedTempMax                     0.866812          0.221166   \n",
       "observedTempMin                     1.000000          0.571570   \n",
       "observedHumidity                    0.571570          1.000000   \n",
       "observedPressure                   -0.785690         -0.532134   \n",
       "observedWind                        0.286132          0.005046   \n",
       "observedRainfallcatagorical         0.714239          0.366324   \n",
       "\n",
       "                             observedPressure  observedWind  \\\n",
       "stationID                           -0.006394      0.387652   \n",
       "Days                                -0.072143     -0.266540   \n",
       "observedTempMax                     -0.634708      0.298645   \n",
       "observedTempMin                     -0.785690      0.286132   \n",
       "observedHumidity                    -0.532134      0.005046   \n",
       "observedPressure                     1.000000     -0.299707   \n",
       "observedWind                        -0.299707      1.000000   \n",
       "observedRainfallcatagorical         -0.576958      0.250445   \n",
       "\n",
       "                             observedRainfallcatagorical  \n",
       "stationID                                       0.000351  \n",
       "Days                                            0.035526  \n",
       "observedTempMax                                 0.651053  \n",
       "observedTempMin                                 0.714239  \n",
       "observedHumidity                                0.366324  \n",
       "observedPressure                               -0.576958  \n",
       "observedWind                                    0.250445  \n",
       "observedRainfallcatagorical                     1.000000  "
      ]
     },
     "execution_count": 14,
     "metadata": {},
     "output_type": "execute_result"
    }
   ],
   "source": [
    "df.corr()"
   ]
  },
  {
   "cell_type": "code",
   "execution_count": 15,
   "id": "edbbb283",
   "metadata": {},
   "outputs": [
    {
     "data": {
      "text/plain": [
       "array([[23.18205128, 10.73589744, 77.5862069 ,  3.96896552],\n",
       "       [22.9974359 , 10.73846154, 78.65517241,  4.01724138],\n",
       "       [22.27692308, 10.56666667, 80.55172414,  4.30689655],\n",
       "       ...,\n",
       "       [27.41428571, 14.37619048, 67.        ,  2.03333333],\n",
       "       [27.31428571, 14.47619048, 67.        ,  2.03333333],\n",
       "       [26.9       , 13.62      , 67.        ,  2.03333333]])"
      ]
     },
     "execution_count": 15,
     "metadata": {},
     "output_type": "execute_result"
    }
   ],
   "source": [
    "x =np.array(df.iloc[:,[2,3,4,6] ] )\n",
    "x"
   ]
  },
  {
   "cell_type": "code",
   "execution_count": 16,
   "id": "a287808d",
   "metadata": {},
   "outputs": [
    {
     "data": {
      "text/plain": [
       "array([[0.],\n",
       "       [0.],\n",
       "       [0.],\n",
       "       ...,\n",
       "       [0.],\n",
       "       [0.],\n",
       "       [0.]])"
      ]
     },
     "execution_count": 16,
     "metadata": {},
     "output_type": "execute_result"
    }
   ],
   "source": [
    "y=np.array(df.iloc[:, 7:])\n",
    "y"
   ]
  },
  {
   "cell_type": "code",
   "execution_count": 17,
   "id": "633c83e1",
   "metadata": {},
   "outputs": [],
   "source": [
    "x_train,x_test,y_train,y_test = train_test_split(x,y,test_size=0.2,random_state=1)\n"
   ]
  },
  {
   "cell_type": "code",
   "execution_count": 18,
   "id": "e9f7fd4e",
   "metadata": {},
   "outputs": [
    {
     "name": "stdout",
     "output_type": "stream",
     "text": [
      "MinMaxScaler()\n",
      "MinMaxScaler()\n",
      "MinMaxScaler()\n",
      "MinMaxScaler()\n"
     ]
    }
   ],
   "source": [
    "\n",
    "scaler_x = MinMaxScaler()\n",
    "scaler_y = MinMaxScaler()\n",
    "print(scaler_x.fit(x_train))\n",
    "xtrain=scaler_x.transform(x_train)\n",
    "print(scaler_x.fit(x_test))\n",
    "xtest=scaler_x.transform(x_test)\n",
    "print(scaler_y.fit(y_train))\n",
    "ytrain=scaler_y.transform(y_train)\n",
    "print(scaler_y.fit(y_test))\n",
    "ytest=scaler_y.transform(y_test)"
   ]
  },
  {
   "cell_type": "code",
   "execution_count": 19,
   "id": "cd6a7844",
   "metadata": {},
   "outputs": [
    {
     "data": {
      "text/plain": [
       "(10270, 4)"
      ]
     },
     "execution_count": 19,
     "metadata": {},
     "output_type": "execute_result"
    }
   ],
   "source": [
    "xtrain.shape"
   ]
  },
  {
   "cell_type": "code",
   "execution_count": 20,
   "id": "db77d4f8",
   "metadata": {},
   "outputs": [
    {
     "data": {
      "text/plain": [
       "(10270, 1)"
      ]
     },
     "execution_count": 20,
     "metadata": {},
     "output_type": "execute_result"
    }
   ],
   "source": [
    "ytrain.shape"
   ]
  },
  {
   "cell_type": "code",
   "execution_count": 21,
   "id": "ebea7e41",
   "metadata": {},
   "outputs": [
    {
     "data": {
      "text/plain": [
       "(2568, 4)"
      ]
     },
     "execution_count": 21,
     "metadata": {},
     "output_type": "execute_result"
    }
   ],
   "source": [
    "yy_test=y_test\n",
    "xtest.shape"
   ]
  },
  {
   "cell_type": "markdown",
   "id": "2cff82be",
   "metadata": {},
   "source": [
    "## Decision trees( Random forest classifier)"
   ]
  },
  {
   "cell_type": "code",
   "execution_count": 22,
   "id": "a9a078cd",
   "metadata": {},
   "outputs": [
    {
     "name": "stderr",
     "output_type": "stream",
     "text": [
      "<ipython-input-22-b231654f9390>:4: DataConversionWarning: A column-vector y was passed when a 1d array was expected. Please change the shape of y to (n_samples,), for example using ravel().\n",
      "  h=RF.fit(xtrain,y_train)\n"
     ]
    }
   ],
   "source": [
    "y_train=np.reshape(y_train, (-1,1))\n",
    "y_test=np.reshape(y_test, (-1,1))\n",
    "RF = RandomForestClassifier(max_depth=32,n_estimators=120,random_state=1)\n",
    "h=RF.fit(xtrain,y_train)\n",
    "y_pred = RF.predict(xtest)"
   ]
  },
  {
   "cell_type": "code",
   "execution_count": 23,
   "id": "55ec70f9",
   "metadata": {},
   "outputs": [
    {
     "data": {
      "text/plain": [
       "0.8730529595015576"
      ]
     },
     "execution_count": 23,
     "metadata": {},
     "output_type": "execute_result"
    }
   ],
   "source": [
    "accuracy_score(y_test, y_pred)"
   ]
  },
  {
   "cell_type": "code",
   "execution_count": 24,
   "id": "6e8aa61a",
   "metadata": {},
   "outputs": [
    {
     "data": {
      "text/plain": [
       "array([0.27473395, 0.46055972, 0.14289171, 0.12181462])"
      ]
     },
     "execution_count": 24,
     "metadata": {},
     "output_type": "execute_result"
    }
   ],
   "source": [
    "RF.feature_importances_"
   ]
  },
  {
   "cell_type": "markdown",
   "id": "b9477312",
   "metadata": {},
   "source": [
    "## Gaussian Naive Bayes"
   ]
  },
  {
   "cell_type": "code",
   "execution_count": 25,
   "id": "4b246004",
   "metadata": {
    "scrolled": true
   },
   "outputs": [
    {
     "name": "stderr",
     "output_type": "stream",
     "text": [
      "C:\\Users\\shomy\\anaconda3\\envs\\cvpr\\lib\\site-packages\\sklearn\\utils\\validation.py:63: DataConversionWarning: A column-vector y was passed when a 1d array was expected. Please change the shape of y to (n_samples, ), for example using ravel().\n",
      "  return f(*args, **kwargs)\n"
     ]
    }
   ],
   "source": [
    "nb=GaussianNB()\n",
    "\n",
    "nb.fit(xtrain,y_train)\n",
    "\n",
    "y_pred=nb.predict(xtest)"
   ]
  },
  {
   "cell_type": "code",
   "execution_count": 26,
   "id": "3f352533",
   "metadata": {},
   "outputs": [
    {
     "data": {
      "text/plain": [
       "0.875"
      ]
     },
     "execution_count": 26,
     "metadata": {},
     "output_type": "execute_result"
    }
   ],
   "source": [
    "metrics.accuracy_score(y_test,y_pred)"
   ]
  },
  {
   "cell_type": "markdown",
   "id": "fd1cc954",
   "metadata": {},
   "source": [
    "## Artificial neural network"
   ]
  },
  {
   "cell_type": "code",
   "execution_count": null,
   "id": "d0a7cd65",
   "metadata": {},
   "outputs": [
    {
     "name": "stdout",
     "output_type": "stream",
     "text": [
      "Epoch 1/150\n",
      "257/257 [==============================] - 1s 3ms/step - loss: 0.6901 - accuracy: 0.7502 - val_loss: 0.6861 - val_accuracy: 0.7561\n",
      "Epoch 2/150\n",
      "257/257 [==============================] - 1s 2ms/step - loss: 0.6741 - accuracy: 0.7515 - val_loss: 0.6473 - val_accuracy: 0.7561\n",
      "Epoch 3/150\n",
      "257/257 [==============================] - 1s 2ms/step - loss: 0.6016 - accuracy: 0.7515 - val_loss: 0.5343 - val_accuracy: 0.7561\n",
      "Epoch 4/150\n",
      "257/257 [==============================] - 1s 2ms/step - loss: 0.5421 - accuracy: 0.7515 - val_loss: 0.4937 - val_accuracy: 0.7561\n",
      "Epoch 5/150\n",
      "257/257 [==============================] - 1s 2ms/step - loss: 0.5239 - accuracy: 0.7515 - val_loss: 0.4741 - val_accuracy: 0.7561\n",
      "Epoch 6/150\n",
      "257/257 [==============================] - 1s 2ms/step - loss: 0.5025 - accuracy: 0.7515 - val_loss: 0.4456 - val_accuracy: 0.7561\n",
      "Epoch 7/150\n",
      "257/257 [==============================] - 1s 2ms/step - loss: 0.4655 - accuracy: 0.7515 - val_loss: 0.4074 - val_accuracy: 0.7561\n",
      "Epoch 8/150\n",
      "257/257 [==============================] - 1s 2ms/step - loss: 0.4272 - accuracy: 0.7517 - val_loss: 0.3725 - val_accuracy: 0.7561\n",
      "Epoch 9/150\n",
      "257/257 [==============================] - 1s 2ms/step - loss: 0.3997 - accuracy: 0.7907 - val_loss: 0.3477 - val_accuracy: 0.8393\n",
      "Epoch 10/150\n",
      "257/257 [==============================] - 1s 2ms/step - loss: 0.3735 - accuracy: 0.8319 - val_loss: 0.3287 - val_accuracy: 0.8544\n",
      "Epoch 11/150\n",
      "257/257 [==============================] - 1s 2ms/step - loss: 0.3600 - accuracy: 0.8471 - val_loss: 0.3149 - val_accuracy: 0.8642\n",
      "Epoch 12/150\n",
      "257/257 [==============================] - 1s 2ms/step - loss: 0.3476 - accuracy: 0.8518 - val_loss: 0.3066 - val_accuracy: 0.8632\n",
      "Epoch 13/150\n",
      "257/257 [==============================] - 1s 2ms/step - loss: 0.3380 - accuracy: 0.8492 - val_loss: 0.3001 - val_accuracy: 0.8656\n",
      "Epoch 14/150\n",
      "257/257 [==============================] - 1s 2ms/step - loss: 0.3343 - accuracy: 0.8558 - val_loss: 0.2945 - val_accuracy: 0.8661\n",
      "Epoch 15/150\n",
      "257/257 [==============================] - 1s 2ms/step - loss: 0.3262 - accuracy: 0.8544 - val_loss: 0.2921 - val_accuracy: 0.8685\n",
      "Epoch 16/150\n",
      "257/257 [==============================] - 1s 2ms/step - loss: 0.3287 - accuracy: 0.8514 - val_loss: 0.2894 - val_accuracy: 0.8676\n",
      "Epoch 17/150\n",
      "257/257 [==============================] - 1s 2ms/step - loss: 0.3264 - accuracy: 0.8482 - val_loss: 0.2877 - val_accuracy: 0.8651\n",
      "Epoch 18/150\n",
      "257/257 [==============================] - 1s 2ms/step - loss: 0.3212 - accuracy: 0.8544 - val_loss: 0.2866 - val_accuracy: 0.8637\n",
      "Epoch 19/150\n",
      "257/257 [==============================] - 1s 2ms/step - loss: 0.3271 - accuracy: 0.8487 - val_loss: 0.2871 - val_accuracy: 0.8647\n",
      "Epoch 20/150\n",
      "257/257 [==============================] - 1s 2ms/step - loss: 0.3251 - accuracy: 0.8515 - val_loss: 0.2875 - val_accuracy: 0.8642\n",
      "Epoch 21/150\n",
      "257/257 [==============================] - 1s 2ms/step - loss: 0.3224 - accuracy: 0.8510 - val_loss: 0.2859 - val_accuracy: 0.8651\n",
      "Epoch 22/150\n",
      "257/257 [==============================] - 1s 2ms/step - loss: 0.3216 - accuracy: 0.8541 - val_loss: 0.2858 - val_accuracy: 0.8656\n",
      "Epoch 23/150\n",
      "257/257 [==============================] - 1s 2ms/step - loss: 0.3207 - accuracy: 0.8520 - val_loss: 0.2864 - val_accuracy: 0.8661\n",
      "Epoch 24/150\n",
      "257/257 [==============================] - 1s 2ms/step - loss: 0.3209 - accuracy: 0.8504 - val_loss: 0.2858 - val_accuracy: 0.8627\n",
      "Epoch 25/150\n",
      "257/257 [==============================] - 1s 2ms/step - loss: 0.3272 - accuracy: 0.8486 - val_loss: 0.2862 - val_accuracy: 0.8627\n",
      "Epoch 26/150\n",
      "257/257 [==============================] - 1s 2ms/step - loss: 0.3183 - accuracy: 0.8531 - val_loss: 0.2854 - val_accuracy: 0.8608\n",
      "Epoch 27/150\n",
      "257/257 [==============================] - 1s 2ms/step - loss: 0.3255 - accuracy: 0.8483 - val_loss: 0.2854 - val_accuracy: 0.8612\n",
      "Epoch 28/150\n",
      "257/257 [==============================] - 1s 3ms/step - loss: 0.3189 - accuracy: 0.8502 - val_loss: 0.2857 - val_accuracy: 0.8612\n",
      "Epoch 29/150\n",
      "257/257 [==============================] - 1s 3ms/step - loss: 0.3202 - accuracy: 0.8508 - val_loss: 0.2844 - val_accuracy: 0.8588\n",
      "Epoch 30/150\n",
      "257/257 [==============================] - 1s 2ms/step - loss: 0.3192 - accuracy: 0.8468 - val_loss: 0.2845 - val_accuracy: 0.8583\n",
      "Epoch 31/150\n",
      "257/257 [==============================] - 1s 2ms/step - loss: 0.3149 - accuracy: 0.8487 - val_loss: 0.2854 - val_accuracy: 0.8598\n",
      "Epoch 32/150\n",
      "257/257 [==============================] - 1s 3ms/step - loss: 0.3195 - accuracy: 0.8499 - val_loss: 0.2846 - val_accuracy: 0.8583\n",
      "Epoch 33/150\n",
      "257/257 [==============================] - 1s 3ms/step - loss: 0.3208 - accuracy: 0.8480 - val_loss: 0.2851 - val_accuracy: 0.8593\n",
      "Epoch 34/150\n",
      "257/257 [==============================] - 1s 3ms/step - loss: 0.3156 - accuracy: 0.8508 - val_loss: 0.2869 - val_accuracy: 0.8598\n",
      "Epoch 35/150\n",
      "257/257 [==============================] - 1s 2ms/step - loss: 0.3173 - accuracy: 0.8518 - val_loss: 0.2841 - val_accuracy: 0.8583\n",
      "Epoch 36/150\n",
      "257/257 [==============================] - 1s 3ms/step - loss: 0.3140 - accuracy: 0.8477 - val_loss: 0.2847 - val_accuracy: 0.8578\n",
      "Epoch 37/150\n",
      "257/257 [==============================] - 1s 3ms/step - loss: 0.3157 - accuracy: 0.8544 - val_loss: 0.2850 - val_accuracy: 0.8578\n",
      "Epoch 38/150\n",
      "257/257 [==============================] - 1s 3ms/step - loss: 0.3168 - accuracy: 0.8487 - val_loss: 0.2839 - val_accuracy: 0.8593\n",
      "Epoch 39/150\n",
      "257/257 [==============================] - 1s 3ms/step - loss: 0.3152 - accuracy: 0.8498 - val_loss: 0.2834 - val_accuracy: 0.8593\n",
      "Epoch 40/150\n",
      "257/257 [==============================] - 1s 3ms/step - loss: 0.3120 - accuracy: 0.8524 - val_loss: 0.2826 - val_accuracy: 0.8578\n",
      "Epoch 41/150\n",
      "257/257 [==============================] - 1s 3ms/step - loss: 0.3164 - accuracy: 0.8477 - val_loss: 0.2829 - val_accuracy: 0.8593\n",
      "Epoch 42/150\n",
      "257/257 [==============================] - 1s 3ms/step - loss: 0.3150 - accuracy: 0.8452 - val_loss: 0.2849 - val_accuracy: 0.8593\n",
      "Epoch 43/150\n",
      "257/257 [==============================] - 1s 3ms/step - loss: 0.3128 - accuracy: 0.8554 - val_loss: 0.2841 - val_accuracy: 0.8588\n",
      "Epoch 44/150\n",
      "257/257 [==============================] - 1s 3ms/step - loss: 0.3183 - accuracy: 0.8504 - val_loss: 0.2854 - val_accuracy: 0.8583\n",
      "Epoch 45/150\n",
      "257/257 [==============================] - 1s 3ms/step - loss: 0.3093 - accuracy: 0.8525 - val_loss: 0.2831 - val_accuracy: 0.8598\n",
      "Epoch 46/150\n",
      "257/257 [==============================] - 1s 3ms/step - loss: 0.3142 - accuracy: 0.8528 - val_loss: 0.2824 - val_accuracy: 0.8598\n",
      "Epoch 47/150\n",
      "257/257 [==============================] - 1s 2ms/step - loss: 0.3170 - accuracy: 0.8527 - val_loss: 0.2827 - val_accuracy: 0.8588\n",
      "Epoch 48/150\n",
      "257/257 [==============================] - 1s 2ms/step - loss: 0.3144 - accuracy: 0.8509 - val_loss: 0.2825 - val_accuracy: 0.8593\n",
      "Epoch 49/150\n",
      "257/257 [==============================] - 1s 2ms/step - loss: 0.3147 - accuracy: 0.8471 - val_loss: 0.2828 - val_accuracy: 0.8588\n",
      "Epoch 50/150\n",
      "257/257 [==============================] - 1s 2ms/step - loss: 0.3156 - accuracy: 0.8482 - val_loss: 0.2834 - val_accuracy: 0.8598\n",
      "Epoch 51/150\n",
      "257/257 [==============================] - 1s 2ms/step - loss: 0.3162 - accuracy: 0.8479 - val_loss: 0.2828 - val_accuracy: 0.8593\n",
      "Epoch 52/150\n",
      "257/257 [==============================] - 1s 2ms/step - loss: 0.3142 - accuracy: 0.8474 - val_loss: 0.2837 - val_accuracy: 0.8593\n",
      "Epoch 53/150\n",
      "257/257 [==============================] - 1s 2ms/step - loss: 0.3126 - accuracy: 0.8502 - val_loss: 0.2825 - val_accuracy: 0.8593\n",
      "Epoch 54/150\n",
      "257/257 [==============================] - 0s 2ms/step - loss: 0.3153 - accuracy: 0.8480 - val_loss: 0.2821 - val_accuracy: 0.8593\n",
      "Epoch 55/150\n",
      "257/257 [==============================] - 1s 2ms/step - loss: 0.3113 - accuracy: 0.8490 - val_loss: 0.2817 - val_accuracy: 0.8588\n",
      "Epoch 56/150\n",
      "257/257 [==============================] - 0s 2ms/step - loss: 0.3160 - accuracy: 0.8526 - val_loss: 0.2816 - val_accuracy: 0.8588\n",
      "Epoch 57/150\n",
      "257/257 [==============================] - 0s 2ms/step - loss: 0.3150 - accuracy: 0.8449 - val_loss: 0.2813 - val_accuracy: 0.8588\n"
     ]
    },
    {
     "name": "stdout",
     "output_type": "stream",
     "text": [
      "Epoch 58/150\n",
      " 97/257 [==========>...................] - ETA: 0s - loss: 0.3052 - accuracy: 0.8531"
     ]
    }
   ],
   "source": [
    "early_stopping = callbacks.EarlyStopping(\n",
    "    min_delta=0.001, # minimium amount of change to count as an improvement\n",
    "    patience=20, # how many epochs to wait before stopping\n",
    "    restore_best_weights=True,\n",
    ")\n",
    "\n",
    "# Initialising\n",
    "model = Sequential()\n",
    "\n",
    "model.add(Dense(units = 32, kernel_initializer = 'uniform', activation = 'relu', input_dim = 4))\n",
    "model.add(Dense(units = 32, kernel_initializer = 'uniform', activation = 'relu'))\n",
    "model.add(Dense(units = 16, kernel_initializer = 'uniform', activation = 'relu'))\n",
    "model.add(Dropout(0.25))\n",
    "model.add(Dense(units = 8, kernel_initializer = 'uniform', activation = 'relu'))\n",
    "model.add(Dropout(0.5))\n",
    "model.add(Dense(units = 1, kernel_initializer = 'uniform', activation = 'sigmoid'))\n",
    "\n",
    "# Compiling \n",
    "opt = Adam(learning_rate=0.00009)\n",
    "model.compile(optimizer = opt, loss = 'binary_crossentropy', metrics = ['accuracy'])\n",
    "\n",
    "# Train \n",
    "history = model.fit(xtrain, ytrain, batch_size = 32, epochs = 150, callbacks=[early_stopping], validation_split=0.2)"
   ]
  },
  {
   "cell_type": "code",
   "execution_count": null,
   "id": "70b010ee",
   "metadata": {},
   "outputs": [],
   "source": [
    "h=history\n",
    "plt.figure(figsize=(15,5))\n",
    "plt.subplot(1,2,1)\n",
    "plt.plot(h.history['accuracy'], 'o-', label='train accuracy')\n",
    "plt.plot(h.history['val_accuracy'], 'o-', label = 'validation accuracy')\n",
    "plt.xlabel('Epoch')\n",
    "plt.ylabel('Accuracy')\n",
    "plt.grid(True)\n",
    "plt.legend(loc='lower right')\n",
    "\n",
    "plt.subplot(1,2,2)\n",
    "plt.plot(h.history['loss'], 'o-', label='train loss')\n",
    "plt.plot(h.history['val_loss'], 'o-', label='validation loss')\n",
    "plt.xlabel('Epoch')\n",
    "plt.ylabel('Loss')\n",
    "plt.grid(True)\n",
    "plt.legend(loc='upper right')\n",
    "\n",
    "plt.show()"
   ]
  },
  {
   "cell_type": "code",
   "execution_count": null,
   "id": "f13e6131",
   "metadata": {},
   "outputs": [],
   "source": [
    "test_loss, test_acc = model.evaluate(xtest, ytest)\n",
    "print('\\nTest Accuracy:', test_acc)\n",
    "print('\\nTest Loss:', test_loss)"
   ]
  },
  {
   "cell_type": "code",
   "execution_count": null,
   "id": "6367de5b",
   "metadata": {},
   "outputs": [],
   "source": []
  },
  {
   "cell_type": "markdown",
   "id": "6abbf913",
   "metadata": {},
   "source": [
    "## Linear Regression"
   ]
  },
  {
   "cell_type": "code",
   "execution_count": null,
   "id": "ac47e60f",
   "metadata": {},
   "outputs": [],
   "source": [
    "reg = linear_model.LinearRegression()\n",
    "  \n",
    "# train the model using the training sets\n",
    "reg.fit(xtrain, ytrain)\n",
    "  \n",
    "\n",
    " "
   ]
  },
  {
   "cell_type": "code",
   "execution_count": null,
   "id": "2bb239fc",
   "metadata": {},
   "outputs": [],
   "source": [
    "# regression coefficients\n",
    "print('Coefficients: ', reg.coef_)\n",
    "  \n",
    "# variance score: 1 means perfect prediction\n",
    "print('Variance score: {}'.format(reg.score(xtest, ytest)))"
   ]
  },
  {
   "cell_type": "code",
   "execution_count": null,
   "id": "144bf334",
   "metadata": {},
   "outputs": [],
   "source": [
    "m=reg.predict(xtest)\n",
    "# Convert the dictionary into DataFrame\n",
    "pdf = pd.DataFrame(yy_test)\n",
    " \n",
    "# Using DataFrame.insert() to add a column\n",
    "pdf.insert(0, \"prediction\",m, True)\n",
    " \n",
    "# Observe the result\n",
    "print(pdf)"
   ]
  }
 ],
 "metadata": {
  "kernelspec": {
   "display_name": "cvpr tf2.3 py3.8",
   "language": "python",
   "name": "cvpr"
  },
  "language_info": {
   "codemirror_mode": {
    "name": "ipython",
    "version": 3
   },
   "file_extension": ".py",
   "mimetype": "text/x-python",
   "name": "python",
   "nbconvert_exporter": "python",
   "pygments_lexer": "ipython3",
   "version": "3.8.10"
  }
 },
 "nbformat": 4,
 "nbformat_minor": 5
}
