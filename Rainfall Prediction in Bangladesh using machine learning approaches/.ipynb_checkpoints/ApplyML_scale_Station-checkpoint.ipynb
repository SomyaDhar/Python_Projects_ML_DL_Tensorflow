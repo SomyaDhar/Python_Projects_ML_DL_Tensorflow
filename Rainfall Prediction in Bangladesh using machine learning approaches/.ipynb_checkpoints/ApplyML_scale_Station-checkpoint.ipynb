{
 "cells": [
  {
   "cell_type": "code",
   "execution_count": 1,
   "id": "93dee11d",
   "metadata": {},
   "outputs": [],
   "source": [
    "import pandas as pd\n",
    "import numpy as np\n",
    "import matplotlib.pyplot as plt\n",
    "import tensorflow as tf\n",
    "from sklearn.model_selection import train_test_split\n",
    "from sklearn.ensemble import RandomForestClassifier\n",
    "from sklearn.metrics import accuracy_score\n",
    "import datetime\n",
    "from sklearn.preprocessing import LabelEncoder\n",
    "from sklearn import preprocessing\n",
    "from sklearn.preprocessing import StandardScaler\n",
    "from sklearn.model_selection import train_test_split\n",
    "import seaborn as sns\n",
    "from keras.layers import Dense, BatchNormalization, Dropout, LSTM\n",
    "from keras.models import Sequential\n",
    "from keras.utils import to_categorical\n",
    "from keras.optimizers import Adam\n",
    "from tensorflow.keras import regularizers\n",
    "from sklearn.metrics import precision_score, recall_score, confusion_matrix, classification_report, accuracy_score, f1_score\n",
    "from keras import callbacks\n",
    "from sklearn.naive_bayes import GaussianNB\n",
    "from sklearn import metrics\n",
    "np.random.seed(0)"
   ]
  },
  {
   "cell_type": "code",
   "execution_count": 2,
   "id": "01dbe09e",
   "metadata": {},
   "outputs": [],
   "source": [
    "df = pd.read_csv('observedDataset1.csv')"
   ]
  },
  {
   "cell_type": "code",
   "execution_count": 3,
   "id": "71030a47",
   "metadata": {},
   "outputs": [
    {
     "data": {
      "text/html": [
       "<div>\n",
       "<style scoped>\n",
       "    .dataframe tbody tr th:only-of-type {\n",
       "        vertical-align: middle;\n",
       "    }\n",
       "\n",
       "    .dataframe tbody tr th {\n",
       "        vertical-align: top;\n",
       "    }\n",
       "\n",
       "    .dataframe thead th {\n",
       "        text-align: right;\n",
       "    }\n",
       "</style>\n",
       "<table border=\"1\" class=\"dataframe\">\n",
       "  <thead>\n",
       "    <tr style=\"text-align: right;\">\n",
       "      <th></th>\n",
       "      <th>Unnamed: 0</th>\n",
       "      <th>stationID</th>\n",
       "      <th>Days</th>\n",
       "      <th>observedTempMax</th>\n",
       "      <th>observedTempMin</th>\n",
       "      <th>observedHumidity</th>\n",
       "      <th>observedPressure</th>\n",
       "      <th>observedWind</th>\n",
       "      <th>observedRainfallcatagorical</th>\n",
       "    </tr>\n",
       "  </thead>\n",
       "  <tbody>\n",
       "    <tr>\n",
       "      <th>0</th>\n",
       "      <td>0</td>\n",
       "      <td>10120</td>\n",
       "      <td>1</td>\n",
       "      <td>23.182051</td>\n",
       "      <td>10.735897</td>\n",
       "      <td>77.586207</td>\n",
       "      <td>1016.255172</td>\n",
       "      <td>3.968966</td>\n",
       "      <td>0.0</td>\n",
       "    </tr>\n",
       "    <tr>\n",
       "      <th>1</th>\n",
       "      <td>1</td>\n",
       "      <td>10120</td>\n",
       "      <td>2</td>\n",
       "      <td>22.997436</td>\n",
       "      <td>10.738462</td>\n",
       "      <td>78.655172</td>\n",
       "      <td>1016.424138</td>\n",
       "      <td>4.017241</td>\n",
       "      <td>0.0</td>\n",
       "    </tr>\n",
       "    <tr>\n",
       "      <th>2</th>\n",
       "      <td>2</td>\n",
       "      <td>10120</td>\n",
       "      <td>3</td>\n",
       "      <td>22.276923</td>\n",
       "      <td>10.566667</td>\n",
       "      <td>80.551724</td>\n",
       "      <td>1016.227586</td>\n",
       "      <td>4.306897</td>\n",
       "      <td>0.0</td>\n",
       "    </tr>\n",
       "    <tr>\n",
       "      <th>3</th>\n",
       "      <td>3</td>\n",
       "      <td>10120</td>\n",
       "      <td>4</td>\n",
       "      <td>22.115385</td>\n",
       "      <td>10.712821</td>\n",
       "      <td>79.862069</td>\n",
       "      <td>1016.027586</td>\n",
       "      <td>4.234483</td>\n",
       "      <td>1.0</td>\n",
       "    </tr>\n",
       "    <tr>\n",
       "      <th>4</th>\n",
       "      <td>4</td>\n",
       "      <td>10120</td>\n",
       "      <td>5</td>\n",
       "      <td>22.325641</td>\n",
       "      <td>10.274359</td>\n",
       "      <td>79.758621</td>\n",
       "      <td>1015.627586</td>\n",
       "      <td>4.434483</td>\n",
       "      <td>0.0</td>\n",
       "    </tr>\n",
       "  </tbody>\n",
       "</table>\n",
       "</div>"
      ],
      "text/plain": [
       "   Unnamed: 0  stationID  Days  observedTempMax  observedTempMin  \\\n",
       "0           0      10120     1        23.182051        10.735897   \n",
       "1           1      10120     2        22.997436        10.738462   \n",
       "2           2      10120     3        22.276923        10.566667   \n",
       "3           3      10120     4        22.115385        10.712821   \n",
       "4           4      10120     5        22.325641        10.274359   \n",
       "\n",
       "   observedHumidity  observedPressure  observedWind  \\\n",
       "0         77.586207       1016.255172      3.968966   \n",
       "1         78.655172       1016.424138      4.017241   \n",
       "2         80.551724       1016.227586      4.306897   \n",
       "3         79.862069       1016.027586      4.234483   \n",
       "4         79.758621       1015.627586      4.434483   \n",
       "\n",
       "   observedRainfallcatagorical  \n",
       "0                          0.0  \n",
       "1                          0.0  \n",
       "2                          0.0  \n",
       "3                          1.0  \n",
       "4                          0.0  "
      ]
     },
     "execution_count": 3,
     "metadata": {},
     "output_type": "execute_result"
    }
   ],
   "source": [
    "df.head()"
   ]
  },
  {
   "cell_type": "code",
   "execution_count": 4,
   "id": "0c86a81b",
   "metadata": {},
   "outputs": [],
   "source": [
    "df.drop(\"Unnamed: 0\", axis=1, inplace=True)"
   ]
  },
  {
   "cell_type": "code",
   "execution_count": 5,
   "id": "ca6e26f5",
   "metadata": {},
   "outputs": [
    {
     "data": {
      "text/plain": [
       "(12838, 9)"
      ]
     },
     "execution_count": 5,
     "metadata": {},
     "output_type": "execute_result"
    }
   ],
   "source": [
    "df = df.reset_index()\n",
    "df.shape"
   ]
  },
  {
   "cell_type": "code",
   "execution_count": 6,
   "id": "c516d3ad",
   "metadata": {},
   "outputs": [
    {
     "data": {
      "text/plain": [
       "Index(['index', 'stationID', 'Days', 'observedTempMax', 'observedTempMin',\n",
       "       'observedHumidity', 'observedPressure', 'observedWind',\n",
       "       'observedRainfallcatagorical'],\n",
       "      dtype='object')"
      ]
     },
     "execution_count": 6,
     "metadata": {},
     "output_type": "execute_result"
    }
   ],
   "source": [
    "df.columns"
   ]
  },
  {
   "cell_type": "code",
   "execution_count": 7,
   "id": "b2737793",
   "metadata": {},
   "outputs": [
    {
     "data": {
      "text/plain": [
       "1.0    9660\n",
       "0.0    3150\n",
       "Name: observedRainfallcatagorical, dtype: int64"
      ]
     },
     "execution_count": 7,
     "metadata": {},
     "output_type": "execute_result"
    }
   ],
   "source": [
    "df['observedRainfallcatagorical'].value_counts()"
   ]
  },
  {
   "cell_type": "code",
   "execution_count": 8,
   "id": "8b0b1a87",
   "metadata": {},
   "outputs": [],
   "source": [
    "df['observedRainfallcatagorical'].fillna(method='ffill',inplace=True,axis=0)"
   ]
  },
  {
   "cell_type": "code",
   "execution_count": 9,
   "id": "4f0f40c5",
   "metadata": {},
   "outputs": [
    {
     "data": {
      "text/plain": [
       "1.0    9660\n",
       "0.0    3178\n",
       "Name: observedRainfallcatagorical, dtype: int64"
      ]
     },
     "execution_count": 9,
     "metadata": {},
     "output_type": "execute_result"
    }
   ],
   "source": [
    "df['observedRainfallcatagorical'].value_counts()"
   ]
  },
  {
   "cell_type": "code",
   "execution_count": 10,
   "id": "3017036e",
   "metadata": {},
   "outputs": [],
   "source": [
    "df['observedHumidity'].fillna(method='ffill',inplace=True,axis=0)"
   ]
  },
  {
   "cell_type": "code",
   "execution_count": 11,
   "id": "82a16178",
   "metadata": {},
   "outputs": [],
   "source": [
    "df['observedPressure'].fillna(method='ffill',inplace=True,axis=0)"
   ]
  },
  {
   "cell_type": "code",
   "execution_count": 12,
   "id": "39c2dc57",
   "metadata": {},
   "outputs": [],
   "source": [
    "df['observedWind'].fillna(method='ffill',inplace=True,axis=0)"
   ]
  },
  {
   "cell_type": "code",
   "execution_count": 13,
   "id": "5651a0c7",
   "metadata": {},
   "outputs": [
    {
     "data": {
      "text/html": [
       "<div>\n",
       "<style scoped>\n",
       "    .dataframe tbody tr th:only-of-type {\n",
       "        vertical-align: middle;\n",
       "    }\n",
       "\n",
       "    .dataframe tbody tr th {\n",
       "        vertical-align: top;\n",
       "    }\n",
       "\n",
       "    .dataframe thead th {\n",
       "        text-align: right;\n",
       "    }\n",
       "</style>\n",
       "<table border=\"1\" class=\"dataframe\">\n",
       "  <thead>\n",
       "    <tr style=\"text-align: right;\">\n",
       "      <th></th>\n",
       "      <th>index</th>\n",
       "      <th>stationID</th>\n",
       "      <th>Days</th>\n",
       "      <th>observedTempMax</th>\n",
       "      <th>observedTempMin</th>\n",
       "      <th>observedHumidity</th>\n",
       "      <th>observedPressure</th>\n",
       "      <th>observedWind</th>\n",
       "      <th>observedRainfallcatagorical</th>\n",
       "    </tr>\n",
       "  </thead>\n",
       "  <tbody>\n",
       "    <tr>\n",
       "      <th>index</th>\n",
       "      <td>1.000000</td>\n",
       "      <td>0.647520</td>\n",
       "      <td>0.023068</td>\n",
       "      <td>0.025073</td>\n",
       "      <td>0.083333</td>\n",
       "      <td>0.149878</td>\n",
       "      <td>0.023271</td>\n",
       "      <td>0.202868</td>\n",
       "      <td>0.027784</td>\n",
       "    </tr>\n",
       "    <tr>\n",
       "      <th>stationID</th>\n",
       "      <td>0.647520</td>\n",
       "      <td>1.000000</td>\n",
       "      <td>-0.008462</td>\n",
       "      <td>0.042371</td>\n",
       "      <td>-0.000458</td>\n",
       "      <td>0.009811</td>\n",
       "      <td>-0.006394</td>\n",
       "      <td>0.387652</td>\n",
       "      <td>0.000351</td>\n",
       "    </tr>\n",
       "    <tr>\n",
       "      <th>Days</th>\n",
       "      <td>0.023068</td>\n",
       "      <td>-0.008462</td>\n",
       "      <td>1.000000</td>\n",
       "      <td>0.045088</td>\n",
       "      <td>0.205650</td>\n",
       "      <td>0.437585</td>\n",
       "      <td>-0.072143</td>\n",
       "      <td>-0.266540</td>\n",
       "      <td>0.035526</td>\n",
       "    </tr>\n",
       "    <tr>\n",
       "      <th>observedTempMax</th>\n",
       "      <td>0.025073</td>\n",
       "      <td>0.042371</td>\n",
       "      <td>0.045088</td>\n",
       "      <td>1.000000</td>\n",
       "      <td>0.866812</td>\n",
       "      <td>0.221166</td>\n",
       "      <td>-0.634708</td>\n",
       "      <td>0.298645</td>\n",
       "      <td>0.651053</td>\n",
       "    </tr>\n",
       "    <tr>\n",
       "      <th>observedTempMin</th>\n",
       "      <td>0.083333</td>\n",
       "      <td>-0.000458</td>\n",
       "      <td>0.205650</td>\n",
       "      <td>0.866812</td>\n",
       "      <td>1.000000</td>\n",
       "      <td>0.571570</td>\n",
       "      <td>-0.785690</td>\n",
       "      <td>0.286132</td>\n",
       "      <td>0.714239</td>\n",
       "    </tr>\n",
       "    <tr>\n",
       "      <th>observedHumidity</th>\n",
       "      <td>0.149878</td>\n",
       "      <td>0.009811</td>\n",
       "      <td>0.437585</td>\n",
       "      <td>0.221166</td>\n",
       "      <td>0.571570</td>\n",
       "      <td>1.000000</td>\n",
       "      <td>-0.532134</td>\n",
       "      <td>0.005046</td>\n",
       "      <td>0.366324</td>\n",
       "    </tr>\n",
       "    <tr>\n",
       "      <th>observedPressure</th>\n",
       "      <td>0.023271</td>\n",
       "      <td>-0.006394</td>\n",
       "      <td>-0.072143</td>\n",
       "      <td>-0.634708</td>\n",
       "      <td>-0.785690</td>\n",
       "      <td>-0.532134</td>\n",
       "      <td>1.000000</td>\n",
       "      <td>-0.299707</td>\n",
       "      <td>-0.576958</td>\n",
       "    </tr>\n",
       "    <tr>\n",
       "      <th>observedWind</th>\n",
       "      <td>0.202868</td>\n",
       "      <td>0.387652</td>\n",
       "      <td>-0.266540</td>\n",
       "      <td>0.298645</td>\n",
       "      <td>0.286132</td>\n",
       "      <td>0.005046</td>\n",
       "      <td>-0.299707</td>\n",
       "      <td>1.000000</td>\n",
       "      <td>0.250445</td>\n",
       "    </tr>\n",
       "    <tr>\n",
       "      <th>observedRainfallcatagorical</th>\n",
       "      <td>0.027784</td>\n",
       "      <td>0.000351</td>\n",
       "      <td>0.035526</td>\n",
       "      <td>0.651053</td>\n",
       "      <td>0.714239</td>\n",
       "      <td>0.366324</td>\n",
       "      <td>-0.576958</td>\n",
       "      <td>0.250445</td>\n",
       "      <td>1.000000</td>\n",
       "    </tr>\n",
       "  </tbody>\n",
       "</table>\n",
       "</div>"
      ],
      "text/plain": [
       "                                index  stationID      Days  observedTempMax  \\\n",
       "index                        1.000000   0.647520  0.023068         0.025073   \n",
       "stationID                    0.647520   1.000000 -0.008462         0.042371   \n",
       "Days                         0.023068  -0.008462  1.000000         0.045088   \n",
       "observedTempMax              0.025073   0.042371  0.045088         1.000000   \n",
       "observedTempMin              0.083333  -0.000458  0.205650         0.866812   \n",
       "observedHumidity             0.149878   0.009811  0.437585         0.221166   \n",
       "observedPressure             0.023271  -0.006394 -0.072143        -0.634708   \n",
       "observedWind                 0.202868   0.387652 -0.266540         0.298645   \n",
       "observedRainfallcatagorical  0.027784   0.000351  0.035526         0.651053   \n",
       "\n",
       "                             observedTempMin  observedHumidity  \\\n",
       "index                               0.083333          0.149878   \n",
       "stationID                          -0.000458          0.009811   \n",
       "Days                                0.205650          0.437585   \n",
       "observedTempMax                     0.866812          0.221166   \n",
       "observedTempMin                     1.000000          0.571570   \n",
       "observedHumidity                    0.571570          1.000000   \n",
       "observedPressure                   -0.785690         -0.532134   \n",
       "observedWind                        0.286132          0.005046   \n",
       "observedRainfallcatagorical         0.714239          0.366324   \n",
       "\n",
       "                             observedPressure  observedWind  \\\n",
       "index                                0.023271      0.202868   \n",
       "stationID                           -0.006394      0.387652   \n",
       "Days                                -0.072143     -0.266540   \n",
       "observedTempMax                     -0.634708      0.298645   \n",
       "observedTempMin                     -0.785690      0.286132   \n",
       "observedHumidity                    -0.532134      0.005046   \n",
       "observedPressure                     1.000000     -0.299707   \n",
       "observedWind                        -0.299707      1.000000   \n",
       "observedRainfallcatagorical         -0.576958      0.250445   \n",
       "\n",
       "                             observedRainfallcatagorical  \n",
       "index                                           0.027784  \n",
       "stationID                                       0.000351  \n",
       "Days                                            0.035526  \n",
       "observedTempMax                                 0.651053  \n",
       "observedTempMin                                 0.714239  \n",
       "observedHumidity                                0.366324  \n",
       "observedPressure                               -0.576958  \n",
       "observedWind                                    0.250445  \n",
       "observedRainfallcatagorical                     1.000000  "
      ]
     },
     "execution_count": 13,
     "metadata": {},
     "output_type": "execute_result"
    }
   ],
   "source": [
    "df.corr()"
   ]
  },
  {
   "cell_type": "code",
   "execution_count": 14,
   "id": "edbbb283",
   "metadata": {},
   "outputs": [
    {
     "data": {
      "text/html": [
       "<div>\n",
       "<style scoped>\n",
       "    .dataframe tbody tr th:only-of-type {\n",
       "        vertical-align: middle;\n",
       "    }\n",
       "\n",
       "    .dataframe tbody tr th {\n",
       "        vertical-align: top;\n",
       "    }\n",
       "\n",
       "    .dataframe thead th {\n",
       "        text-align: right;\n",
       "    }\n",
       "</style>\n",
       "<table border=\"1\" class=\"dataframe\">\n",
       "  <thead>\n",
       "    <tr style=\"text-align: right;\">\n",
       "      <th></th>\n",
       "      <th>observedTempMax</th>\n",
       "      <th>observedTempMin</th>\n",
       "      <th>observedHumidity</th>\n",
       "      <th>observedPressure</th>\n",
       "      <th>observedWind</th>\n",
       "    </tr>\n",
       "  </thead>\n",
       "  <tbody>\n",
       "    <tr>\n",
       "      <th>0</th>\n",
       "      <td>23.182051</td>\n",
       "      <td>10.735897</td>\n",
       "      <td>77.586207</td>\n",
       "      <td>1016.255172</td>\n",
       "      <td>3.968966</td>\n",
       "    </tr>\n",
       "    <tr>\n",
       "      <th>1</th>\n",
       "      <td>22.997436</td>\n",
       "      <td>10.738462</td>\n",
       "      <td>78.655172</td>\n",
       "      <td>1016.424138</td>\n",
       "      <td>4.017241</td>\n",
       "    </tr>\n",
       "    <tr>\n",
       "      <th>2</th>\n",
       "      <td>22.276923</td>\n",
       "      <td>10.566667</td>\n",
       "      <td>80.551724</td>\n",
       "      <td>1016.227586</td>\n",
       "      <td>4.306897</td>\n",
       "    </tr>\n",
       "    <tr>\n",
       "      <th>3</th>\n",
       "      <td>22.115385</td>\n",
       "      <td>10.712821</td>\n",
       "      <td>79.862069</td>\n",
       "      <td>1016.027586</td>\n",
       "      <td>4.234483</td>\n",
       "    </tr>\n",
       "    <tr>\n",
       "      <th>4</th>\n",
       "      <td>22.325641</td>\n",
       "      <td>10.274359</td>\n",
       "      <td>79.758621</td>\n",
       "      <td>1015.627586</td>\n",
       "      <td>4.434483</td>\n",
       "    </tr>\n",
       "    <tr>\n",
       "      <th>...</th>\n",
       "      <td>...</td>\n",
       "      <td>...</td>\n",
       "      <td>...</td>\n",
       "      <td>...</td>\n",
       "      <td>...</td>\n",
       "    </tr>\n",
       "    <tr>\n",
       "      <th>12833</th>\n",
       "      <td>26.633333</td>\n",
       "      <td>14.795238</td>\n",
       "      <td>67.000000</td>\n",
       "      <td>1014.000000</td>\n",
       "      <td>2.033333</td>\n",
       "    </tr>\n",
       "    <tr>\n",
       "      <th>12834</th>\n",
       "      <td>27.047619</td>\n",
       "      <td>14.319048</td>\n",
       "      <td>67.000000</td>\n",
       "      <td>1014.000000</td>\n",
       "      <td>2.033333</td>\n",
       "    </tr>\n",
       "    <tr>\n",
       "      <th>12835</th>\n",
       "      <td>27.414286</td>\n",
       "      <td>14.376190</td>\n",
       "      <td>67.000000</td>\n",
       "      <td>1014.000000</td>\n",
       "      <td>2.033333</td>\n",
       "    </tr>\n",
       "    <tr>\n",
       "      <th>12836</th>\n",
       "      <td>27.314286</td>\n",
       "      <td>14.476190</td>\n",
       "      <td>67.000000</td>\n",
       "      <td>1014.000000</td>\n",
       "      <td>2.033333</td>\n",
       "    </tr>\n",
       "    <tr>\n",
       "      <th>12837</th>\n",
       "      <td>26.900000</td>\n",
       "      <td>13.620000</td>\n",
       "      <td>67.000000</td>\n",
       "      <td>1014.000000</td>\n",
       "      <td>2.033333</td>\n",
       "    </tr>\n",
       "  </tbody>\n",
       "</table>\n",
       "<p>12838 rows × 5 columns</p>\n",
       "</div>"
      ],
      "text/plain": [
       "       observedTempMax  observedTempMin  observedHumidity  observedPressure  \\\n",
       "0            23.182051        10.735897         77.586207       1016.255172   \n",
       "1            22.997436        10.738462         78.655172       1016.424138   \n",
       "2            22.276923        10.566667         80.551724       1016.227586   \n",
       "3            22.115385        10.712821         79.862069       1016.027586   \n",
       "4            22.325641        10.274359         79.758621       1015.627586   \n",
       "...                ...              ...               ...               ...   \n",
       "12833        26.633333        14.795238         67.000000       1014.000000   \n",
       "12834        27.047619        14.319048         67.000000       1014.000000   \n",
       "12835        27.414286        14.376190         67.000000       1014.000000   \n",
       "12836        27.314286        14.476190         67.000000       1014.000000   \n",
       "12837        26.900000        13.620000         67.000000       1014.000000   \n",
       "\n",
       "       observedWind  \n",
       "0          3.968966  \n",
       "1          4.017241  \n",
       "2          4.306897  \n",
       "3          4.234483  \n",
       "4          4.434483  \n",
       "...             ...  \n",
       "12833      2.033333  \n",
       "12834      2.033333  \n",
       "12835      2.033333  \n",
       "12836      2.033333  \n",
       "12837      2.033333  \n",
       "\n",
       "[12838 rows x 5 columns]"
      ]
     },
     "execution_count": 14,
     "metadata": {},
     "output_type": "execute_result"
    }
   ],
   "source": [
    "\n",
    "x = df.iloc[:, 3:8] \n",
    "x"
   ]
  },
  {
   "cell_type": "code",
   "execution_count": 15,
   "id": "a287808d",
   "metadata": {},
   "outputs": [
    {
     "data": {
      "text/html": [
       "<div>\n",
       "<style scoped>\n",
       "    .dataframe tbody tr th:only-of-type {\n",
       "        vertical-align: middle;\n",
       "    }\n",
       "\n",
       "    .dataframe tbody tr th {\n",
       "        vertical-align: top;\n",
       "    }\n",
       "\n",
       "    .dataframe thead th {\n",
       "        text-align: right;\n",
       "    }\n",
       "</style>\n",
       "<table border=\"1\" class=\"dataframe\">\n",
       "  <thead>\n",
       "    <tr style=\"text-align: right;\">\n",
       "      <th></th>\n",
       "      <th>observedRainfallcatagorical</th>\n",
       "    </tr>\n",
       "  </thead>\n",
       "  <tbody>\n",
       "    <tr>\n",
       "      <th>0</th>\n",
       "      <td>0.0</td>\n",
       "    </tr>\n",
       "    <tr>\n",
       "      <th>1</th>\n",
       "      <td>0.0</td>\n",
       "    </tr>\n",
       "    <tr>\n",
       "      <th>2</th>\n",
       "      <td>0.0</td>\n",
       "    </tr>\n",
       "    <tr>\n",
       "      <th>3</th>\n",
       "      <td>1.0</td>\n",
       "    </tr>\n",
       "    <tr>\n",
       "      <th>4</th>\n",
       "      <td>0.0</td>\n",
       "    </tr>\n",
       "    <tr>\n",
       "      <th>...</th>\n",
       "      <td>...</td>\n",
       "    </tr>\n",
       "    <tr>\n",
       "      <th>12833</th>\n",
       "      <td>0.0</td>\n",
       "    </tr>\n",
       "    <tr>\n",
       "      <th>12834</th>\n",
       "      <td>0.0</td>\n",
       "    </tr>\n",
       "    <tr>\n",
       "      <th>12835</th>\n",
       "      <td>0.0</td>\n",
       "    </tr>\n",
       "    <tr>\n",
       "      <th>12836</th>\n",
       "      <td>0.0</td>\n",
       "    </tr>\n",
       "    <tr>\n",
       "      <th>12837</th>\n",
       "      <td>0.0</td>\n",
       "    </tr>\n",
       "  </tbody>\n",
       "</table>\n",
       "<p>12838 rows × 1 columns</p>\n",
       "</div>"
      ],
      "text/plain": [
       "       observedRainfallcatagorical\n",
       "0                              0.0\n",
       "1                              0.0\n",
       "2                              0.0\n",
       "3                              1.0\n",
       "4                              0.0\n",
       "...                            ...\n",
       "12833                          0.0\n",
       "12834                          0.0\n",
       "12835                          0.0\n",
       "12836                          0.0\n",
       "12837                          0.0\n",
       "\n",
       "[12838 rows x 1 columns]"
      ]
     },
     "execution_count": 15,
     "metadata": {},
     "output_type": "execute_result"
    }
   ],
   "source": [
    "y=df.iloc[:, 8:]\n",
    "y"
   ]
  },
  {
   "cell_type": "code",
   "execution_count": 16,
   "id": "f731d999",
   "metadata": {},
   "outputs": [
    {
     "data": {
      "text/html": [
       "<div>\n",
       "<style scoped>\n",
       "    .dataframe tbody tr th:only-of-type {\n",
       "        vertical-align: middle;\n",
       "    }\n",
       "\n",
       "    .dataframe tbody tr th {\n",
       "        vertical-align: top;\n",
       "    }\n",
       "\n",
       "    .dataframe thead th {\n",
       "        text-align: right;\n",
       "    }\n",
       "</style>\n",
       "<table border=\"1\" class=\"dataframe\">\n",
       "  <thead>\n",
       "    <tr style=\"text-align: right;\">\n",
       "      <th></th>\n",
       "      <th>observedTempMax</th>\n",
       "      <th>observedTempMin</th>\n",
       "      <th>observedHumidity</th>\n",
       "      <th>observedPressure</th>\n",
       "      <th>observedWind</th>\n",
       "    </tr>\n",
       "  </thead>\n",
       "  <tbody>\n",
       "    <tr>\n",
       "      <th>observedTempMax</th>\n",
       "      <td>1.000000</td>\n",
       "      <td>0.866812</td>\n",
       "      <td>0.221166</td>\n",
       "      <td>-0.634708</td>\n",
       "      <td>0.298645</td>\n",
       "    </tr>\n",
       "    <tr>\n",
       "      <th>observedTempMin</th>\n",
       "      <td>0.866812</td>\n",
       "      <td>1.000000</td>\n",
       "      <td>0.571570</td>\n",
       "      <td>-0.785690</td>\n",
       "      <td>0.286132</td>\n",
       "    </tr>\n",
       "    <tr>\n",
       "      <th>observedHumidity</th>\n",
       "      <td>0.221166</td>\n",
       "      <td>0.571570</td>\n",
       "      <td>1.000000</td>\n",
       "      <td>-0.532134</td>\n",
       "      <td>0.005046</td>\n",
       "    </tr>\n",
       "    <tr>\n",
       "      <th>observedPressure</th>\n",
       "      <td>-0.634708</td>\n",
       "      <td>-0.785690</td>\n",
       "      <td>-0.532134</td>\n",
       "      <td>1.000000</td>\n",
       "      <td>-0.299707</td>\n",
       "    </tr>\n",
       "    <tr>\n",
       "      <th>observedWind</th>\n",
       "      <td>0.298645</td>\n",
       "      <td>0.286132</td>\n",
       "      <td>0.005046</td>\n",
       "      <td>-0.299707</td>\n",
       "      <td>1.000000</td>\n",
       "    </tr>\n",
       "  </tbody>\n",
       "</table>\n",
       "</div>"
      ],
      "text/plain": [
       "                  observedTempMax  observedTempMin  observedHumidity  \\\n",
       "observedTempMax          1.000000         0.866812          0.221166   \n",
       "observedTempMin          0.866812         1.000000          0.571570   \n",
       "observedHumidity         0.221166         0.571570          1.000000   \n",
       "observedPressure        -0.634708        -0.785690         -0.532134   \n",
       "observedWind             0.298645         0.286132          0.005046   \n",
       "\n",
       "                  observedPressure  observedWind  \n",
       "observedTempMax          -0.634708      0.298645  \n",
       "observedTempMin          -0.785690      0.286132  \n",
       "observedHumidity         -0.532134      0.005046  \n",
       "observedPressure          1.000000     -0.299707  \n",
       "observedWind             -0.299707      1.000000  "
      ]
     },
     "execution_count": 16,
     "metadata": {},
     "output_type": "execute_result"
    }
   ],
   "source": [
    "x.corr()"
   ]
  },
  {
   "cell_type": "code",
   "execution_count": 17,
   "id": "633c83e1",
   "metadata": {},
   "outputs": [],
   "source": [
    "x_train,x_test,y_train,y_test = train_test_split(x,y,test_size=0.3,random_state=1)\n"
   ]
  },
  {
   "cell_type": "code",
   "execution_count": 18,
   "id": "cd6a7844",
   "metadata": {},
   "outputs": [
    {
     "data": {
      "text/plain": [
       "(8986, 5)"
      ]
     },
     "execution_count": 18,
     "metadata": {},
     "output_type": "execute_result"
    }
   ],
   "source": [
    "x_train.shape"
   ]
  },
  {
   "cell_type": "code",
   "execution_count": 19,
   "id": "db77d4f8",
   "metadata": {},
   "outputs": [
    {
     "data": {
      "text/plain": [
       "(8986, 1)"
      ]
     },
     "execution_count": 19,
     "metadata": {},
     "output_type": "execute_result"
    }
   ],
   "source": [
    "y_train.shape"
   ]
  },
  {
   "cell_type": "code",
   "execution_count": 20,
   "id": "ebea7e41",
   "metadata": {},
   "outputs": [
    {
     "data": {
      "text/plain": [
       "(3852, 5)"
      ]
     },
     "execution_count": 20,
     "metadata": {},
     "output_type": "execute_result"
    }
   ],
   "source": [
    "x_test.shape"
   ]
  },
  {
   "cell_type": "markdown",
   "id": "2cff82be",
   "metadata": {},
   "source": [
    "## Decision trees( Random forest classifier)"
   ]
  },
  {
   "cell_type": "code",
   "execution_count": 21,
   "id": "a9a078cd",
   "metadata": {},
   "outputs": [
    {
     "name": "stderr",
     "output_type": "stream",
     "text": [
      "<ipython-input-21-1c5c579ef9c9>:2: DataConversionWarning: A column-vector y was passed when a 1d array was expected. Please change the shape of y to (n_samples,), for example using ravel().\n",
      "  h=RF.fit(x_train,y_train)\n"
     ]
    }
   ],
   "source": [
    "RF = RandomForestClassifier(max_depth=32,n_estimators=120,random_state=1)\n",
    "h=RF.fit(x_train,y_train)\n",
    "y_pred = RF.predict(x_test)"
   ]
  },
  {
   "cell_type": "code",
   "execution_count": 22,
   "id": "55ec70f9",
   "metadata": {},
   "outputs": [
    {
     "data": {
      "text/plain": [
       "0.8917445482866043"
      ]
     },
     "execution_count": 22,
     "metadata": {},
     "output_type": "execute_result"
    }
   ],
   "source": [
    "accuracy_score(y_test, y_pred)"
   ]
  },
  {
   "cell_type": "code",
   "execution_count": 23,
   "id": "6e8aa61a",
   "metadata": {},
   "outputs": [
    {
     "data": {
      "text/plain": [
       "array([0.20614132, 0.31080217, 0.11090505, 0.28331368, 0.08883778])"
      ]
     },
     "execution_count": 23,
     "metadata": {},
     "output_type": "execute_result"
    }
   ],
   "source": [
    "RF.feature_importances_"
   ]
  },
  {
   "cell_type": "markdown",
   "id": "b9477312",
   "metadata": {},
   "source": [
    "## Gaussian Naive Bayes"
   ]
  },
  {
   "cell_type": "code",
   "execution_count": 24,
   "id": "4b246004",
   "metadata": {
    "scrolled": true
   },
   "outputs": [
    {
     "name": "stderr",
     "output_type": "stream",
     "text": [
      "C:\\Users\\shomy\\anaconda3\\envs\\cvpr\\lib\\site-packages\\sklearn\\utils\\validation.py:63: DataConversionWarning: A column-vector y was passed when a 1d array was expected. Please change the shape of y to (n_samples, ), for example using ravel().\n",
      "  return f(*args, **kwargs)\n"
     ]
    }
   ],
   "source": [
    "nb=GaussianNB()\n",
    "\n",
    "nb.fit(x_train,y_train)\n",
    "\n",
    "y_pred=nb.predict(x_test)"
   ]
  },
  {
   "cell_type": "code",
   "execution_count": 25,
   "id": "3f352533",
   "metadata": {},
   "outputs": [
    {
     "data": {
      "text/plain": [
       "0.8712357217030114"
      ]
     },
     "execution_count": 25,
     "metadata": {},
     "output_type": "execute_result"
    }
   ],
   "source": [
    "metrics.accuracy_score(y_test,y_pred)"
   ]
  },
  {
   "cell_type": "markdown",
   "id": "fd1cc954",
   "metadata": {},
   "source": [
    "## Artificial neural network"
   ]
  },
  {
   "cell_type": "code",
   "execution_count": 26,
   "id": "d0a7cd65",
   "metadata": {},
   "outputs": [
    {
     "name": "stdout",
     "output_type": "stream",
     "text": [
      "Epoch 1/150\n",
      "225/225 [==============================] - 1s 2ms/step - loss: 0.6756 - accuracy: 0.7468 - val_loss: 0.6139 - val_accuracy: 0.7553\n",
      "Epoch 2/150\n",
      "225/225 [==============================] - 0s 1ms/step - loss: 0.5958 - accuracy: 0.7507 - val_loss: 0.5631 - val_accuracy: 0.7553\n",
      "Epoch 3/150\n",
      "225/225 [==============================] - 0s 2ms/step - loss: 0.5875 - accuracy: 0.7507 - val_loss: 0.5594 - val_accuracy: 0.7553\n",
      "Epoch 4/150\n",
      "225/225 [==============================] - 0s 1ms/step - loss: 0.5812 - accuracy: 0.7507 - val_loss: 0.5582 - val_accuracy: 0.7553\n",
      "Epoch 5/150\n",
      "225/225 [==============================] - 0s 1ms/step - loss: 0.5853 - accuracy: 0.7507 - val_loss: 0.5583 - val_accuracy: 0.7553\n",
      "Epoch 6/150\n",
      "225/225 [==============================] - 0s 2ms/step - loss: 0.5801 - accuracy: 0.7507 - val_loss: 0.5580 - val_accuracy: 0.7553\n",
      "Epoch 7/150\n",
      "225/225 [==============================] - 0s 2ms/step - loss: 0.5792 - accuracy: 0.7507 - val_loss: 0.5547 - val_accuracy: 0.7553\n",
      "Epoch 8/150\n",
      "225/225 [==============================] - 0s 1ms/step - loss: 0.5806 - accuracy: 0.7507 - val_loss: 0.5564 - val_accuracy: 0.7553\n",
      "Epoch 9/150\n",
      "225/225 [==============================] - 0s 2ms/step - loss: 0.5795 - accuracy: 0.7507 - val_loss: 0.5536 - val_accuracy: 0.7553\n",
      "Epoch 10/150\n",
      "225/225 [==============================] - 0s 1ms/step - loss: 0.5812 - accuracy: 0.7507 - val_loss: 0.5551 - val_accuracy: 0.7553\n",
      "Epoch 11/150\n",
      "225/225 [==============================] - 0s 1ms/step - loss: 0.5804 - accuracy: 0.7507 - val_loss: 0.5550 - val_accuracy: 0.7553\n",
      "Epoch 12/150\n",
      "225/225 [==============================] - 0s 1ms/step - loss: 0.5751 - accuracy: 0.7507 - val_loss: 0.5551 - val_accuracy: 0.7553\n",
      "Epoch 13/150\n",
      "225/225 [==============================] - 0s 1ms/step - loss: 0.5730 - accuracy: 0.7507 - val_loss: 0.5541 - val_accuracy: 0.7553\n",
      "Epoch 14/150\n",
      "225/225 [==============================] - 0s 2ms/step - loss: 0.5727 - accuracy: 0.7507 - val_loss: 0.5514 - val_accuracy: 0.7553\n",
      "Epoch 15/150\n",
      "225/225 [==============================] - 0s 1ms/step - loss: 0.5742 - accuracy: 0.7507 - val_loss: 0.5544 - val_accuracy: 0.7553\n",
      "Epoch 16/150\n",
      "225/225 [==============================] - 0s 2ms/step - loss: 0.5736 - accuracy: 0.7507 - val_loss: 0.5517 - val_accuracy: 0.7553\n",
      "Epoch 17/150\n",
      "225/225 [==============================] - 0s 1ms/step - loss: 0.5674 - accuracy: 0.7507 - val_loss: 0.5501 - val_accuracy: 0.7553\n",
      "Epoch 18/150\n",
      "225/225 [==============================] - 0s 1ms/step - loss: 0.5656 - accuracy: 0.7507 - val_loss: 0.5488 - val_accuracy: 0.7553\n",
      "Epoch 19/150\n",
      "225/225 [==============================] - 0s 1ms/step - loss: 0.5716 - accuracy: 0.7507 - val_loss: 0.5494 - val_accuracy: 0.7553\n",
      "Epoch 20/150\n",
      "225/225 [==============================] - 0s 1ms/step - loss: 0.5669 - accuracy: 0.7507 - val_loss: 0.5456 - val_accuracy: 0.7553\n",
      "Epoch 21/150\n",
      "225/225 [==============================] - 0s 2ms/step - loss: 0.5684 - accuracy: 0.7507 - val_loss: 0.5456 - val_accuracy: 0.7553\n",
      "Epoch 22/150\n",
      "225/225 [==============================] - 0s 2ms/step - loss: 0.5670 - accuracy: 0.7507 - val_loss: 0.5447 - val_accuracy: 0.7553\n",
      "Epoch 23/150\n",
      "225/225 [==============================] - 0s 2ms/step - loss: 0.5639 - accuracy: 0.7507 - val_loss: 0.5406 - val_accuracy: 0.7553\n",
      "Epoch 24/150\n",
      "225/225 [==============================] - 0s 2ms/step - loss: 0.5635 - accuracy: 0.7507 - val_loss: 0.5401 - val_accuracy: 0.7553\n",
      "Epoch 25/150\n",
      "225/225 [==============================] - 0s 2ms/step - loss: 0.5552 - accuracy: 0.7507 - val_loss: 0.5358 - val_accuracy: 0.7553\n",
      "Epoch 26/150\n",
      "225/225 [==============================] - 0s 2ms/step - loss: 0.5505 - accuracy: 0.7507 - val_loss: 0.5260 - val_accuracy: 0.7553\n",
      "Epoch 27/150\n",
      "225/225 [==============================] - 0s 2ms/step - loss: 0.5309 - accuracy: 0.7507 - val_loss: 0.5061 - val_accuracy: 0.7553\n",
      "Epoch 28/150\n",
      "225/225 [==============================] - 0s 1ms/step - loss: 0.4993 - accuracy: 0.7507 - val_loss: 0.4516 - val_accuracy: 0.7553\n",
      "Epoch 29/150\n",
      "225/225 [==============================] - 0s 1ms/step - loss: 0.4328 - accuracy: 0.7507 - val_loss: 0.3828 - val_accuracy: 0.7553\n",
      "Epoch 30/150\n",
      "225/225 [==============================] - 0s 1ms/step - loss: 0.3833 - accuracy: 0.7507 - val_loss: 0.3417 - val_accuracy: 0.7553\n",
      "Epoch 31/150\n",
      "225/225 [==============================] - 0s 1ms/step - loss: 0.3603 - accuracy: 0.7507 - val_loss: 0.3339 - val_accuracy: 0.7553\n",
      "Epoch 32/150\n",
      "225/225 [==============================] - 0s 1ms/step - loss: 0.3478 - accuracy: 0.7507 - val_loss: 0.3216 - val_accuracy: 0.7553\n",
      "Epoch 33/150\n",
      "225/225 [==============================] - 0s 1ms/step - loss: 0.3434 - accuracy: 0.7507 - val_loss: 0.3158 - val_accuracy: 0.7553\n",
      "Epoch 34/150\n",
      "225/225 [==============================] - 0s 1ms/step - loss: 0.3369 - accuracy: 0.7507 - val_loss: 0.3181 - val_accuracy: 0.7553\n",
      "Epoch 35/150\n",
      "225/225 [==============================] - 0s 2ms/step - loss: 0.3335 - accuracy: 0.7507 - val_loss: 0.3127 - val_accuracy: 0.7553\n",
      "Epoch 36/150\n",
      "225/225 [==============================] - 0s 2ms/step - loss: 0.3354 - accuracy: 0.7507 - val_loss: 0.3088 - val_accuracy: 0.7553\n",
      "Epoch 37/150\n",
      "225/225 [==============================] - 0s 1ms/step - loss: 0.3270 - accuracy: 0.7507 - val_loss: 0.3073 - val_accuracy: 0.7553\n",
      "Epoch 38/150\n",
      "225/225 [==============================] - 0s 2ms/step - loss: 0.3253 - accuracy: 0.7507 - val_loss: 0.3079 - val_accuracy: 0.7553\n",
      "Epoch 39/150\n",
      "225/225 [==============================] - 0s 1ms/step - loss: 0.3259 - accuracy: 0.7507 - val_loss: 0.3080 - val_accuracy: 0.7553\n",
      "Epoch 40/150\n",
      "225/225 [==============================] - 0s 1ms/step - loss: 0.3237 - accuracy: 0.7507 - val_loss: 0.3076 - val_accuracy: 0.7553\n",
      "Epoch 41/150\n",
      "225/225 [==============================] - 0s 2ms/step - loss: 0.3198 - accuracy: 0.7507 - val_loss: 0.3037 - val_accuracy: 0.7553\n",
      "Epoch 42/150\n",
      "225/225 [==============================] - 0s 1ms/step - loss: 0.3253 - accuracy: 0.7507 - val_loss: 0.3038 - val_accuracy: 0.7553\n",
      "Epoch 43/150\n",
      "225/225 [==============================] - 0s 1ms/step - loss: 0.3215 - accuracy: 0.7507 - val_loss: 0.3049 - val_accuracy: 0.7553\n",
      "Epoch 44/150\n",
      "225/225 [==============================] - 0s 1ms/step - loss: 0.3204 - accuracy: 0.7507 - val_loss: 0.3029 - val_accuracy: 0.7553\n",
      "Epoch 45/150\n",
      "225/225 [==============================] - 0s 1ms/step - loss: 0.3185 - accuracy: 0.8477 - val_loss: 0.3006 - val_accuracy: 0.8604\n",
      "Epoch 46/150\n",
      "225/225 [==============================] - 0s 1ms/step - loss: 0.3219 - accuracy: 0.8534 - val_loss: 0.2999 - val_accuracy: 0.8576\n",
      "Epoch 47/150\n",
      "225/225 [==============================] - 0s 1ms/step - loss: 0.3195 - accuracy: 0.8581 - val_loss: 0.2997 - val_accuracy: 0.8576\n",
      "Epoch 48/150\n",
      "225/225 [==============================] - 0s 1ms/step - loss: 0.3199 - accuracy: 0.8638 - val_loss: 0.2982 - val_accuracy: 0.8610\n",
      "Epoch 49/150\n",
      "225/225 [==============================] - 0s 1ms/step - loss: 0.3203 - accuracy: 0.8617 - val_loss: 0.2981 - val_accuracy: 0.8615\n",
      "Epoch 50/150\n",
      "225/225 [==============================] - 0s 1ms/step - loss: 0.3152 - accuracy: 0.8603 - val_loss: 0.2969 - val_accuracy: 0.8621\n",
      "Epoch 51/150\n",
      "225/225 [==============================] - 0s 1ms/step - loss: 0.3157 - accuracy: 0.8616 - val_loss: 0.2987 - val_accuracy: 0.8626\n",
      "Epoch 52/150\n",
      "225/225 [==============================] - 0s 1ms/step - loss: 0.3166 - accuracy: 0.8600 - val_loss: 0.3002 - val_accuracy: 0.8632\n",
      "Epoch 53/150\n",
      "225/225 [==============================] - 0s 1ms/step - loss: 0.3162 - accuracy: 0.8581 - val_loss: 0.3004 - val_accuracy: 0.8637\n",
      "Epoch 54/150\n",
      "225/225 [==============================] - 0s 1ms/step - loss: 0.3145 - accuracy: 0.8630 - val_loss: 0.2955 - val_accuracy: 0.8604\n",
      "Epoch 55/150\n",
      "225/225 [==============================] - 0s 1ms/step - loss: 0.3110 - accuracy: 0.8652 - val_loss: 0.2952 - val_accuracy: 0.8615\n",
      "Epoch 56/150\n",
      "225/225 [==============================] - 0s 1ms/step - loss: 0.3115 - accuracy: 0.8609 - val_loss: 0.2943 - val_accuracy: 0.8615\n",
      "Epoch 57/150\n",
      "225/225 [==============================] - 0s 2ms/step - loss: 0.3149 - accuracy: 0.8589 - val_loss: 0.2978 - val_accuracy: 0.8654\n"
     ]
    },
    {
     "name": "stdout",
     "output_type": "stream",
     "text": [
      "Epoch 58/150\n",
      "225/225 [==============================] - 0s 1ms/step - loss: 0.3126 - accuracy: 0.8592 - val_loss: 0.2950 - val_accuracy: 0.8621\n",
      "Epoch 59/150\n",
      "225/225 [==============================] - 0s 2ms/step - loss: 0.3118 - accuracy: 0.8603 - val_loss: 0.2934 - val_accuracy: 0.8593\n",
      "Epoch 60/150\n",
      "225/225 [==============================] - 0s 2ms/step - loss: 0.3118 - accuracy: 0.8616 - val_loss: 0.2938 - val_accuracy: 0.8565\n",
      "Epoch 61/150\n",
      "225/225 [==============================] - 0s 1ms/step - loss: 0.3078 - accuracy: 0.8600 - val_loss: 0.2929 - val_accuracy: 0.8626\n",
      "Epoch 62/150\n",
      "225/225 [==============================] - 0s 1ms/step - loss: 0.3144 - accuracy: 0.8605 - val_loss: 0.2923 - val_accuracy: 0.8576\n",
      "Epoch 63/150\n",
      "225/225 [==============================] - 0s 1ms/step - loss: 0.3089 - accuracy: 0.8607 - val_loss: 0.2933 - val_accuracy: 0.8615\n",
      "Epoch 64/150\n",
      "225/225 [==============================] - 0s 1ms/step - loss: 0.3115 - accuracy: 0.8587 - val_loss: 0.2914 - val_accuracy: 0.8632\n",
      "Epoch 65/150\n",
      "225/225 [==============================] - 0s 1ms/step - loss: 0.3092 - accuracy: 0.8628 - val_loss: 0.2919 - val_accuracy: 0.8632\n",
      "Epoch 66/150\n",
      "225/225 [==============================] - 0s 1ms/step - loss: 0.3094 - accuracy: 0.8609 - val_loss: 0.2907 - val_accuracy: 0.8615\n",
      "Epoch 67/150\n",
      "225/225 [==============================] - 0s 1ms/step - loss: 0.3116 - accuracy: 0.8587 - val_loss: 0.2911 - val_accuracy: 0.8565\n",
      "Epoch 68/150\n",
      "225/225 [==============================] - 0s 1ms/step - loss: 0.3100 - accuracy: 0.8592 - val_loss: 0.2906 - val_accuracy: 0.8621\n",
      "Epoch 69/150\n",
      "225/225 [==============================] - 0s 1ms/step - loss: 0.3077 - accuracy: 0.8603 - val_loss: 0.2984 - val_accuracy: 0.8643\n",
      "Epoch 70/150\n",
      "225/225 [==============================] - 0s 1ms/step - loss: 0.3080 - accuracy: 0.8619 - val_loss: 0.2900 - val_accuracy: 0.8637\n",
      "Epoch 71/150\n",
      "225/225 [==============================] - 0s 1ms/step - loss: 0.3123 - accuracy: 0.8599 - val_loss: 0.2893 - val_accuracy: 0.8615\n",
      "Epoch 72/150\n",
      "225/225 [==============================] - 0s 1ms/step - loss: 0.3083 - accuracy: 0.8617 - val_loss: 0.2897 - val_accuracy: 0.8554\n",
      "Epoch 73/150\n",
      "225/225 [==============================] - 0s 1ms/step - loss: 0.3052 - accuracy: 0.8628 - val_loss: 0.2896 - val_accuracy: 0.8576\n",
      "Epoch 74/150\n",
      "225/225 [==============================] - 0s 1ms/step - loss: 0.3041 - accuracy: 0.8624 - val_loss: 0.2902 - val_accuracy: 0.8576\n",
      "Epoch 75/150\n",
      "225/225 [==============================] - 0s 1ms/step - loss: 0.3065 - accuracy: 0.8593 - val_loss: 0.2888 - val_accuracy: 0.8576\n",
      "Epoch 76/150\n",
      "225/225 [==============================] - 0s 1ms/step - loss: 0.3065 - accuracy: 0.8646 - val_loss: 0.2889 - val_accuracy: 0.8576\n",
      "Epoch 77/150\n",
      "225/225 [==============================] - 0s 1ms/step - loss: 0.3055 - accuracy: 0.8613 - val_loss: 0.2891 - val_accuracy: 0.8632\n",
      "Epoch 78/150\n",
      "225/225 [==============================] - 0s 1ms/step - loss: 0.3053 - accuracy: 0.8637 - val_loss: 0.2880 - val_accuracy: 0.8637\n",
      "Epoch 79/150\n",
      "225/225 [==============================] - 0s 1ms/step - loss: 0.3056 - accuracy: 0.8593 - val_loss: 0.2919 - val_accuracy: 0.8632\n",
      "Epoch 80/150\n",
      "225/225 [==============================] - 0s 1ms/step - loss: 0.3061 - accuracy: 0.8592 - val_loss: 0.2875 - val_accuracy: 0.8554\n",
      "Epoch 81/150\n",
      "225/225 [==============================] - 0s 1ms/step - loss: 0.3115 - accuracy: 0.8598 - val_loss: 0.2870 - val_accuracy: 0.8598\n",
      "Epoch 82/150\n",
      "225/225 [==============================] - 0s 1ms/step - loss: 0.3049 - accuracy: 0.8612 - val_loss: 0.2860 - val_accuracy: 0.8648\n",
      "Epoch 83/150\n",
      "225/225 [==============================] - 0s 1ms/step - loss: 0.3020 - accuracy: 0.8638 - val_loss: 0.2882 - val_accuracy: 0.8554\n",
      "Epoch 84/150\n",
      "225/225 [==============================] - 0s 1ms/step - loss: 0.3066 - accuracy: 0.8627 - val_loss: 0.2873 - val_accuracy: 0.8626\n",
      "Epoch 85/150\n",
      "225/225 [==============================] - 0s 1ms/step - loss: 0.3082 - accuracy: 0.8607 - val_loss: 0.2850 - val_accuracy: 0.8632\n",
      "Epoch 86/150\n",
      "225/225 [==============================] - 0s 1ms/step - loss: 0.3056 - accuracy: 0.8619 - val_loss: 0.2941 - val_accuracy: 0.8626\n",
      "Epoch 87/150\n",
      "225/225 [==============================] - 0s 1ms/step - loss: 0.2997 - accuracy: 0.8595 - val_loss: 0.2865 - val_accuracy: 0.8565\n",
      "Epoch 88/150\n",
      "225/225 [==============================] - 0s 1ms/step - loss: 0.3031 - accuracy: 0.8606 - val_loss: 0.2850 - val_accuracy: 0.8637\n",
      "Epoch 89/150\n",
      "225/225 [==============================] - 0s 1ms/step - loss: 0.3070 - accuracy: 0.8593 - val_loss: 0.2833 - val_accuracy: 0.8621\n",
      "Epoch 90/150\n",
      "225/225 [==============================] - 0s 1ms/step - loss: 0.3047 - accuracy: 0.8598 - val_loss: 0.2820 - val_accuracy: 0.8632\n",
      "Epoch 91/150\n",
      "225/225 [==============================] - 0s 1ms/step - loss: 0.3057 - accuracy: 0.8603 - val_loss: 0.2824 - val_accuracy: 0.8654\n",
      "Epoch 92/150\n",
      "225/225 [==============================] - 0s 1ms/step - loss: 0.3020 - accuracy: 0.8609 - val_loss: 0.2859 - val_accuracy: 0.8654\n",
      "Epoch 93/150\n",
      "225/225 [==============================] - 0s 1ms/step - loss: 0.3034 - accuracy: 0.8630 - val_loss: 0.2823 - val_accuracy: 0.8626\n",
      "Epoch 94/150\n",
      "225/225 [==============================] - 0s 1ms/step - loss: 0.3000 - accuracy: 0.8612 - val_loss: 0.2816 - val_accuracy: 0.8654\n",
      "Epoch 95/150\n",
      "225/225 [==============================] - 0s 1ms/step - loss: 0.3014 - accuracy: 0.8595 - val_loss: 0.2835 - val_accuracy: 0.8654\n",
      "Epoch 96/150\n",
      "225/225 [==============================] - 0s 1ms/step - loss: 0.3076 - accuracy: 0.8609 - val_loss: 0.2812 - val_accuracy: 0.8632\n",
      "Epoch 97/150\n",
      "225/225 [==============================] - 0s 1ms/step - loss: 0.3052 - accuracy: 0.8644 - val_loss: 0.2812 - val_accuracy: 0.8626\n",
      "Epoch 98/150\n",
      "225/225 [==============================] - 0s 1ms/step - loss: 0.2990 - accuracy: 0.8584 - val_loss: 0.2826 - val_accuracy: 0.8604\n",
      "Epoch 99/150\n",
      "225/225 [==============================] - 0s 2ms/step - loss: 0.2998 - accuracy: 0.8609 - val_loss: 0.2824 - val_accuracy: 0.8632\n",
      "Epoch 100/150\n",
      "225/225 [==============================] - 0s 2ms/step - loss: 0.3033 - accuracy: 0.8592 - val_loss: 0.2823 - val_accuracy: 0.8621\n",
      "Epoch 101/150\n",
      "225/225 [==============================] - 0s 1ms/step - loss: 0.2981 - accuracy: 0.8623 - val_loss: 0.2802 - val_accuracy: 0.8626\n",
      "Epoch 102/150\n",
      "225/225 [==============================] - 0s 2ms/step - loss: 0.3032 - accuracy: 0.8568 - val_loss: 0.2824 - val_accuracy: 0.8665\n",
      "Epoch 103/150\n",
      "225/225 [==============================] - 0s 1ms/step - loss: 0.3006 - accuracy: 0.8631 - val_loss: 0.2810 - val_accuracy: 0.8637\n",
      "Epoch 104/150\n",
      "225/225 [==============================] - 0s 1ms/step - loss: 0.3027 - accuracy: 0.8606 - val_loss: 0.2803 - val_accuracy: 0.8648\n",
      "Epoch 105/150\n",
      "225/225 [==============================] - 0s 1ms/step - loss: 0.3009 - accuracy: 0.8610 - val_loss: 0.2818 - val_accuracy: 0.8626\n",
      "Epoch 106/150\n",
      "225/225 [==============================] - 0s 1ms/step - loss: 0.3011 - accuracy: 0.8641 - val_loss: 0.2787 - val_accuracy: 0.8632\n",
      "Epoch 107/150\n",
      "225/225 [==============================] - 0s 1ms/step - loss: 0.3008 - accuracy: 0.8613 - val_loss: 0.2788 - val_accuracy: 0.8632\n",
      "Epoch 108/150\n",
      "225/225 [==============================] - 0s 1ms/step - loss: 0.3052 - accuracy: 0.8625 - val_loss: 0.2788 - val_accuracy: 0.8643\n",
      "Epoch 109/150\n",
      "225/225 [==============================] - 0s 1ms/step - loss: 0.2987 - accuracy: 0.8649 - val_loss: 0.2829 - val_accuracy: 0.8632\n",
      "Epoch 110/150\n",
      "225/225 [==============================] - 0s 1ms/step - loss: 0.3021 - accuracy: 0.8616 - val_loss: 0.2785 - val_accuracy: 0.8632\n",
      "Epoch 111/150\n",
      "225/225 [==============================] - 0s 1ms/step - loss: 0.2985 - accuracy: 0.8637 - val_loss: 0.2808 - val_accuracy: 0.8632\n",
      "Epoch 112/150\n",
      "225/225 [==============================] - 0s 1ms/step - loss: 0.2995 - accuracy: 0.8602 - val_loss: 0.2780 - val_accuracy: 0.8626\n",
      "Epoch 113/150\n",
      "225/225 [==============================] - 0s 1ms/step - loss: 0.3036 - accuracy: 0.8587 - val_loss: 0.2790 - val_accuracy: 0.8643\n",
      "Epoch 114/150\n",
      "225/225 [==============================] - 0s 1ms/step - loss: 0.2993 - accuracy: 0.8592 - val_loss: 0.2780 - val_accuracy: 0.8632\n"
     ]
    },
    {
     "name": "stdout",
     "output_type": "stream",
     "text": [
      "Epoch 115/150\n",
      "225/225 [==============================] - 0s 1ms/step - loss: 0.3017 - accuracy: 0.8620 - val_loss: 0.2837 - val_accuracy: 0.8676\n",
      "Epoch 116/150\n",
      "225/225 [==============================] - 0s 1ms/step - loss: 0.3032 - accuracy: 0.8621 - val_loss: 0.2779 - val_accuracy: 0.8637\n",
      "Epoch 117/150\n",
      "225/225 [==============================] - 0s 1ms/step - loss: 0.3023 - accuracy: 0.8605 - val_loss: 0.2782 - val_accuracy: 0.8643\n",
      "Epoch 118/150\n",
      "225/225 [==============================] - 0s 1ms/step - loss: 0.2964 - accuracy: 0.8632 - val_loss: 0.2801 - val_accuracy: 0.8643\n",
      "Epoch 119/150\n",
      "225/225 [==============================] - 0s 1ms/step - loss: 0.3006 - accuracy: 0.8587 - val_loss: 0.2797 - val_accuracy: 0.8621\n",
      "Epoch 120/150\n",
      "225/225 [==============================] - 0s 1ms/step - loss: 0.2972 - accuracy: 0.8624 - val_loss: 0.2791 - val_accuracy: 0.8637\n",
      "Epoch 121/150\n",
      "225/225 [==============================] - 0s 1ms/step - loss: 0.2999 - accuracy: 0.8617 - val_loss: 0.2788 - val_accuracy: 0.8648\n",
      "Epoch 122/150\n",
      "225/225 [==============================] - 0s 1ms/step - loss: 0.2997 - accuracy: 0.8603 - val_loss: 0.2785 - val_accuracy: 0.8632\n",
      "Epoch 123/150\n",
      "225/225 [==============================] - 0s 1ms/step - loss: 0.3008 - accuracy: 0.8603 - val_loss: 0.2792 - val_accuracy: 0.8660\n",
      "Epoch 124/150\n",
      "225/225 [==============================] - 0s 1ms/step - loss: 0.2986 - accuracy: 0.8605 - val_loss: 0.2796 - val_accuracy: 0.8621\n",
      "Epoch 125/150\n",
      "225/225 [==============================] - 0s 2ms/step - loss: 0.3006 - accuracy: 0.8627 - val_loss: 0.2774 - val_accuracy: 0.8654\n",
      "Epoch 126/150\n",
      "225/225 [==============================] - 0s 1ms/step - loss: 0.3027 - accuracy: 0.8652 - val_loss: 0.2805 - val_accuracy: 0.8615\n",
      "Epoch 127/150\n",
      "225/225 [==============================] - 0s 1ms/step - loss: 0.3010 - accuracy: 0.8587 - val_loss: 0.2773 - val_accuracy: 0.8632\n",
      "Epoch 128/150\n",
      "225/225 [==============================] - 0s 1ms/step - loss: 0.2954 - accuracy: 0.8612 - val_loss: 0.2810 - val_accuracy: 0.8632\n",
      "Epoch 129/150\n",
      "225/225 [==============================] - 0s 1ms/step - loss: 0.2984 - accuracy: 0.8609 - val_loss: 0.2792 - val_accuracy: 0.8610\n",
      "Epoch 130/150\n",
      "225/225 [==============================] - 0s 1ms/step - loss: 0.2977 - accuracy: 0.8605 - val_loss: 0.2798 - val_accuracy: 0.8637\n",
      "Epoch 131/150\n",
      "225/225 [==============================] - 0s 2ms/step - loss: 0.2984 - accuracy: 0.8585 - val_loss: 0.2779 - val_accuracy: 0.8643\n",
      "Epoch 132/150\n",
      "225/225 [==============================] - 0s 2ms/step - loss: 0.2996 - accuracy: 0.8606 - val_loss: 0.2791 - val_accuracy: 0.8626\n",
      "Epoch 133/150\n",
      "225/225 [==============================] - 0s 2ms/step - loss: 0.3024 - accuracy: 0.8575 - val_loss: 0.2828 - val_accuracy: 0.8615\n",
      "Epoch 134/150\n",
      "225/225 [==============================] - 0s 1ms/step - loss: 0.3015 - accuracy: 0.8584 - val_loss: 0.2803 - val_accuracy: 0.8648\n",
      "Epoch 135/150\n",
      "225/225 [==============================] - 0s 1ms/step - loss: 0.2980 - accuracy: 0.8634 - val_loss: 0.2784 - val_accuracy: 0.8615\n",
      "Epoch 136/150\n",
      "225/225 [==============================] - 0s 1ms/step - loss: 0.2970 - accuracy: 0.8621 - val_loss: 0.2783 - val_accuracy: 0.8632\n",
      "Epoch 137/150\n",
      "225/225 [==============================] - 0s 1ms/step - loss: 0.3004 - accuracy: 0.8592 - val_loss: 0.2787 - val_accuracy: 0.8643\n",
      "Epoch 138/150\n",
      "225/225 [==============================] - 0s 1ms/step - loss: 0.2973 - accuracy: 0.8584 - val_loss: 0.2774 - val_accuracy: 0.8643\n",
      "Epoch 139/150\n",
      "225/225 [==============================] - 0s 1ms/step - loss: 0.3045 - accuracy: 0.8617 - val_loss: 0.2785 - val_accuracy: 0.8693\n",
      "Epoch 140/150\n",
      "225/225 [==============================] - 0s 1ms/step - loss: 0.3028 - accuracy: 0.8578 - val_loss: 0.2795 - val_accuracy: 0.8643\n",
      "Epoch 141/150\n",
      "225/225 [==============================] - 0s 2ms/step - loss: 0.3000 - accuracy: 0.8587 - val_loss: 0.2777 - val_accuracy: 0.8643\n",
      "Epoch 142/150\n",
      "225/225 [==============================] - 0s 1ms/step - loss: 0.2971 - accuracy: 0.8585 - val_loss: 0.2774 - val_accuracy: 0.8632\n",
      "Epoch 143/150\n",
      "225/225 [==============================] - 0s 1ms/step - loss: 0.2966 - accuracy: 0.8606 - val_loss: 0.2791 - val_accuracy: 0.8682\n",
      "Epoch 144/150\n",
      "225/225 [==============================] - 0s 1ms/step - loss: 0.3018 - accuracy: 0.8606 - val_loss: 0.2768 - val_accuracy: 0.8654\n",
      "Epoch 145/150\n",
      "225/225 [==============================] - 0s 1ms/step - loss: 0.3026 - accuracy: 0.8574 - val_loss: 0.2789 - val_accuracy: 0.8643\n"
     ]
    }
   ],
   "source": [
    "early_stopping = callbacks.EarlyStopping(\n",
    "    min_delta=0.001, # minimium amount of change to count as an improvement\n",
    "    patience=20, # how many epochs to wait before stopping\n",
    "    restore_best_weights=True,\n",
    ")\n",
    "\n",
    "# Initialising\n",
    "model = Sequential()\n",
    "\n",
    "model.add(Dense(units = 32, kernel_initializer = 'uniform', activation = 'relu', input_dim = 5))\n",
    "model.add(Dense(units = 32, kernel_initializer = 'uniform', activation = 'relu'))\n",
    "model.add(Dense(units = 16, kernel_initializer = 'uniform', activation = 'relu'))\n",
    "model.add(Dropout(0.25))\n",
    "model.add(Dense(units = 8, kernel_initializer = 'uniform', activation = 'relu'))\n",
    "model.add(Dropout(0.5))\n",
    "model.add(Dense(units = 1, kernel_initializer = 'uniform', activation = 'sigmoid'))\n",
    "\n",
    "# Compiling \n",
    "opt = Adam(learning_rate=0.00009)\n",
    "model.compile(optimizer = opt, loss = 'binary_crossentropy', metrics = ['accuracy'])\n",
    "\n",
    "# Train \n",
    "history = model.fit(x_train, y_train, batch_size = 32, epochs = 150, callbacks=[early_stopping], validation_split=0.2)"
   ]
  },
  {
   "cell_type": "code",
   "execution_count": 27,
   "id": "70b010ee",
   "metadata": {},
   "outputs": [
    {
     "data": {
      "image/png": "[encoded data removed]",
      "text/plain": [
       "<Figure size 1080x360 with 2 Axes>"
      ]
     },
     "metadata": {
      "needs_background": "light"
     },
     "output_type": "display_data"
    }
   ],
   "source": [
    "h=history\n",
    "plt.figure(figsize=(15,5))\n",
    "plt.subplot(1,2,1)\n",
    "plt.plot(h.history['accuracy'], 'o-', label='train accuracy')\n",
    "plt.plot(h.history['val_accuracy'], 'o-', label = 'validation accuracy')\n",
    "plt.xlabel('Epoch')\n",
    "plt.ylabel('Accuracy')\n",
    "plt.grid(True)\n",
    "plt.legend(loc='lower right')\n",
    "\n",
    "plt.subplot(1,2,2)\n",
    "plt.plot(h.history['loss'], 'o-', label='train loss')\n",
    "plt.plot(h.history['val_loss'], 'o-', label='validation loss')\n",
    "plt.xlabel('Epoch')\n",
    "plt.ylabel('Loss')\n",
    "plt.grid(True)\n",
    "plt.legend(loc='upper right')\n",
    "\n",
    "plt.show()"
   ]
  },
  {
   "cell_type": "code",
   "execution_count": 28,
   "id": "f13e6131",
   "metadata": {},
   "outputs": [
    {
     "name": "stdout",
     "output_type": "stream",
     "text": [
      "121/121 [==============================] - 0s 831us/step - loss: 0.2703 - accuracy: 0.8762\n",
      "\n",
      "Test Accuracy: 0.8761682510375977\n",
      "\n",
      "Test Loss: 0.2703402042388916\n"
     ]
    }
   ],
   "source": [
    "test_loss, test_acc = model.evaluate(x_test, y_test)\n",
    "print('\\nTest Accuracy:', test_acc)\n",
    "print('\\nTest Loss:', test_loss)"
   ]
  },
  {
   "cell_type": "code",
   "execution_count": null,
   "id": "6367de5b",
   "metadata": {},
   "outputs": [],
   "source": []
  }
 ],
 "metadata": {
  "kernelspec": {
   "display_name": "cvpr tf2.3 py3.8",
   "language": "python",
   "name": "cvpr"
  },
  "language_info": {
   "codemirror_mode": {
    "name": "ipython",
    "version": 3
   },
   "file_extension": ".py",
   "mimetype": "text/x-python",
   "name": "python",
   "nbconvert_exporter": "python",
   "pygments_lexer": "ipython3",
   "version": "3.8.10"
  }
 },
 "nbformat": 4,
 "nbformat_minor": 5
}
