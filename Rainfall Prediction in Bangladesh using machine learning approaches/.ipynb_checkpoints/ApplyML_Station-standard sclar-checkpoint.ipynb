{
 "cells": [
  {
   "cell_type": "code",
   "execution_count": 1,
   "id": "93dee11d",
   "metadata": {},
   "outputs": [],
   "source": [
    "import pandas as pd\n",
    "import numpy as np\n",
    "import matplotlib.pyplot as plt\n",
    "import tensorflow as tf\n",
    "from sklearn.model_selection import train_test_split\n",
    "from sklearn.ensemble import RandomForestClassifier\n",
    "from sklearn.metrics import accuracy_score\n",
    "import datetime\n",
    "from sklearn.preprocessing import LabelEncoder\n",
    "from sklearn import preprocessing\n",
    "from sklearn.preprocessing import StandardScaler\n",
    "from sklearn.model_selection import train_test_split\n",
    "import seaborn as sns\n",
    "from keras.layers import Dense, BatchNormalization, Dropout, LSTM\n",
    "from keras.models import Sequential\n",
    "from keras.utils import to_categorical\n",
    "from keras.optimizers import Adam\n",
    "from tensorflow.keras import regularizers\n",
    "from sklearn.metrics import precision_score, recall_score, confusion_matrix, classification_report, accuracy_score, f1_score\n",
    "from keras import callbacks\n",
    "from sklearn.naive_bayes import GaussianNB\n",
    "from sklearn import datasets, linear_model, metrics\n",
    "from sklearn.preprocessing import MinMaxScaler\n",
    "\n",
    "np.random.seed(0)"
   ]
  },
  {
   "cell_type": "code",
   "execution_count": 2,
   "id": "01dbe09e",
   "metadata": {},
   "outputs": [],
   "source": [
    "df = pd.read_csv('observedDataset1.csv')"
   ]
  },
  {
   "cell_type": "code",
   "execution_count": 3,
   "id": "71030a47",
   "metadata": {},
   "outputs": [
    {
     "data": {
      "text/html": [
       "<div>\n",
       "<style scoped>\n",
       "    .dataframe tbody tr th:only-of-type {\n",
       "        vertical-align: middle;\n",
       "    }\n",
       "\n",
       "    .dataframe tbody tr th {\n",
       "        vertical-align: top;\n",
       "    }\n",
       "\n",
       "    .dataframe thead th {\n",
       "        text-align: right;\n",
       "    }\n",
       "</style>\n",
       "<table border=\"1\" class=\"dataframe\">\n",
       "  <thead>\n",
       "    <tr style=\"text-align: right;\">\n",
       "      <th></th>\n",
       "      <th>Unnamed: 0</th>\n",
       "      <th>stationID</th>\n",
       "      <th>Days</th>\n",
       "      <th>observedTempMax</th>\n",
       "      <th>observedTempMin</th>\n",
       "      <th>observedHumidity</th>\n",
       "      <th>observedPressure</th>\n",
       "      <th>observedWind</th>\n",
       "      <th>observedRainfallcatagorical</th>\n",
       "    </tr>\n",
       "  </thead>\n",
       "  <tbody>\n",
       "    <tr>\n",
       "      <th>0</th>\n",
       "      <td>0</td>\n",
       "      <td>10120</td>\n",
       "      <td>1</td>\n",
       "      <td>23.182051</td>\n",
       "      <td>10.735897</td>\n",
       "      <td>77.586207</td>\n",
       "      <td>1016.255172</td>\n",
       "      <td>3.968966</td>\n",
       "      <td>0.0</td>\n",
       "    </tr>\n",
       "    <tr>\n",
       "      <th>1</th>\n",
       "      <td>1</td>\n",
       "      <td>10120</td>\n",
       "      <td>2</td>\n",
       "      <td>22.997436</td>\n",
       "      <td>10.738462</td>\n",
       "      <td>78.655172</td>\n",
       "      <td>1016.424138</td>\n",
       "      <td>4.017241</td>\n",
       "      <td>0.0</td>\n",
       "    </tr>\n",
       "    <tr>\n",
       "      <th>2</th>\n",
       "      <td>2</td>\n",
       "      <td>10120</td>\n",
       "      <td>3</td>\n",
       "      <td>22.276923</td>\n",
       "      <td>10.566667</td>\n",
       "      <td>80.551724</td>\n",
       "      <td>1016.227586</td>\n",
       "      <td>4.306897</td>\n",
       "      <td>0.0</td>\n",
       "    </tr>\n",
       "    <tr>\n",
       "      <th>3</th>\n",
       "      <td>3</td>\n",
       "      <td>10120</td>\n",
       "      <td>4</td>\n",
       "      <td>22.115385</td>\n",
       "      <td>10.712821</td>\n",
       "      <td>79.862069</td>\n",
       "      <td>1016.027586</td>\n",
       "      <td>4.234483</td>\n",
       "      <td>1.0</td>\n",
       "    </tr>\n",
       "    <tr>\n",
       "      <th>4</th>\n",
       "      <td>4</td>\n",
       "      <td>10120</td>\n",
       "      <td>5</td>\n",
       "      <td>22.325641</td>\n",
       "      <td>10.274359</td>\n",
       "      <td>79.758621</td>\n",
       "      <td>1015.627586</td>\n",
       "      <td>4.434483</td>\n",
       "      <td>0.0</td>\n",
       "    </tr>\n",
       "  </tbody>\n",
       "</table>\n",
       "</div>"
      ],
      "text/plain": [
       "   Unnamed: 0  stationID  Days  observedTempMax  observedTempMin  \\\n",
       "0           0      10120     1        23.182051        10.735897   \n",
       "1           1      10120     2        22.997436        10.738462   \n",
       "2           2      10120     3        22.276923        10.566667   \n",
       "3           3      10120     4        22.115385        10.712821   \n",
       "4           4      10120     5        22.325641        10.274359   \n",
       "\n",
       "   observedHumidity  observedPressure  observedWind  \\\n",
       "0         77.586207       1016.255172      3.968966   \n",
       "1         78.655172       1016.424138      4.017241   \n",
       "2         80.551724       1016.227586      4.306897   \n",
       "3         79.862069       1016.027586      4.234483   \n",
       "4         79.758621       1015.627586      4.434483   \n",
       "\n",
       "   observedRainfallcatagorical  \n",
       "0                          0.0  \n",
       "1                          0.0  \n",
       "2                          0.0  \n",
       "3                          1.0  \n",
       "4                          0.0  "
      ]
     },
     "execution_count": 3,
     "metadata": {},
     "output_type": "execute_result"
    }
   ],
   "source": [
    "df.head()"
   ]
  },
  {
   "cell_type": "code",
   "execution_count": 4,
   "id": "0c86a81b",
   "metadata": {},
   "outputs": [],
   "source": [
    "df.drop(\"Unnamed: 0\", axis=1, inplace=True)"
   ]
  },
  {
   "cell_type": "code",
   "execution_count": 5,
   "id": "ca6e26f5",
   "metadata": {},
   "outputs": [
    {
     "data": {
      "text/plain": [
       "(12838, 9)"
      ]
     },
     "execution_count": 5,
     "metadata": {},
     "output_type": "execute_result"
    }
   ],
   "source": [
    "df = df.reset_index()\n",
    "df.shape"
   ]
  },
  {
   "cell_type": "code",
   "execution_count": 6,
   "id": "c516d3ad",
   "metadata": {},
   "outputs": [
    {
     "data": {
      "text/plain": [
       "Index(['index', 'stationID', 'Days', 'observedTempMax', 'observedTempMin',\n",
       "       'observedHumidity', 'observedPressure', 'observedWind',\n",
       "       'observedRainfallcatagorical'],\n",
       "      dtype='object')"
      ]
     },
     "execution_count": 6,
     "metadata": {},
     "output_type": "execute_result"
    }
   ],
   "source": [
    "df.columns"
   ]
  },
  {
   "cell_type": "code",
   "execution_count": 7,
   "id": "5ac1767d",
   "metadata": {},
   "outputs": [
    {
     "data": {
      "text/plain": [
       "Index(['stationID', 'Days', 'observedTempMax', 'observedTempMin',\n",
       "       'observedHumidity', 'observedPressure', 'observedWind',\n",
       "       'observedRainfallcatagorical'],\n",
       "      dtype='object')"
      ]
     },
     "execution_count": 7,
     "metadata": {},
     "output_type": "execute_result"
    }
   ],
   "source": [
    "df.drop(\"index\", axis=1, inplace=True)\n",
    "df.columns"
   ]
  },
  {
   "cell_type": "code",
   "execution_count": 8,
   "id": "b2737793",
   "metadata": {},
   "outputs": [
    {
     "data": {
      "text/plain": [
       "1.0    9660\n",
       "0.0    3150\n",
       "Name: observedRainfallcatagorical, dtype: int64"
      ]
     },
     "execution_count": 8,
     "metadata": {},
     "output_type": "execute_result"
    }
   ],
   "source": [
    "df['observedRainfallcatagorical'].value_counts()"
   ]
  },
  {
   "cell_type": "code",
   "execution_count": 9,
   "id": "8b0b1a87",
   "metadata": {},
   "outputs": [],
   "source": [
    "df['observedRainfallcatagorical'].fillna(method='ffill',inplace=True,axis=0)"
   ]
  },
  {
   "cell_type": "code",
   "execution_count": 10,
   "id": "4f0f40c5",
   "metadata": {},
   "outputs": [
    {
     "data": {
      "text/plain": [
       "1.0    9660\n",
       "0.0    3178\n",
       "Name: observedRainfallcatagorical, dtype: int64"
      ]
     },
     "execution_count": 10,
     "metadata": {},
     "output_type": "execute_result"
    }
   ],
   "source": [
    "df['observedRainfallcatagorical'].value_counts()"
   ]
  },
  {
   "cell_type": "code",
   "execution_count": 11,
   "id": "3017036e",
   "metadata": {},
   "outputs": [],
   "source": [
    "df['observedHumidity'].fillna(method='ffill',inplace=True,axis=0)"
   ]
  },
  {
   "cell_type": "code",
   "execution_count": 12,
   "id": "82a16178",
   "metadata": {},
   "outputs": [],
   "source": [
    "df['observedPressure'].fillna(method='ffill',inplace=True,axis=0)"
   ]
  },
  {
   "cell_type": "code",
   "execution_count": 13,
   "id": "39c2dc57",
   "metadata": {},
   "outputs": [],
   "source": [
    "df['observedWind'].fillna(method='ffill',inplace=True,axis=0)"
   ]
  },
  {
   "cell_type": "code",
   "execution_count": 14,
   "id": "281eb584",
   "metadata": {},
   "outputs": [
    {
     "data": {
      "text/html": [
       "<div>\n",
       "<style scoped>\n",
       "    .dataframe tbody tr th:only-of-type {\n",
       "        vertical-align: middle;\n",
       "    }\n",
       "\n",
       "    .dataframe tbody tr th {\n",
       "        vertical-align: top;\n",
       "    }\n",
       "\n",
       "    .dataframe thead th {\n",
       "        text-align: right;\n",
       "    }\n",
       "</style>\n",
       "<table border=\"1\" class=\"dataframe\">\n",
       "  <thead>\n",
       "    <tr style=\"text-align: right;\">\n",
       "      <th></th>\n",
       "      <th>stationID</th>\n",
       "      <th>Days</th>\n",
       "      <th>observedTempMax</th>\n",
       "      <th>observedTempMin</th>\n",
       "      <th>observedHumidity</th>\n",
       "      <th>observedPressure</th>\n",
       "      <th>observedWind</th>\n",
       "      <th>observedRainfallcatagorical</th>\n",
       "    </tr>\n",
       "  </thead>\n",
       "  <tbody>\n",
       "    <tr>\n",
       "      <th>stationID</th>\n",
       "      <td>1.000000</td>\n",
       "      <td>-0.008462</td>\n",
       "      <td>0.042371</td>\n",
       "      <td>-0.000458</td>\n",
       "      <td>0.009811</td>\n",
       "      <td>-0.006394</td>\n",
       "      <td>0.387652</td>\n",
       "      <td>0.000351</td>\n",
       "    </tr>\n",
       "    <tr>\n",
       "      <th>Days</th>\n",
       "      <td>-0.008462</td>\n",
       "      <td>1.000000</td>\n",
       "      <td>0.045088</td>\n",
       "      <td>0.205650</td>\n",
       "      <td>0.437585</td>\n",
       "      <td>-0.072143</td>\n",
       "      <td>-0.266540</td>\n",
       "      <td>0.035526</td>\n",
       "    </tr>\n",
       "    <tr>\n",
       "      <th>observedTempMax</th>\n",
       "      <td>0.042371</td>\n",
       "      <td>0.045088</td>\n",
       "      <td>1.000000</td>\n",
       "      <td>0.866812</td>\n",
       "      <td>0.221166</td>\n",
       "      <td>-0.634708</td>\n",
       "      <td>0.298645</td>\n",
       "      <td>0.651053</td>\n",
       "    </tr>\n",
       "    <tr>\n",
       "      <th>observedTempMin</th>\n",
       "      <td>-0.000458</td>\n",
       "      <td>0.205650</td>\n",
       "      <td>0.866812</td>\n",
       "      <td>1.000000</td>\n",
       "      <td>0.571570</td>\n",
       "      <td>-0.785690</td>\n",
       "      <td>0.286132</td>\n",
       "      <td>0.714239</td>\n",
       "    </tr>\n",
       "    <tr>\n",
       "      <th>observedHumidity</th>\n",
       "      <td>0.009811</td>\n",
       "      <td>0.437585</td>\n",
       "      <td>0.221166</td>\n",
       "      <td>0.571570</td>\n",
       "      <td>1.000000</td>\n",
       "      <td>-0.532134</td>\n",
       "      <td>0.005046</td>\n",
       "      <td>0.366324</td>\n",
       "    </tr>\n",
       "    <tr>\n",
       "      <th>observedPressure</th>\n",
       "      <td>-0.006394</td>\n",
       "      <td>-0.072143</td>\n",
       "      <td>-0.634708</td>\n",
       "      <td>-0.785690</td>\n",
       "      <td>-0.532134</td>\n",
       "      <td>1.000000</td>\n",
       "      <td>-0.299707</td>\n",
       "      <td>-0.576958</td>\n",
       "    </tr>\n",
       "    <tr>\n",
       "      <th>observedWind</th>\n",
       "      <td>0.387652</td>\n",
       "      <td>-0.266540</td>\n",
       "      <td>0.298645</td>\n",
       "      <td>0.286132</td>\n",
       "      <td>0.005046</td>\n",
       "      <td>-0.299707</td>\n",
       "      <td>1.000000</td>\n",
       "      <td>0.250445</td>\n",
       "    </tr>\n",
       "    <tr>\n",
       "      <th>observedRainfallcatagorical</th>\n",
       "      <td>0.000351</td>\n",
       "      <td>0.035526</td>\n",
       "      <td>0.651053</td>\n",
       "      <td>0.714239</td>\n",
       "      <td>0.366324</td>\n",
       "      <td>-0.576958</td>\n",
       "      <td>0.250445</td>\n",
       "      <td>1.000000</td>\n",
       "    </tr>\n",
       "  </tbody>\n",
       "</table>\n",
       "</div>"
      ],
      "text/plain": [
       "                             stationID      Days  observedTempMax  \\\n",
       "stationID                     1.000000 -0.008462         0.042371   \n",
       "Days                         -0.008462  1.000000         0.045088   \n",
       "observedTempMax               0.042371  0.045088         1.000000   \n",
       "observedTempMin              -0.000458  0.205650         0.866812   \n",
       "observedHumidity              0.009811  0.437585         0.221166   \n",
       "observedPressure             -0.006394 -0.072143        -0.634708   \n",
       "observedWind                  0.387652 -0.266540         0.298645   \n",
       "observedRainfallcatagorical   0.000351  0.035526         0.651053   \n",
       "\n",
       "                             observedTempMin  observedHumidity  \\\n",
       "stationID                          -0.000458          0.009811   \n",
       "Days                                0.205650          0.437585   \n",
       "observedTempMax                     0.866812          0.221166   \n",
       "observedTempMin                     1.000000          0.571570   \n",
       "observedHumidity                    0.571570          1.000000   \n",
       "observedPressure                   -0.785690         -0.532134   \n",
       "observedWind                        0.286132          0.005046   \n",
       "observedRainfallcatagorical         0.714239          0.366324   \n",
       "\n",
       "                             observedPressure  observedWind  \\\n",
       "stationID                           -0.006394      0.387652   \n",
       "Days                                -0.072143     -0.266540   \n",
       "observedTempMax                     -0.634708      0.298645   \n",
       "observedTempMin                     -0.785690      0.286132   \n",
       "observedHumidity                    -0.532134      0.005046   \n",
       "observedPressure                     1.000000     -0.299707   \n",
       "observedWind                        -0.299707      1.000000   \n",
       "observedRainfallcatagorical         -0.576958      0.250445   \n",
       "\n",
       "                             observedRainfallcatagorical  \n",
       "stationID                                       0.000351  \n",
       "Days                                            0.035526  \n",
       "observedTempMax                                 0.651053  \n",
       "observedTempMin                                 0.714239  \n",
       "observedHumidity                                0.366324  \n",
       "observedPressure                               -0.576958  \n",
       "observedWind                                    0.250445  \n",
       "observedRainfallcatagorical                     1.000000  "
      ]
     },
     "execution_count": 14,
     "metadata": {},
     "output_type": "execute_result"
    }
   ],
   "source": [
    "df.corr()"
   ]
  },
  {
   "cell_type": "code",
   "execution_count": 15,
   "id": "edbbb283",
   "metadata": {},
   "outputs": [
    {
     "data": {
      "text/html": [
       "<div>\n",
       "<style scoped>\n",
       "    .dataframe tbody tr th:only-of-type {\n",
       "        vertical-align: middle;\n",
       "    }\n",
       "\n",
       "    .dataframe tbody tr th {\n",
       "        vertical-align: top;\n",
       "    }\n",
       "\n",
       "    .dataframe thead th {\n",
       "        text-align: right;\n",
       "    }\n",
       "</style>\n",
       "<table border=\"1\" class=\"dataframe\">\n",
       "  <thead>\n",
       "    <tr style=\"text-align: right;\">\n",
       "      <th></th>\n",
       "      <th>observedTempMax</th>\n",
       "      <th>observedTempMin</th>\n",
       "      <th>observedHumidity</th>\n",
       "      <th>observedWind</th>\n",
       "    </tr>\n",
       "  </thead>\n",
       "  <tbody>\n",
       "    <tr>\n",
       "      <th>0</th>\n",
       "      <td>23.182051</td>\n",
       "      <td>10.735897</td>\n",
       "      <td>77.586207</td>\n",
       "      <td>3.968966</td>\n",
       "    </tr>\n",
       "    <tr>\n",
       "      <th>1</th>\n",
       "      <td>22.997436</td>\n",
       "      <td>10.738462</td>\n",
       "      <td>78.655172</td>\n",
       "      <td>4.017241</td>\n",
       "    </tr>\n",
       "    <tr>\n",
       "      <th>2</th>\n",
       "      <td>22.276923</td>\n",
       "      <td>10.566667</td>\n",
       "      <td>80.551724</td>\n",
       "      <td>4.306897</td>\n",
       "    </tr>\n",
       "    <tr>\n",
       "      <th>3</th>\n",
       "      <td>22.115385</td>\n",
       "      <td>10.712821</td>\n",
       "      <td>79.862069</td>\n",
       "      <td>4.234483</td>\n",
       "    </tr>\n",
       "    <tr>\n",
       "      <th>4</th>\n",
       "      <td>22.325641</td>\n",
       "      <td>10.274359</td>\n",
       "      <td>79.758621</td>\n",
       "      <td>4.434483</td>\n",
       "    </tr>\n",
       "    <tr>\n",
       "      <th>...</th>\n",
       "      <td>...</td>\n",
       "      <td>...</td>\n",
       "      <td>...</td>\n",
       "      <td>...</td>\n",
       "    </tr>\n",
       "    <tr>\n",
       "      <th>361</th>\n",
       "      <td>22.923077</td>\n",
       "      <td>10.733333</td>\n",
       "      <td>78.793103</td>\n",
       "      <td>4.051724</td>\n",
       "    </tr>\n",
       "    <tr>\n",
       "      <th>362</th>\n",
       "      <td>23.348718</td>\n",
       "      <td>10.476923</td>\n",
       "      <td>77.724138</td>\n",
       "      <td>3.775862</td>\n",
       "    </tr>\n",
       "    <tr>\n",
       "      <th>363</th>\n",
       "      <td>23.756410</td>\n",
       "      <td>10.374359</td>\n",
       "      <td>78.620690</td>\n",
       "      <td>3.093103</td>\n",
       "    </tr>\n",
       "    <tr>\n",
       "      <th>364</th>\n",
       "      <td>23.992105</td>\n",
       "      <td>10.382051</td>\n",
       "      <td>76.000000</td>\n",
       "      <td>3.586207</td>\n",
       "    </tr>\n",
       "    <tr>\n",
       "      <th>365</th>\n",
       "      <td>25.077778</td>\n",
       "      <td>10.433333</td>\n",
       "      <td>76.714286</td>\n",
       "      <td>2.885714</td>\n",
       "    </tr>\n",
       "  </tbody>\n",
       "</table>\n",
       "<p>366 rows × 4 columns</p>\n",
       "</div>"
      ],
      "text/plain": [
       "     observedTempMax  observedTempMin  observedHumidity  observedWind\n",
       "0          23.182051        10.735897         77.586207      3.968966\n",
       "1          22.997436        10.738462         78.655172      4.017241\n",
       "2          22.276923        10.566667         80.551724      4.306897\n",
       "3          22.115385        10.712821         79.862069      4.234483\n",
       "4          22.325641        10.274359         79.758621      4.434483\n",
       "..               ...              ...               ...           ...\n",
       "361        22.923077        10.733333         78.793103      4.051724\n",
       "362        23.348718        10.476923         77.724138      3.775862\n",
       "363        23.756410        10.374359         78.620690      3.093103\n",
       "364        23.992105        10.382051         76.000000      3.586207\n",
       "365        25.077778        10.433333         76.714286      2.885714\n",
       "\n",
       "[366 rows x 4 columns]"
      ]
     },
     "execution_count": 15,
     "metadata": {},
     "output_type": "execute_result"
    }
   ],
   "source": [
    "x = df.iloc[0:366,[2,3,4,6] ] \n",
    "x"
   ]
  },
  {
   "cell_type": "code",
   "execution_count": 16,
   "id": "a287808d",
   "metadata": {},
   "outputs": [
    {
     "data": {
      "text/html": [
       "<div>\n",
       "<style scoped>\n",
       "    .dataframe tbody tr th:only-of-type {\n",
       "        vertical-align: middle;\n",
       "    }\n",
       "\n",
       "    .dataframe tbody tr th {\n",
       "        vertical-align: top;\n",
       "    }\n",
       "\n",
       "    .dataframe thead th {\n",
       "        text-align: right;\n",
       "    }\n",
       "</style>\n",
       "<table border=\"1\" class=\"dataframe\">\n",
       "  <thead>\n",
       "    <tr style=\"text-align: right;\">\n",
       "      <th></th>\n",
       "      <th>observedRainfallcatagorical</th>\n",
       "    </tr>\n",
       "  </thead>\n",
       "  <tbody>\n",
       "    <tr>\n",
       "      <th>0</th>\n",
       "      <td>0.0</td>\n",
       "    </tr>\n",
       "    <tr>\n",
       "      <th>1</th>\n",
       "      <td>0.0</td>\n",
       "    </tr>\n",
       "    <tr>\n",
       "      <th>2</th>\n",
       "      <td>0.0</td>\n",
       "    </tr>\n",
       "    <tr>\n",
       "      <th>3</th>\n",
       "      <td>1.0</td>\n",
       "    </tr>\n",
       "    <tr>\n",
       "      <th>4</th>\n",
       "      <td>0.0</td>\n",
       "    </tr>\n",
       "    <tr>\n",
       "      <th>...</th>\n",
       "      <td>...</td>\n",
       "    </tr>\n",
       "    <tr>\n",
       "      <th>361</th>\n",
       "      <td>0.0</td>\n",
       "    </tr>\n",
       "    <tr>\n",
       "      <th>362</th>\n",
       "      <td>1.0</td>\n",
       "    </tr>\n",
       "    <tr>\n",
       "      <th>363</th>\n",
       "      <td>0.0</td>\n",
       "    </tr>\n",
       "    <tr>\n",
       "      <th>364</th>\n",
       "      <td>0.0</td>\n",
       "    </tr>\n",
       "    <tr>\n",
       "      <th>365</th>\n",
       "      <td>0.0</td>\n",
       "    </tr>\n",
       "  </tbody>\n",
       "</table>\n",
       "<p>366 rows × 1 columns</p>\n",
       "</div>"
      ],
      "text/plain": [
       "     observedRainfallcatagorical\n",
       "0                            0.0\n",
       "1                            0.0\n",
       "2                            0.0\n",
       "3                            1.0\n",
       "4                            0.0\n",
       "..                           ...\n",
       "361                          0.0\n",
       "362                          1.0\n",
       "363                          0.0\n",
       "364                          0.0\n",
       "365                          0.0\n",
       "\n",
       "[366 rows x 1 columns]"
      ]
     },
     "execution_count": 16,
     "metadata": {},
     "output_type": "execute_result"
    }
   ],
   "source": [
    "y=df.iloc[0:366, 7:]\n",
    "\n",
    "y"
   ]
  },
  {
   "cell_type": "code",
   "execution_count": 17,
   "id": "fc8186a9",
   "metadata": {},
   "outputs": [],
   "source": [
    "#scaler_x = MinMaxScaler()\n",
    "#scaler_y = MinMaxScaler()\n",
    "#scaler_x.fit(x)\n",
    "#x_=scaler_x.transform(x)\n",
    "\n",
    "#scaler_y.fit(y)\n",
    "#y_=scaler_y.transform(y)\n",
    "\n",
    "from sklearn.preprocessing import StandardScaler    \n",
    "stx= StandardScaler()    \n",
    "x_= stx.fit_transform(x)    \n",
    "y_= stx.transform(y)  \n"
   ]
  },
  {
   "cell_type": "code",
   "execution_count": 18,
   "id": "633c83e1",
   "metadata": {},
   "outputs": [],
   "source": [
    "x_train,x_test,y_train,y_test = train_test_split(x_,y_,test_size=0.2,random_state=1)"
   ]
  },
  {
   "cell_type": "code",
   "execution_count": 19,
   "id": "cd6a7844",
   "metadata": {},
   "outputs": [
    {
     "data": {
      "text/plain": [
       "(292, 4)"
      ]
     },
     "execution_count": 19,
     "metadata": {},
     "output_type": "execute_result"
    }
   ],
   "source": [
    "x_train.shape"
   ]
  },
  {
   "cell_type": "code",
   "execution_count": 20,
   "id": "db77d4f8",
   "metadata": {},
   "outputs": [
    {
     "data": {
      "text/plain": [
       "(292, 1)"
      ]
     },
     "execution_count": 20,
     "metadata": {},
     "output_type": "execute_result"
    }
   ],
   "source": [
    "y_train.shape"
   ]
  },
  {
   "cell_type": "code",
   "execution_count": 21,
   "id": "ebea7e41",
   "metadata": {},
   "outputs": [
    {
     "data": {
      "text/plain": [
       "(74, 4)"
      ]
     },
     "execution_count": 21,
     "metadata": {},
     "output_type": "execute_result"
    }
   ],
   "source": [
    "yy_test=y_test\n",
    "x_test.shape"
   ]
  },
  {
   "cell_type": "markdown",
   "id": "2cff82be",
   "metadata": {},
   "source": [
    "## Decision trees( Random forest classifier)"
   ]
  },
  {
   "cell_type": "code",
   "execution_count": 22,
   "id": "4cea3413",
   "metadata": {},
   "outputs": [],
   "source": [
    "yTrain=np.ravel(y_train)\n",
    "yTest=np.ravel(y_test)"
   ]
  },
  {
   "cell_type": "code",
   "execution_count": 23,
   "id": "a9a078cd",
   "metadata": {},
   "outputs": [],
   "source": [
    "RF = RandomForestClassifier(max_depth=32,n_estimators=120,random_state=1)\n",
    "h=RF.fit(x_train,yTrain)\n",
    "y_pred = RF.predict(x_test)"
   ]
  },
  {
   "cell_type": "code",
   "execution_count": 24,
   "id": "55ec70f9",
   "metadata": {},
   "outputs": [
    {
     "data": {
      "text/plain": [
       "0.8783783783783784"
      ]
     },
     "execution_count": 24,
     "metadata": {},
     "output_type": "execute_result"
    }
   ],
   "source": [
    "accuracy_score(yTest, y_pred)"
   ]
  },
  {
   "cell_type": "code",
   "execution_count": 25,
   "id": "6e8aa61a",
   "metadata": {},
   "outputs": [
    {
     "data": {
      "text/plain": [
       "array([0.29369206, 0.47782666, 0.12672482, 0.10175645])"
      ]
     },
     "execution_count": 25,
     "metadata": {},
     "output_type": "execute_result"
    }
   ],
   "source": [
    "RF.feature_importances_"
   ]
  },
  {
   "cell_type": "markdown",
   "id": "b9477312",
   "metadata": {},
   "source": [
    "## Gaussian Naive Bayes"
   ]
  },
  {
   "cell_type": "code",
   "execution_count": 26,
   "id": "4b246004",
   "metadata": {
    "scrolled": true
   },
   "outputs": [
    {
     "data": {
      "text/plain": [
       "array([1., 1., 1., 1., 1., 1., 1., 1., 1., 0., 0., 0., 0., 1., 1., 1., 1.,\n",
       "       1., 0., 1., 1., 1., 0., 1., 0., 1., 1., 0., 1., 1., 1., 0., 1., 1.,\n",
       "       0., 0., 1., 1., 1., 1., 1., 0., 0., 0., 1., 1., 0., 1., 1., 1., 1.,\n",
       "       1., 1., 1., 1., 0., 0., 1., 1., 1., 1., 1., 1., 0., 1., 1., 1., 1.,\n",
       "       1., 0., 0., 1., 0., 1.])"
      ]
     },
     "execution_count": 26,
     "metadata": {},
     "output_type": "execute_result"
    }
   ],
   "source": [
    "nb=GaussianNB()\n",
    "\n",
    "nb.fit(x_train,yTrain)\n",
    "\n",
    "y_pred1=nb.predict(x_test)\n",
    "y_pred1"
   ]
  },
  {
   "cell_type": "code",
   "execution_count": 27,
   "id": "3f352533",
   "metadata": {},
   "outputs": [
    {
     "data": {
      "text/plain": [
       "0.9054054054054054"
      ]
     },
     "execution_count": 27,
     "metadata": {},
     "output_type": "execute_result"
    }
   ],
   "source": [
    "metrics.accuracy_score(yTest,y_pred1)"
   ]
  },
  {
   "cell_type": "code",
   "execution_count": 28,
   "id": "111cc1f5",
   "metadata": {},
   "outputs": [
    {
     "name": "stdout",
     "output_type": "stream",
     "text": [
      "    prediction  Actual value\n",
      "0   1.0         1.0         \n",
      "1   1.0         1.0         \n",
      "2   1.0         1.0         \n",
      "3   1.0         1.0         \n",
      "4   1.0         1.0         \n",
      "5   1.0         0.0         \n",
      "6   1.0         1.0         \n",
      "7   1.0         1.0         \n",
      "8   1.0         1.0         \n",
      "9   0.0         0.0         \n",
      "10  0.0         0.0         \n",
      "11  0.0         0.0         \n",
      "12  0.0         0.0         \n",
      "13  1.0         1.0         \n",
      "14  1.0         1.0         \n",
      "15  1.0         1.0         \n",
      "16  1.0         1.0         \n",
      "17  1.0         0.0         \n",
      "18  0.0         0.0         \n",
      "19  1.0         1.0         \n",
      "20  1.0         1.0         \n",
      "21  1.0         1.0         \n",
      "22  0.0         0.0         \n",
      "23  1.0         1.0         \n",
      "24  0.0         0.0         \n",
      "25  1.0         1.0         \n",
      "26  1.0         1.0         \n",
      "27  0.0         0.0         \n",
      "28  1.0         1.0         \n",
      "29  1.0         0.0         \n",
      "30  1.0         1.0         \n",
      "31  0.0         0.0         \n",
      "32  1.0         1.0         \n",
      "33  1.0         1.0         \n",
      "34  0.0         0.0         \n",
      "35  0.0         0.0         \n",
      "36  1.0         1.0         \n",
      "37  1.0         1.0         \n",
      "38  1.0         1.0         \n",
      "39  1.0         0.0         \n",
      "40  1.0         1.0         \n",
      "41  0.0         0.0         \n",
      "42  0.0         0.0         \n",
      "43  0.0         0.0         \n",
      "44  1.0         1.0         \n",
      "45  1.0         1.0         \n",
      "46  0.0         0.0         \n",
      "47  1.0         1.0         \n",
      "48  1.0         1.0         \n",
      "49  1.0         1.0         \n",
      "50  1.0         1.0         \n",
      "51  1.0         1.0         \n",
      "52  1.0         1.0         \n",
      "53  1.0         1.0         \n",
      "54  1.0         1.0         \n",
      "55  0.0         0.0         \n",
      "56  0.0         0.0         \n",
      "57  1.0         1.0         \n",
      "58  1.0         1.0         \n",
      "59  1.0         1.0         \n",
      "60  1.0         0.0         \n",
      "61  1.0         1.0         \n",
      "62  1.0         1.0         \n",
      "63  0.0         0.0         \n",
      "64  1.0         1.0         \n",
      "65  1.0         1.0         \n",
      "66  1.0         1.0         \n",
      "67  1.0         1.0         \n",
      "68  1.0         1.0         \n",
      "69  0.0         1.0         \n",
      "70  0.0         0.0         \n",
      "71  1.0         0.0         \n",
      "72  0.0         0.0         \n",
      "73  1.0         1.0         \n"
     ]
    }
   ],
   "source": [
    "gdf = pd.DataFrame(yy_test)\n",
    "# Using DataFrame.insert() to add a column\n",
    "gdf.insert(0, \"prediction\",y_pred1, True)\n",
    "gdf.rename(columns = { 0:'Actual value'}, inplace = True)\n",
    "pd.set_option('display.max_columns', None)\n",
    "pd.set_option('display.max_rows', None) \n",
    "\n",
    "pd.set_option('display.max_colwidth',0) \n",
    "\n",
    "# Observe the result\n",
    "print(gdf)"
   ]
  },
  {
   "cell_type": "markdown",
   "id": "fd1cc954",
   "metadata": {},
   "source": [
    "## Artificial neural network"
   ]
  },
  {
   "cell_type": "code",
   "execution_count": 29,
   "id": "d0a7cd65",
   "metadata": {},
   "outputs": [
    {
     "name": "stdout",
     "output_type": "stream",
     "text": [
      "Epoch 1/150\n",
      "8/8 [==============================] - 0s 21ms/step - loss: 0.6931 - accuracy: 0.6781 - val_loss: 0.6931 - val_accuracy: 0.5932\n",
      "Epoch 2/150\n",
      "8/8 [==============================] - 0s 4ms/step - loss: 0.6929 - accuracy: 0.6910 - val_loss: 0.6930 - val_accuracy: 0.5932\n",
      "Epoch 3/150\n",
      "8/8 [==============================] - 0s 5ms/step - loss: 0.6927 - accuracy: 0.6910 - val_loss: 0.6929 - val_accuracy: 0.5932\n",
      "Epoch 4/150\n",
      "8/8 [==============================] - 0s 4ms/step - loss: 0.6925 - accuracy: 0.6910 - val_loss: 0.6928 - val_accuracy: 0.5932\n",
      "Epoch 5/150\n",
      "8/8 [==============================] - 0s 4ms/step - loss: 0.6923 - accuracy: 0.6910 - val_loss: 0.6927 - val_accuracy: 0.5932\n",
      "Epoch 6/150\n",
      "8/8 [==============================] - 0s 4ms/step - loss: 0.6921 - accuracy: 0.6910 - val_loss: 0.6925 - val_accuracy: 0.5932\n",
      "Epoch 7/150\n",
      "8/8 [==============================] - 0s 4ms/step - loss: 0.6918 - accuracy: 0.6910 - val_loss: 0.6924 - val_accuracy: 0.5932\n",
      "Epoch 8/150\n",
      "8/8 [==============================] - 0s 5ms/step - loss: 0.6916 - accuracy: 0.6910 - val_loss: 0.6922 - val_accuracy: 0.5932\n",
      "Epoch 9/150\n",
      "8/8 [==============================] - 0s 4ms/step - loss: 0.6912 - accuracy: 0.6910 - val_loss: 0.6920 - val_accuracy: 0.5932\n",
      "Epoch 10/150\n",
      "8/8 [==============================] - 0s 4ms/step - loss: 0.6910 - accuracy: 0.6910 - val_loss: 0.6917 - val_accuracy: 0.5932\n",
      "Epoch 11/150\n",
      "8/8 [==============================] - 0s 4ms/step - loss: 0.6902 - accuracy: 0.6910 - val_loss: 0.6914 - val_accuracy: 0.5932\n",
      "Epoch 12/150\n",
      "8/8 [==============================] - 0s 4ms/step - loss: 0.6897 - accuracy: 0.6910 - val_loss: 0.6910 - val_accuracy: 0.5932\n",
      "Epoch 13/150\n",
      "8/8 [==============================] - 0s 5ms/step - loss: 0.6888 - accuracy: 0.6910 - val_loss: 0.6904 - val_accuracy: 0.5932\n",
      "Epoch 14/150\n",
      "8/8 [==============================] - 0s 4ms/step - loss: 0.6879 - accuracy: 0.6910 - val_loss: 0.6897 - val_accuracy: 0.5932\n",
      "Epoch 15/150\n",
      "8/8 [==============================] - 0s 4ms/step - loss: 0.6867 - accuracy: 0.6910 - val_loss: 0.6887 - val_accuracy: 0.5932\n",
      "Epoch 16/150\n",
      "8/8 [==============================] - ETA: 0s - loss: 0.6851 - accuracy: 0.78 - 0s 4ms/step - loss: 0.6858 - accuracy: 0.6910 - val_loss: 0.6877 - val_accuracy: 0.5932\n",
      "Epoch 17/150\n",
      "8/8 [==============================] - 0s 4ms/step - loss: 0.6829 - accuracy: 0.6910 - val_loss: 0.6863 - val_accuracy: 0.5932\n",
      "Epoch 18/150\n",
      "8/8 [==============================] - 0s 5ms/step - loss: 0.6805 - accuracy: 0.6910 - val_loss: 0.6845 - val_accuracy: 0.5932\n",
      "Epoch 19/150\n",
      "8/8 [==============================] - 0s 4ms/step - loss: 0.6770 - accuracy: 0.6910 - val_loss: 0.6823 - val_accuracy: 0.5932\n",
      "Epoch 20/150\n",
      "8/8 [==============================] - 0s 4ms/step - loss: 0.6726 - accuracy: 0.6910 - val_loss: 0.6796 - val_accuracy: 0.5932\n",
      "Epoch 21/150\n",
      "8/8 [==============================] - 0s 4ms/step - loss: 0.6682 - accuracy: 0.6910 - val_loss: 0.6766 - val_accuracy: 0.5932\n",
      "Epoch 22/150\n",
      "8/8 [==============================] - 0s 4ms/step - loss: 0.6615 - accuracy: 0.6910 - val_loss: 0.6729 - val_accuracy: 0.5932\n",
      "Epoch 23/150\n",
      "8/8 [==============================] - 0s 4ms/step - loss: 0.6538 - accuracy: 0.6910 - val_loss: 0.6688 - val_accuracy: 0.5932\n",
      "Epoch 24/150\n",
      "8/8 [==============================] - 0s 4ms/step - loss: 0.6493 - accuracy: 0.6910 - val_loss: 0.6644 - val_accuracy: 0.5932\n",
      "Epoch 25/150\n",
      "8/8 [==============================] - 0s 4ms/step - loss: 0.6393 - accuracy: 0.6910 - val_loss: 0.6594 - val_accuracy: 0.5932\n",
      "Epoch 26/150\n",
      "8/8 [==============================] - 0s 4ms/step - loss: 0.6329 - accuracy: 0.6910 - val_loss: 0.6543 - val_accuracy: 0.5932\n",
      "Epoch 27/150\n",
      "8/8 [==============================] - 0s 4ms/step - loss: 0.6150 - accuracy: 0.6910 - val_loss: 0.6494 - val_accuracy: 0.5932\n",
      "Epoch 28/150\n",
      "8/8 [==============================] - 0s 4ms/step - loss: 0.6025 - accuracy: 0.6910 - val_loss: 0.6450 - val_accuracy: 0.5932\n",
      "Epoch 29/150\n",
      "8/8 [==============================] - 0s 6ms/step - loss: 0.5969 - accuracy: 0.6910 - val_loss: 0.6415 - val_accuracy: 0.5932\n",
      "Epoch 30/150\n",
      "8/8 [==============================] - 0s 4ms/step - loss: 0.5987 - accuracy: 0.6910 - val_loss: 0.6390 - val_accuracy: 0.5932\n",
      "Epoch 31/150\n",
      "8/8 [==============================] - 0s 4ms/step - loss: 0.5837 - accuracy: 0.6910 - val_loss: 0.6372 - val_accuracy: 0.5932\n",
      "Epoch 32/150\n",
      "8/8 [==============================] - 0s 5ms/step - loss: 0.5889 - accuracy: 0.6910 - val_loss: 0.6357 - val_accuracy: 0.5932\n",
      "Epoch 33/150\n",
      "8/8 [==============================] - 0s 5ms/step - loss: 0.5637 - accuracy: 0.6910 - val_loss: 0.6342 - val_accuracy: 0.5932\n",
      "Epoch 34/150\n",
      "8/8 [==============================] - 0s 4ms/step - loss: 0.5492 - accuracy: 0.6910 - val_loss: 0.6332 - val_accuracy: 0.5932\n",
      "Epoch 35/150\n",
      "8/8 [==============================] - 0s 4ms/step - loss: 0.5673 - accuracy: 0.6910 - val_loss: 0.6321 - val_accuracy: 0.5932\n",
      "Epoch 36/150\n",
      "8/8 [==============================] - 0s 5ms/step - loss: 0.5833 - accuracy: 0.6910 - val_loss: 0.6308 - val_accuracy: 0.5932\n",
      "Epoch 37/150\n",
      "8/8 [==============================] - 0s 5ms/step - loss: 0.5695 - accuracy: 0.6910 - val_loss: 0.6295 - val_accuracy: 0.5932\n",
      "Epoch 38/150\n",
      "8/8 [==============================] - 0s 4ms/step - loss: 0.5668 - accuracy: 0.6910 - val_loss: 0.6282 - val_accuracy: 0.5932\n",
      "Epoch 39/150\n",
      "8/8 [==============================] - 0s 4ms/step - loss: 0.5733 - accuracy: 0.6910 - val_loss: 0.6261 - val_accuracy: 0.5932\n",
      "Epoch 40/150\n",
      "8/8 [==============================] - 0s 4ms/step - loss: 0.5475 - accuracy: 0.6910 - val_loss: 0.6242 - val_accuracy: 0.5932\n",
      "Epoch 41/150\n",
      "8/8 [==============================] - 0s 4ms/step - loss: 0.5531 - accuracy: 0.6910 - val_loss: 0.6216 - val_accuracy: 0.5932\n",
      "Epoch 42/150\n",
      "8/8 [==============================] - 0s 4ms/step - loss: 0.5343 - accuracy: 0.6910 - val_loss: 0.6201 - val_accuracy: 0.5932\n",
      "Epoch 43/150\n",
      "8/8 [==============================] - 0s 4ms/step - loss: 0.5641 - accuracy: 0.6910 - val_loss: 0.6181 - val_accuracy: 0.5932\n",
      "Epoch 44/150\n",
      "8/8 [==============================] - 0s 4ms/step - loss: 0.5521 - accuracy: 0.6910 - val_loss: 0.6143 - val_accuracy: 0.5932\n",
      "Epoch 45/150\n",
      "8/8 [==============================] - 0s 5ms/step - loss: 0.5279 - accuracy: 0.6910 - val_loss: 0.6118 - val_accuracy: 0.5932\n",
      "Epoch 46/150\n",
      "8/8 [==============================] - 0s 4ms/step - loss: 0.5372 - accuracy: 0.6910 - val_loss: 0.6082 - val_accuracy: 0.5932\n",
      "Epoch 47/150\n",
      "8/8 [==============================] - 0s 5ms/step - loss: 0.5238 - accuracy: 0.6910 - val_loss: 0.6072 - val_accuracy: 0.5932\n",
      "Epoch 48/150\n",
      "8/8 [==============================] - 0s 4ms/step - loss: 0.5249 - accuracy: 0.6910 - val_loss: 0.6020 - val_accuracy: 0.5932\n",
      "Epoch 49/150\n",
      "8/8 [==============================] - 0s 5ms/step - loss: 0.5164 - accuracy: 0.6910 - val_loss: 0.5982 - val_accuracy: 0.5932\n",
      "Epoch 50/150\n",
      "8/8 [==============================] - 0s 4ms/step - loss: 0.5410 - accuracy: 0.6910 - val_loss: 0.5942 - val_accuracy: 0.5932\n",
      "Epoch 51/150\n",
      "8/8 [==============================] - 0s 4ms/step - loss: 0.5274 - accuracy: 0.6910 - val_loss: 0.5896 - val_accuracy: 0.5932\n",
      "Epoch 52/150\n",
      "8/8 [==============================] - 0s 5ms/step - loss: 0.5210 - accuracy: 0.6910 - val_loss: 0.5844 - val_accuracy: 0.5932\n",
      "Epoch 53/150\n",
      "8/8 [==============================] - 0s 4ms/step - loss: 0.5188 - accuracy: 0.6910 - val_loss: 0.5809 - val_accuracy: 0.5932\n",
      "Epoch 54/150\n",
      "8/8 [==============================] - 0s 5ms/step - loss: 0.5112 - accuracy: 0.6910 - val_loss: 0.5759 - val_accuracy: 0.5932\n",
      "Epoch 55/150\n",
      "8/8 [==============================] - 0s 4ms/step - loss: 0.4851 - accuracy: 0.6910 - val_loss: 0.5698 - val_accuracy: 0.5932\n",
      "Epoch 56/150\n",
      "8/8 [==============================] - 0s 4ms/step - loss: 0.4865 - accuracy: 0.6910 - val_loss: 0.5613 - val_accuracy: 0.5932\n",
      "Epoch 57/150\n",
      "8/8 [==============================] - 0s 4ms/step - loss: 0.4767 - accuracy: 0.6910 - val_loss: 0.5589 - val_accuracy: 0.5932\n",
      "Epoch 58/150\n",
      "8/8 [==============================] - 0s 4ms/step - loss: 0.4787 - accuracy: 0.6910 - val_loss: 0.5567 - val_accuracy: 0.5932\n",
      "Epoch 59/150\n",
      "8/8 [==============================] - 0s 4ms/step - loss: 0.4759 - accuracy: 0.6910 - val_loss: 0.5494 - val_accuracy: 0.5932\n",
      "Epoch 60/150\n",
      "8/8 [==============================] - 0s 4ms/step - loss: 0.4810 - accuracy: 0.6910 - val_loss: 0.5431 - val_accuracy: 0.5932\n",
      "Epoch 61/150\n",
      "8/8 [==============================] - 0s 4ms/step - loss: 0.4742 - accuracy: 0.6910 - val_loss: 0.5407 - val_accuracy: 0.5932\n",
      "Epoch 62/150\n",
      "8/8 [==============================] - 0s 4ms/step - loss: 0.4651 - accuracy: 0.7039 - val_loss: 0.5400 - val_accuracy: 0.5932\n",
      "Epoch 63/150\n",
      "8/8 [==============================] - 0s 4ms/step - loss: 0.4774 - accuracy: 0.7039 - val_loss: 0.5341 - val_accuracy: 0.5932\n",
      "Epoch 64/150\n",
      "8/8 [==============================] - 0s 4ms/step - loss: 0.4524 - accuracy: 0.7253 - val_loss: 0.5308 - val_accuracy: 0.5932\n",
      "Epoch 65/150\n",
      "8/8 [==============================] - 0s 4ms/step - loss: 0.4632 - accuracy: 0.7468 - val_loss: 0.5296 - val_accuracy: 0.6102\n",
      "Epoch 66/150\n",
      "8/8 [==============================] - 0s 4ms/step - loss: 0.4602 - accuracy: 0.7382 - val_loss: 0.5212 - val_accuracy: 0.6610\n",
      "Epoch 67/150\n",
      "8/8 [==============================] - 0s 4ms/step - loss: 0.4717 - accuracy: 0.7339 - val_loss: 0.5181 - val_accuracy: 0.6610\n",
      "Epoch 68/150\n",
      "8/8 [==============================] - 0s 4ms/step - loss: 0.4466 - accuracy: 0.7425 - val_loss: 0.5148 - val_accuracy: 0.6610\n",
      "Epoch 69/150\n",
      "8/8 [==============================] - 0s 4ms/step - loss: 0.4496 - accuracy: 0.7768 - val_loss: 0.5087 - val_accuracy: 0.6610\n",
      "Epoch 70/150\n",
      "8/8 [==============================] - 0s 4ms/step - loss: 0.4510 - accuracy: 0.7639 - val_loss: 0.5037 - val_accuracy: 0.6949\n",
      "Epoch 71/150\n",
      "8/8 [==============================] - 0s 4ms/step - loss: 0.4369 - accuracy: 0.7468 - val_loss: 0.4984 - val_accuracy: 0.7119\n",
      "Epoch 72/150\n",
      "8/8 [==============================] - 0s 4ms/step - loss: 0.4573 - accuracy: 0.7425 - val_loss: 0.4942 - val_accuracy: 0.7288\n",
      "Epoch 73/150\n",
      "8/8 [==============================] - 0s 4ms/step - loss: 0.4298 - accuracy: 0.7597 - val_loss: 0.4898 - val_accuracy: 0.7458\n",
      "Epoch 74/150\n",
      "8/8 [==============================] - 0s 4ms/step - loss: 0.4267 - accuracy: 0.7854 - val_loss: 0.4852 - val_accuracy: 0.7458\n",
      "Epoch 75/150\n",
      "8/8 [==============================] - 0s 4ms/step - loss: 0.4280 - accuracy: 0.7554 - val_loss: 0.4811 - val_accuracy: 0.7458\n",
      "Epoch 76/150\n",
      "8/8 [==============================] - 0s 4ms/step - loss: 0.4422 - accuracy: 0.7940 - val_loss: 0.4770 - val_accuracy: 0.7458\n",
      "Epoch 77/150\n",
      "8/8 [==============================] - 0s 4ms/step - loss: 0.4185 - accuracy: 0.7854 - val_loss: 0.4760 - val_accuracy: 0.7458\n",
      "Epoch 78/150\n",
      "8/8 [==============================] - 0s 4ms/step - loss: 0.4106 - accuracy: 0.8112 - val_loss: 0.4741 - val_accuracy: 0.7458\n",
      "Epoch 79/150\n",
      "8/8 [==============================] - 0s 4ms/step - loss: 0.4156 - accuracy: 0.7725 - val_loss: 0.4716 - val_accuracy: 0.7458\n",
      "Epoch 80/150\n",
      "8/8 [==============================] - 0s 4ms/step - loss: 0.4014 - accuracy: 0.8026 - val_loss: 0.4659 - val_accuracy: 0.7458\n",
      "Epoch 81/150\n",
      "8/8 [==============================] - 0s 4ms/step - loss: 0.4115 - accuracy: 0.7768 - val_loss: 0.4642 - val_accuracy: 0.7458\n",
      "Epoch 82/150\n",
      "8/8 [==============================] - 0s 4ms/step - loss: 0.4117 - accuracy: 0.8155 - val_loss: 0.4613 - val_accuracy: 0.7458\n",
      "Epoch 83/150\n",
      "8/8 [==============================] - 0s 3ms/step - loss: 0.3945 - accuracy: 0.8326 - val_loss: 0.4571 - val_accuracy: 0.7458\n",
      "Epoch 84/150\n",
      "8/8 [==============================] - 0s 4ms/step - loss: 0.3853 - accuracy: 0.8112 - val_loss: 0.4540 - val_accuracy: 0.7458\n",
      "Epoch 85/150\n",
      "8/8 [==============================] - 0s 4ms/step - loss: 0.3944 - accuracy: 0.8155 - val_loss: 0.4479 - val_accuracy: 0.7458\n",
      "Epoch 86/150\n",
      "8/8 [==============================] - 0s 4ms/step - loss: 0.3863 - accuracy: 0.8240 - val_loss: 0.4454 - val_accuracy: 0.7627\n",
      "Epoch 87/150\n",
      "8/8 [==============================] - 0s 4ms/step - loss: 0.3881 - accuracy: 0.8412 - val_loss: 0.4426 - val_accuracy: 0.7627\n",
      "Epoch 88/150\n",
      "8/8 [==============================] - 0s 4ms/step - loss: 0.4013 - accuracy: 0.8069 - val_loss: 0.4398 - val_accuracy: 0.7627\n",
      "Epoch 89/150\n",
      "8/8 [==============================] - 0s 4ms/step - loss: 0.3708 - accuracy: 0.8369 - val_loss: 0.4329 - val_accuracy: 0.7627\n",
      "Epoch 90/150\n",
      "8/8 [==============================] - 0s 6ms/step - loss: 0.3722 - accuracy: 0.8197 - val_loss: 0.4256 - val_accuracy: 0.7627\n",
      "Epoch 91/150\n",
      "8/8 [==============================] - 0s 5ms/step - loss: 0.3683 - accuracy: 0.8412 - val_loss: 0.4224 - val_accuracy: 0.7627\n",
      "Epoch 92/150\n",
      "8/8 [==============================] - 0s 4ms/step - loss: 0.3645 - accuracy: 0.8197 - val_loss: 0.4227 - val_accuracy: 0.7627\n",
      "Epoch 93/150\n",
      "8/8 [==============================] - 0s 4ms/step - loss: 0.3793 - accuracy: 0.8283 - val_loss: 0.4207 - val_accuracy: 0.7627\n",
      "Epoch 94/150\n",
      "8/8 [==============================] - 0s 3ms/step - loss: 0.3664 - accuracy: 0.8541 - val_loss: 0.4222 - val_accuracy: 0.7627\n",
      "Epoch 95/150\n",
      "8/8 [==============================] - 0s 4ms/step - loss: 0.3484 - accuracy: 0.8541 - val_loss: 0.4162 - val_accuracy: 0.7627\n",
      "Epoch 96/150\n",
      "8/8 [==============================] - 0s 4ms/step - loss: 0.3606 - accuracy: 0.8412 - val_loss: 0.4126 - val_accuracy: 0.7627\n",
      "Epoch 97/150\n",
      "8/8 [==============================] - 0s 4ms/step - loss: 0.3617 - accuracy: 0.8455 - val_loss: 0.4055 - val_accuracy: 0.7627\n",
      "Epoch 98/150\n",
      "8/8 [==============================] - 0s 4ms/step - loss: 0.3653 - accuracy: 0.8455 - val_loss: 0.3967 - val_accuracy: 0.7797\n",
      "Epoch 99/150\n",
      "8/8 [==============================] - 0s 4ms/step - loss: 0.3518 - accuracy: 0.8326 - val_loss: 0.3957 - val_accuracy: 0.7797\n",
      "Epoch 100/150\n",
      "8/8 [==============================] - 0s 4ms/step - loss: 0.3599 - accuracy: 0.8412 - val_loss: 0.3987 - val_accuracy: 0.7627\n",
      "Epoch 101/150\n",
      "8/8 [==============================] - 0s 4ms/step - loss: 0.3585 - accuracy: 0.8584 - val_loss: 0.3945 - val_accuracy: 0.7797\n",
      "Epoch 102/150\n",
      "8/8 [==============================] - 0s 4ms/step - loss: 0.3503 - accuracy: 0.8584 - val_loss: 0.3860 - val_accuracy: 0.7966\n",
      "Epoch 103/150\n",
      "8/8 [==============================] - 0s 4ms/step - loss: 0.3464 - accuracy: 0.8541 - val_loss: 0.3874 - val_accuracy: 0.7797\n",
      "Epoch 104/150\n",
      "8/8 [==============================] - 0s 3ms/step - loss: 0.3532 - accuracy: 0.8155 - val_loss: 0.3905 - val_accuracy: 0.7797\n",
      "Epoch 105/150\n",
      "8/8 [==============================] - 0s 3ms/step - loss: 0.3590 - accuracy: 0.8627 - val_loss: 0.3863 - val_accuracy: 0.7797\n",
      "Epoch 106/150\n",
      "8/8 [==============================] - 0s 3ms/step - loss: 0.3457 - accuracy: 0.8670 - val_loss: 0.3754 - val_accuracy: 0.7966\n",
      "Epoch 107/150\n",
      "8/8 [==============================] - 0s 4ms/step - loss: 0.3453 - accuracy: 0.8541 - val_loss: 0.3747 - val_accuracy: 0.8136\n",
      "Epoch 108/150\n",
      "8/8 [==============================] - 0s 4ms/step - loss: 0.3413 - accuracy: 0.8498 - val_loss: 0.3826 - val_accuracy: 0.7966\n",
      "Epoch 109/150\n",
      "8/8 [==============================] - 0s 3ms/step - loss: 0.3578 - accuracy: 0.8197 - val_loss: 0.3895 - val_accuracy: 0.7797\n",
      "Epoch 110/150\n",
      "8/8 [==============================] - 0s 4ms/step - loss: 0.3384 - accuracy: 0.8541 - val_loss: 0.3753 - val_accuracy: 0.7966\n",
      "Epoch 111/150\n",
      "8/8 [==============================] - 0s 4ms/step - loss: 0.3391 - accuracy: 0.8326 - val_loss: 0.3659 - val_accuracy: 0.8475\n",
      "Epoch 112/150\n",
      "8/8 [==============================] - 0s 4ms/step - loss: 0.3375 - accuracy: 0.8240 - val_loss: 0.3626 - val_accuracy: 0.8475\n",
      "Epoch 113/150\n",
      "8/8 [==============================] - 0s 3ms/step - loss: 0.3565 - accuracy: 0.8584 - val_loss: 0.3625 - val_accuracy: 0.8475\n",
      "Epoch 114/150\n",
      "8/8 [==============================] - 0s 4ms/step - loss: 0.3260 - accuracy: 0.8369 - val_loss: 0.3611 - val_accuracy: 0.8475\n",
      "Epoch 115/150\n",
      "8/8 [==============================] - 0s 4ms/step - loss: 0.3438 - accuracy: 0.8283 - val_loss: 0.3650 - val_accuracy: 0.8475\n",
      "Epoch 116/150\n",
      "8/8 [==============================] - 0s 4ms/step - loss: 0.3342 - accuracy: 0.8498 - val_loss: 0.3761 - val_accuracy: 0.7966\n",
      "Epoch 117/150\n"
     ]
    },
    {
     "name": "stdout",
     "output_type": "stream",
     "text": [
      "8/8 [==============================] - 0s 3ms/step - loss: 0.3306 - accuracy: 0.8283 - val_loss: 0.3654 - val_accuracy: 0.8475\n",
      "Epoch 118/150\n",
      "8/8 [==============================] - 0s 4ms/step - loss: 0.3423 - accuracy: 0.8412 - val_loss: 0.3597 - val_accuracy: 0.8475\n",
      "Epoch 119/150\n",
      "8/8 [==============================] - 0s 4ms/step - loss: 0.3428 - accuracy: 0.8326 - val_loss: 0.3554 - val_accuracy: 0.8475\n",
      "Epoch 120/150\n",
      "8/8 [==============================] - 0s 4ms/step - loss: 0.3559 - accuracy: 0.8069 - val_loss: 0.3544 - val_accuracy: 0.8475\n",
      "Epoch 121/150\n",
      "8/8 [==============================] - 0s 3ms/step - loss: 0.3257 - accuracy: 0.8712 - val_loss: 0.3547 - val_accuracy: 0.8475\n",
      "Epoch 122/150\n",
      "8/8 [==============================] - 0s 4ms/step - loss: 0.3448 - accuracy: 0.8670 - val_loss: 0.3518 - val_accuracy: 0.8305\n",
      "Epoch 123/150\n",
      "8/8 [==============================] - 0s 3ms/step - loss: 0.3278 - accuracy: 0.8541 - val_loss: 0.3616 - val_accuracy: 0.8475\n",
      "Epoch 124/150\n",
      "8/8 [==============================] - 0s 3ms/step - loss: 0.3321 - accuracy: 0.8283 - val_loss: 0.3586 - val_accuracy: 0.8475\n",
      "Epoch 125/150\n",
      "8/8 [==============================] - 0s 3ms/step - loss: 0.3391 - accuracy: 0.8498 - val_loss: 0.3606 - val_accuracy: 0.8475\n",
      "Epoch 126/150\n",
      "8/8 [==============================] - 0s 4ms/step - loss: 0.3168 - accuracy: 0.8498 - val_loss: 0.3622 - val_accuracy: 0.8475\n",
      "Epoch 127/150\n",
      "8/8 [==============================] - 0s 3ms/step - loss: 0.3196 - accuracy: 0.8455 - val_loss: 0.3614 - val_accuracy: 0.8475\n",
      "Epoch 128/150\n",
      "8/8 [==============================] - 0s 3ms/step - loss: 0.3385 - accuracy: 0.8412 - val_loss: 0.3493 - val_accuracy: 0.8305\n",
      "Epoch 129/150\n",
      "8/8 [==============================] - 0s 4ms/step - loss: 0.3275 - accuracy: 0.8498 - val_loss: 0.3424 - val_accuracy: 0.8305\n",
      "Epoch 130/150\n",
      "8/8 [==============================] - 0s 4ms/step - loss: 0.3375 - accuracy: 0.8412 - val_loss: 0.3391 - val_accuracy: 0.8475\n",
      "Epoch 131/150\n",
      "8/8 [==============================] - 0s 4ms/step - loss: 0.3072 - accuracy: 0.8498 - val_loss: 0.3397 - val_accuracy: 0.8475\n",
      "Epoch 132/150\n",
      "8/8 [==============================] - 0s 3ms/step - loss: 0.3267 - accuracy: 0.8283 - val_loss: 0.3433 - val_accuracy: 0.8305\n",
      "Epoch 133/150\n",
      "8/8 [==============================] - 0s 4ms/step - loss: 0.3451 - accuracy: 0.8412 - val_loss: 0.3435 - val_accuracy: 0.8305\n",
      "Epoch 134/150\n",
      "8/8 [==============================] - 0s 4ms/step - loss: 0.3472 - accuracy: 0.8412 - val_loss: 0.3379 - val_accuracy: 0.8475\n",
      "Epoch 135/150\n",
      "8/8 [==============================] - 0s 4ms/step - loss: 0.3175 - accuracy: 0.8498 - val_loss: 0.3426 - val_accuracy: 0.8305\n",
      "Epoch 136/150\n",
      "8/8 [==============================] - 0s 4ms/step - loss: 0.3399 - accuracy: 0.8498 - val_loss: 0.3472 - val_accuracy: 0.8305\n",
      "Epoch 137/150\n",
      "8/8 [==============================] - 0s 3ms/step - loss: 0.3120 - accuracy: 0.8541 - val_loss: 0.3451 - val_accuracy: 0.8305\n",
      "Epoch 138/150\n",
      "8/8 [==============================] - 0s 4ms/step - loss: 0.3365 - accuracy: 0.8326 - val_loss: 0.3424 - val_accuracy: 0.8305\n",
      "Epoch 139/150\n",
      "8/8 [==============================] - 0s 4ms/step - loss: 0.3197 - accuracy: 0.8412 - val_loss: 0.3430 - val_accuracy: 0.8305\n",
      "Epoch 140/150\n",
      "8/8 [==============================] - 0s 4ms/step - loss: 0.3336 - accuracy: 0.8369 - val_loss: 0.3387 - val_accuracy: 0.8475\n",
      "Epoch 141/150\n",
      "8/8 [==============================] - 0s 3ms/step - loss: 0.3275 - accuracy: 0.8069 - val_loss: 0.3344 - val_accuracy: 0.8644\n",
      "Epoch 142/150\n",
      "8/8 [==============================] - 0s 3ms/step - loss: 0.3006 - accuracy: 0.8541 - val_loss: 0.3385 - val_accuracy: 0.8475\n",
      "Epoch 143/150\n",
      "8/8 [==============================] - 0s 4ms/step - loss: 0.3324 - accuracy: 0.8455 - val_loss: 0.3331 - val_accuracy: 0.8644\n",
      "Epoch 144/150\n",
      "8/8 [==============================] - 0s 3ms/step - loss: 0.3362 - accuracy: 0.8412 - val_loss: 0.3322 - val_accuracy: 0.8644\n",
      "Epoch 145/150\n",
      "8/8 [==============================] - 0s 4ms/step - loss: 0.3422 - accuracy: 0.8197 - val_loss: 0.3320 - val_accuracy: 0.8644\n",
      "Epoch 146/150\n",
      "8/8 [==============================] - 0s 3ms/step - loss: 0.3063 - accuracy: 0.8798 - val_loss: 0.3332 - val_accuracy: 0.8644\n",
      "Epoch 147/150\n",
      "8/8 [==============================] - 0s 3ms/step - loss: 0.3203 - accuracy: 0.8755 - val_loss: 0.3404 - val_accuracy: 0.8475\n",
      "Epoch 148/150\n",
      "8/8 [==============================] - 0s 4ms/step - loss: 0.3267 - accuracy: 0.8498 - val_loss: 0.3422 - val_accuracy: 0.8475\n",
      "Epoch 149/150\n",
      "8/8 [==============================] - 0s 4ms/step - loss: 0.3096 - accuracy: 0.8884 - val_loss: 0.3324 - val_accuracy: 0.8644\n",
      "Epoch 150/150\n",
      "8/8 [==============================] - 0s 4ms/step - loss: 0.3075 - accuracy: 0.8584 - val_loss: 0.3278 - val_accuracy: 0.8644\n"
     ]
    }
   ],
   "source": [
    "early_stopping = callbacks.EarlyStopping(\n",
    "    min_delta=0.001, # minimium amount of change to count as an improvement\n",
    "    patience=20, # how many epochs to wait before stopping\n",
    "    restore_best_weights=True,\n",
    ")\n",
    "\n",
    "# Initialising\n",
    "model = Sequential()\n",
    "\n",
    "model.add(Dense(units = 32, kernel_initializer = 'uniform', activation = 'relu', input_dim = 4))\n",
    "model.add(Dense(units = 298, kernel_initializer = 'uniform', activation = 'relu'))\n",
    "model.add(Dense(units = 298, kernel_initializer = 'uniform', activation = 'relu'))\n",
    "model.add(Dropout(0.25))\n",
    "model.add(Dense(units = 8, kernel_initializer = 'uniform', activation = 'relu'))\n",
    "model.add(Dropout(0.5))\n",
    "model.add(Dense(units = 1, kernel_initializer = 'uniform', activation = 'sigmoid'))\n",
    "\n",
    "# Compiling \n",
    "opt = Adam(learning_rate=0.00009)\n",
    "model.compile(optimizer = opt, loss = 'binary_crossentropy', metrics = ['accuracy'])\n",
    "\n",
    "# Train \n",
    "history = model.fit(x_train, y_train, batch_size = 32, epochs = 150, callbacks=[early_stopping], validation_split=0.2)"
   ]
  },
  {
   "cell_type": "code",
   "execution_count": 30,
   "id": "70b010ee",
   "metadata": {},
   "outputs": [
    {
     "data": {
      "image/png": "[encoded data removed]",
      "text/plain": [
       "<Figure size 1080x360 with 2 Axes>"
      ]
     },
     "metadata": {
      "needs_background": "light"
     },
     "output_type": "display_data"
    }
   ],
   "source": [
    "h=history\n",
    "plt.figure(figsize=(15,5))\n",
    "plt.subplot(1,2,1)\n",
    "plt.plot(h.history['accuracy'], 'o-', label='train accuracy')\n",
    "plt.plot(h.history['val_accuracy'], 'o-', label = 'validation accuracy')\n",
    "plt.xlabel('Epoch')\n",
    "plt.ylabel('Accuracy')\n",
    "plt.grid(True)\n",
    "plt.legend(loc='lower right')\n",
    "\n",
    "plt.subplot(1,2,2)\n",
    "plt.plot(h.history['loss'], 'o-', label='train loss')\n",
    "plt.plot(h.history['val_loss'], 'o-', label='validation loss')\n",
    "plt.xlabel('Epoch')\n",
    "plt.ylabel('Loss')\n",
    "plt.grid(True)\n",
    "plt.legend(loc='upper right')\n",
    "\n",
    "plt.show()"
   ]
  },
  {
   "cell_type": "code",
   "execution_count": 31,
   "id": "f13e6131",
   "metadata": {},
   "outputs": [
    {
     "name": "stdout",
     "output_type": "stream",
     "text": [
      "3/3 [==============================] - 0s 998us/step - loss: 0.2290 - accuracy: 0.9054\n",
      "\n",
      "Test Accuracy: 0.9054054021835327\n",
      "\n",
      "Test Loss: 0.22899726033210754\n"
     ]
    }
   ],
   "source": [
    "test_loss, test_acc = model.evaluate(x_test, y_test)\n",
    "print('\\nTest Accuracy:', test_acc)\n",
    "print('\\nTest Loss:', test_loss)"
   ]
  },
  {
   "cell_type": "code",
   "execution_count": 32,
   "id": "6367de5b",
   "metadata": {},
   "outputs": [
    {
     "data": {
      "text/plain": [
       "Index(['prediction', 0], dtype='object')"
      ]
     },
     "execution_count": 32,
     "metadata": {},
     "output_type": "execute_result"
    }
   ],
   "source": [
    "m=model.predict(x_test)\n",
    "ndf = pd.DataFrame(yy_test)\n",
    "# Using DataFrame.insert() to add a column\n",
    "ndf.insert(0, \"prediction\",m, True)\n",
    "ndf.columns"
   ]
  },
  {
   "cell_type": "code",
   "execution_count": 33,
   "id": "008814e8",
   "metadata": {},
   "outputs": [
    {
     "name": "stdout",
     "output_type": "stream",
     "text": [
      "    prediction  Actual value\n",
      "0   0.991381    1.0         \n",
      "1   0.962544    1.0         \n",
      "2   0.994640    1.0         \n",
      "3   0.991706    1.0         \n",
      "4   0.991052    1.0         \n",
      "5   0.878379    0.0         \n",
      "6   0.992356    1.0         \n",
      "7   0.984806    1.0         \n",
      "8   0.985819    1.0         \n",
      "9   0.259293    0.0         \n",
      "10  0.273493    0.0         \n",
      "11  0.305106    0.0         \n",
      "12  0.340562    0.0         \n",
      "13  0.981103    1.0         \n",
      "14  0.991376    1.0         \n",
      "15  0.925357    1.0         \n",
      "16  0.992798    1.0         \n",
      "17  0.582579    0.0         \n",
      "18  0.324521    0.0         \n",
      "19  0.993673    1.0         \n",
      "20  0.934732    1.0         \n",
      "21  0.983662    1.0         \n",
      "22  0.276958    0.0         \n",
      "23  0.966883    1.0         \n",
      "24  0.346510    0.0         \n",
      "25  0.984567    1.0         \n",
      "26  0.988821    1.0         \n",
      "27  0.270375    0.0         \n",
      "28  0.992999    1.0         \n",
      "29  0.632308    0.0         \n",
      "30  0.991061    1.0         \n",
      "31  0.247770    0.0         \n",
      "32  0.891791    1.0         \n",
      "33  0.994115    1.0         \n",
      "34  0.331018    0.0         \n",
      "35  0.259652    0.0         \n",
      "36  0.992547    1.0         \n",
      "37  0.990977    1.0         \n",
      "38  0.992856    1.0         \n",
      "39  0.680569    0.0         \n",
      "40  0.949716    1.0         \n",
      "41  0.252359    0.0         \n",
      "42  0.248024    0.0         \n",
      "43  0.330571    0.0         \n",
      "44  0.992643    1.0         \n",
      "45  0.933531    1.0         \n",
      "46  0.293092    0.0         \n",
      "47  0.944742    1.0         \n",
      "48  0.992538    1.0         \n",
      "49  0.994288    1.0         \n",
      "50  0.993851    1.0         \n",
      "51  0.973706    1.0         \n",
      "52  0.990949    1.0         \n",
      "53  0.927770    1.0         \n",
      "54  0.985147    1.0         \n",
      "55  0.244925    0.0         \n",
      "56  0.322226    0.0         \n",
      "57  0.976166    1.0         \n",
      "58  0.995414    1.0         \n",
      "59  0.953878    1.0         \n",
      "60  0.609872    0.0         \n",
      "61  0.724608    1.0         \n",
      "62  0.797735    1.0         \n",
      "63  0.253888    0.0         \n",
      "64  0.935648    1.0         \n",
      "65  0.990419    1.0         \n",
      "66  0.806977    1.0         \n",
      "67  0.983254    1.0         \n",
      "68  0.987199    1.0         \n",
      "69  0.262857    1.0         \n",
      "70  0.312802    0.0         \n",
      "71  0.592435    0.0         \n",
      "72  0.270983    0.0         \n",
      "73  0.978652    1.0         \n"
     ]
    }
   ],
   "source": [
    "ndf.rename(columns = { 0:'Actual value'}, inplace = True)\n",
    "pd.set_option('display.max_columns', None)\n",
    "pd.set_option('display.max_rows', None) \n",
    "\n",
    "pd.set_option('display.max_colwidth',0)  \n",
    "\n",
    "# Observe the result\n",
    "print(ndf)"
   ]
  },
  {
   "cell_type": "markdown",
   "id": "5f1c5b71",
   "metadata": {},
   "source": [
    "## Linear Regression"
   ]
  },
  {
   "cell_type": "code",
   "execution_count": 34,
   "id": "0f6ac4d9",
   "metadata": {},
   "outputs": [
    {
     "data": {
      "text/plain": [
       "LinearRegression()"
      ]
     },
     "execution_count": 34,
     "metadata": {},
     "output_type": "execute_result"
    }
   ],
   "source": [
    "reg = linear_model.LinearRegression()\n",
    "  \n",
    "# train the model using the training sets\n",
    "reg.fit(x_train, y_train)\n",
    "  \n",
    "\n",
    " "
   ]
  },
  {
   "cell_type": "code",
   "execution_count": 35,
   "id": "dae71342",
   "metadata": {},
   "outputs": [
    {
     "name": "stdout",
     "output_type": "stream",
     "text": [
      "Coefficients:  [[-0.2748566   1.08199562  0.26950796  0.44262932]]\n",
      "Variance score: 0.7114916088038654\n"
     ]
    }
   ],
   "source": [
    "# regression coefficients\n",
    "print('Coefficients: ', reg.coef_)\n",
    "  \n",
    "# variance score: 1 means perfect prediction\n",
    "print('Variance score: {}'.format(reg.score(x_test, y_test)))"
   ]
  },
  {
   "cell_type": "code",
   "execution_count": 36,
   "id": "bd758913",
   "metadata": {},
   "outputs": [
    {
     "data": {
      "text/plain": [
       "Index(['prediction', 0], dtype='object')"
      ]
     },
     "execution_count": 36,
     "metadata": {},
     "output_type": "execute_result"
    }
   ],
   "source": [
    "m=reg.predict(x_test)\n",
    "\n",
    "# Convert into DataFrame\n",
    "pdf = pd.DataFrame(yy_test)\n",
    "# Using DataFrame.insert() to add a column\n",
    "pdf.insert(0, \"prediction\",m, True)\n",
    "pdf.columns\n"
   ]
  },
  {
   "cell_type": "code",
   "execution_count": 37,
   "id": "2b4ff512",
   "metadata": {},
   "outputs": [
    {
     "name": "stdout",
     "output_type": "stream",
     "text": [
      "    prediction  Actual value\n",
      "0   1.018374    1.0         \n",
      "1   0.784338    1.0         \n",
      "2   1.074986    1.0         \n",
      "3   0.956814    1.0         \n",
      "4   0.898985    1.0         \n",
      "5   0.695405    0.0         \n",
      "6   1.078966    1.0         \n",
      "7   0.937264    1.0         \n",
      "8   0.900730    1.0         \n",
      "9   0.095943    0.0         \n",
      "10  0.200925    0.0         \n",
      "11  0.214132    0.0         \n",
      "12  0.368531    0.0         \n",
      "13  1.048730    1.0         \n",
      "14  1.065838    1.0         \n",
      "15  0.703485    1.0         \n",
      "16  1.010467    1.0         \n",
      "17  0.460076    0.0         \n",
      "18  0.339974    0.0         \n",
      "19  1.055359    1.0         \n",
      "20  0.755967    1.0         \n",
      "21  1.020537    1.0         \n",
      "22  0.265744    0.0         \n",
      "23  0.780111    1.0         \n",
      "24  0.432096    0.0         \n",
      "25  0.878094    1.0         \n",
      "26  1.258569    1.0         \n",
      "27  0.043740    0.0         \n",
      "28  1.138518    1.0         \n",
      "29  0.405982    0.0         \n",
      "30  1.104535    1.0         \n",
      "31  0.269097    0.0         \n",
      "32  0.661254    1.0         \n",
      "33  1.076840    1.0         \n",
      "34  0.167900    0.0         \n",
      "35  0.102450    0.0         \n",
      "36  1.051776    1.0         \n",
      "37  1.079822    1.0         \n",
      "38  1.105730    1.0         \n",
      "39  0.498398    0.0         \n",
      "40  0.818167    1.0         \n",
      "41  0.166908    0.0         \n",
      "42  0.266610    0.0         \n",
      "43  0.377807    0.0         \n",
      "44  1.028394    1.0         \n",
      "45  0.805331    1.0         \n",
      "46  0.156867    0.0         \n",
      "47  0.870006    1.0         \n",
      "48  1.036109    1.0         \n",
      "49  1.005271    1.0         \n",
      "50  1.029036    1.0         \n",
      "51  0.793280    1.0         \n",
      "52  1.061189    1.0         \n",
      "53  0.825479    1.0         \n",
      "54  0.963129    1.0         \n",
      "55  0.191230    0.0         \n",
      "56  0.214324    0.0         \n",
      "57  0.793255    1.0         \n",
      "58  1.102731    1.0         \n",
      "59  0.820417    1.0         \n",
      "60  0.547150    0.0         \n",
      "61  0.682262    1.0         \n",
      "62  0.649045    1.0         \n",
      "63  0.201819    0.0         \n",
      "64  0.849023    1.0         \n",
      "65  0.985955    1.0         \n",
      "66  0.594256    1.0         \n",
      "67  0.943074    1.0         \n",
      "68  0.939851    1.0         \n",
      "69  0.144666    1.0         \n",
      "70  0.187718    0.0         \n",
      "71  0.522941    0.0         \n",
      "72  0.179921    0.0         \n",
      "73  0.751511    1.0         \n"
     ]
    }
   ],
   "source": [
    "pdf.rename(columns = { 0:'Actual value'}, inplace = True)\n",
    "pd.set_option('display.max_columns', None)\n",
    "pd.set_option('display.max_rows', None) \n",
    "\n",
    "pd.set_option('display.max_colwidth',0)  \n",
    "\n",
    "# Observe the result\n",
    "print(pdf)"
   ]
  },
  {
   "cell_type": "markdown",
   "id": "500cddf6",
   "metadata": {},
   "source": [
    "## Logistic Regression"
   ]
  },
  {
   "cell_type": "code",
   "execution_count": 43,
   "id": "befd0749",
   "metadata": {},
   "outputs": [
    {
     "data": {
      "text/plain": [
       "LogisticRegression(random_state=0)"
      ]
     },
     "execution_count": 43,
     "metadata": {},
     "output_type": "execute_result"
    }
   ],
   "source": [
    "from sklearn.linear_model import LogisticRegression  \n",
    "classifier= LogisticRegression(random_state=0)  \n",
    "classifier.fit(x_train, yTrain)  "
   ]
  },
  {
   "cell_type": "code",
   "execution_count": 44,
   "id": "04548c8d",
   "metadata": {},
   "outputs": [],
   "source": [
    "y_true=yy_test\n",
    "y_pred= classifier.predict(x_test)  "
   ]
  },
  {
   "cell_type": "code",
   "execution_count": 45,
   "id": "e190b66f",
   "metadata": {},
   "outputs": [
    {
     "data": {
      "text/plain": [
       "array([[20,  1],\n",
       "       [ 6, 47]], dtype=int64)"
      ]
     },
     "execution_count": 45,
     "metadata": {},
     "output_type": "execute_result"
    }
   ],
   "source": [
    "from sklearn.metrics import confusion_matrix  \n",
    "cm= confusion_matrix(y_pred,y_true)  \n",
    "cm"
   ]
  },
  {
   "cell_type": "code",
   "execution_count": 46,
   "id": "6e468600",
   "metadata": {},
   "outputs": [
    {
     "name": "stdout",
     "output_type": "stream",
     "text": [
      "    prediction  Actual value\n",
      "0   1.0         1.0         \n",
      "1   1.0         1.0         \n",
      "2   1.0         1.0         \n",
      "3   1.0         1.0         \n",
      "4   1.0         1.0         \n",
      "5   1.0         0.0         \n",
      "6   1.0         1.0         \n",
      "7   1.0         1.0         \n",
      "8   1.0         1.0         \n",
      "9   0.0         0.0         \n",
      "10  0.0         0.0         \n",
      "11  0.0         0.0         \n",
      "12  0.0         0.0         \n",
      "13  1.0         1.0         \n",
      "14  1.0         1.0         \n",
      "15  1.0         1.0         \n",
      "16  1.0         1.0         \n",
      "17  1.0         0.0         \n",
      "18  0.0         0.0         \n",
      "19  1.0         1.0         \n",
      "20  1.0         1.0         \n",
      "21  1.0         1.0         \n",
      "22  0.0         0.0         \n",
      "23  1.0         1.0         \n",
      "24  0.0         0.0         \n",
      "25  1.0         1.0         \n",
      "26  1.0         1.0         \n",
      "27  0.0         0.0         \n",
      "28  1.0         1.0         \n",
      "29  1.0         0.0         \n",
      "30  1.0         1.0         \n",
      "31  0.0         0.0         \n",
      "32  1.0         1.0         \n",
      "33  1.0         1.0         \n",
      "34  0.0         0.0         \n",
      "35  0.0         0.0         \n",
      "36  1.0         1.0         \n",
      "37  1.0         1.0         \n",
      "38  1.0         1.0         \n",
      "39  1.0         0.0         \n",
      "40  1.0         1.0         \n",
      "41  0.0         0.0         \n",
      "42  0.0         0.0         \n",
      "43  0.0         0.0         \n",
      "44  1.0         1.0         \n",
      "45  1.0         1.0         \n",
      "46  0.0         0.0         \n",
      "47  1.0         1.0         \n",
      "48  1.0         1.0         \n",
      "49  1.0         1.0         \n",
      "50  1.0         1.0         \n",
      "51  1.0         1.0         \n",
      "52  1.0         1.0         \n",
      "53  1.0         1.0         \n",
      "54  1.0         1.0         \n",
      "55  0.0         0.0         \n",
      "56  0.0         0.0         \n",
      "57  1.0         1.0         \n",
      "58  1.0         1.0         \n",
      "59  1.0         1.0         \n",
      "60  1.0         0.0         \n",
      "61  1.0         1.0         \n",
      "62  1.0         1.0         \n",
      "63  0.0         0.0         \n",
      "64  1.0         1.0         \n",
      "65  1.0         1.0         \n",
      "66  1.0         1.0         \n",
      "67  1.0         1.0         \n",
      "68  1.0         1.0         \n",
      "69  0.0         1.0         \n",
      "70  0.0         0.0         \n",
      "71  1.0         0.0         \n",
      "72  0.0         0.0         \n",
      "73  1.0         1.0         \n"
     ]
    }
   ],
   "source": [
    "ldf = pd.DataFrame(yy_test)\n",
    "# Using DataFrame.insert() to add a column\n",
    "ldf.insert(0, \"prediction\",y_pred1, True)\n",
    "ldf.rename(columns = { 0:'Actual value'}, inplace = True)\n",
    "pd.set_option('display.max_columns', None)\n",
    "pd.set_option('display.max_rows', None) \n",
    "\n",
    "pd.set_option('display.max_colwidth',0) \n",
    "\n",
    "# Observe the result\n",
    "print(ldf)"
   ]
  },
  {
   "cell_type": "code",
   "execution_count": null,
   "id": "1b14c4b4",
   "metadata": {},
   "outputs": [],
   "source": []
  }
 ],
 "metadata": {
  "kernelspec": {
   "display_name": "cvpr tf2.3 py3.8",
   "language": "python",
   "name": "cvpr"
  },
  "language_info": {
   "codemirror_mode": {
    "name": "ipython",
    "version": 3
   },
   "file_extension": ".py",
   "mimetype": "text/x-python",
   "name": "python",
   "nbconvert_exporter": "python",
   "pygments_lexer": "ipython3",
   "version": "3.8.10"
  }
 },
 "nbformat": 4,
 "nbformat_minor": 5
}
