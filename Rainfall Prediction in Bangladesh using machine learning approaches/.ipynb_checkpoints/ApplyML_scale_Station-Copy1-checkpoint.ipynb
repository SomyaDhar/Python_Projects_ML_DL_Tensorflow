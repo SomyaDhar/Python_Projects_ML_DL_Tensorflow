{
 "cells": [
  {
   "cell_type": "code",
   "execution_count": 1,
   "id": "93dee11d",
   "metadata": {},
   "outputs": [],
   "source": [
    "import pandas as pd\n",
    "import numpy as np\n",
    "import matplotlib.pyplot as plt\n",
    "import tensorflow as tf\n",
    "from sklearn.model_selection import train_test_split\n",
    "from sklearn.ensemble import RandomForestClassifier\n",
    "from sklearn.metrics import accuracy_score\n",
    "import datetime\n",
    "from sklearn.preprocessing import LabelEncoder\n",
    "from sklearn import preprocessing\n",
    "from sklearn.preprocessing import StandardScaler\n",
    "from sklearn.model_selection import train_test_split\n",
    "import seaborn as sns\n",
    "from keras.layers import Dense, BatchNormalization, Dropout, LSTM\n",
    "from keras.models import Sequential\n",
    "from keras.utils import to_categorical\n",
    "from keras.optimizers import Adam\n",
    "from tensorflow.keras import regularizers\n",
    "from sklearn.metrics import precision_score, recall_score, confusion_matrix, classification_report, accuracy_score, f1_score\n",
    "from keras import callbacks\n",
    "from sklearn.naive_bayes import GaussianNB\n",
    "from sklearn import datasets, linear_model, metrics\n",
    "from sklearn import metrics\n",
    "np.random.seed(0)"
   ]
  },
  {
   "cell_type": "code",
   "execution_count": 2,
   "id": "01dbe09e",
   "metadata": {},
   "outputs": [],
   "source": [
    "df = pd.read_csv('observedDataset1.csv')"
   ]
  },
  {
   "cell_type": "code",
   "execution_count": 3,
   "id": "71030a47",
   "metadata": {},
   "outputs": [
    {
     "data": {
      "text/html": [
       "<div>\n",
       "<style scoped>\n",
       "    .dataframe tbody tr th:only-of-type {\n",
       "        vertical-align: middle;\n",
       "    }\n",
       "\n",
       "    .dataframe tbody tr th {\n",
       "        vertical-align: top;\n",
       "    }\n",
       "\n",
       "    .dataframe thead th {\n",
       "        text-align: right;\n",
       "    }\n",
       "</style>\n",
       "<table border=\"1\" class=\"dataframe\">\n",
       "  <thead>\n",
       "    <tr style=\"text-align: right;\">\n",
       "      <th></th>\n",
       "      <th>Unnamed: 0</th>\n",
       "      <th>stationID</th>\n",
       "      <th>Days</th>\n",
       "      <th>observedTempMax</th>\n",
       "      <th>observedTempMin</th>\n",
       "      <th>observedHumidity</th>\n",
       "      <th>observedPressure</th>\n",
       "      <th>observedWind</th>\n",
       "      <th>observedRainfallcatagorical</th>\n",
       "    </tr>\n",
       "  </thead>\n",
       "  <tbody>\n",
       "    <tr>\n",
       "      <th>0</th>\n",
       "      <td>0</td>\n",
       "      <td>10120</td>\n",
       "      <td>1</td>\n",
       "      <td>23.182051</td>\n",
       "      <td>10.735897</td>\n",
       "      <td>77.586207</td>\n",
       "      <td>1016.255172</td>\n",
       "      <td>3.968966</td>\n",
       "      <td>0.0</td>\n",
       "    </tr>\n",
       "    <tr>\n",
       "      <th>1</th>\n",
       "      <td>1</td>\n",
       "      <td>10120</td>\n",
       "      <td>2</td>\n",
       "      <td>22.997436</td>\n",
       "      <td>10.738462</td>\n",
       "      <td>78.655172</td>\n",
       "      <td>1016.424138</td>\n",
       "      <td>4.017241</td>\n",
       "      <td>0.0</td>\n",
       "    </tr>\n",
       "    <tr>\n",
       "      <th>2</th>\n",
       "      <td>2</td>\n",
       "      <td>10120</td>\n",
       "      <td>3</td>\n",
       "      <td>22.276923</td>\n",
       "      <td>10.566667</td>\n",
       "      <td>80.551724</td>\n",
       "      <td>1016.227586</td>\n",
       "      <td>4.306897</td>\n",
       "      <td>0.0</td>\n",
       "    </tr>\n",
       "    <tr>\n",
       "      <th>3</th>\n",
       "      <td>3</td>\n",
       "      <td>10120</td>\n",
       "      <td>4</td>\n",
       "      <td>22.115385</td>\n",
       "      <td>10.712821</td>\n",
       "      <td>79.862069</td>\n",
       "      <td>1016.027586</td>\n",
       "      <td>4.234483</td>\n",
       "      <td>1.0</td>\n",
       "    </tr>\n",
       "    <tr>\n",
       "      <th>4</th>\n",
       "      <td>4</td>\n",
       "      <td>10120</td>\n",
       "      <td>5</td>\n",
       "      <td>22.325641</td>\n",
       "      <td>10.274359</td>\n",
       "      <td>79.758621</td>\n",
       "      <td>1015.627586</td>\n",
       "      <td>4.434483</td>\n",
       "      <td>0.0</td>\n",
       "    </tr>\n",
       "  </tbody>\n",
       "</table>\n",
       "</div>"
      ],
      "text/plain": [
       "   Unnamed: 0  stationID  Days  observedTempMax  observedTempMin  \\\n",
       "0           0      10120     1        23.182051        10.735897   \n",
       "1           1      10120     2        22.997436        10.738462   \n",
       "2           2      10120     3        22.276923        10.566667   \n",
       "3           3      10120     4        22.115385        10.712821   \n",
       "4           4      10120     5        22.325641        10.274359   \n",
       "\n",
       "   observedHumidity  observedPressure  observedWind  \\\n",
       "0         77.586207       1016.255172      3.968966   \n",
       "1         78.655172       1016.424138      4.017241   \n",
       "2         80.551724       1016.227586      4.306897   \n",
       "3         79.862069       1016.027586      4.234483   \n",
       "4         79.758621       1015.627586      4.434483   \n",
       "\n",
       "   observedRainfallcatagorical  \n",
       "0                          0.0  \n",
       "1                          0.0  \n",
       "2                          0.0  \n",
       "3                          1.0  \n",
       "4                          0.0  "
      ]
     },
     "execution_count": 3,
     "metadata": {},
     "output_type": "execute_result"
    }
   ],
   "source": [
    "df.head()"
   ]
  },
  {
   "cell_type": "code",
   "execution_count": 4,
   "id": "0c86a81b",
   "metadata": {},
   "outputs": [],
   "source": [
    "df.drop(\"Unnamed: 0\", axis=1, inplace=True)"
   ]
  },
  {
   "cell_type": "code",
   "execution_count": 5,
   "id": "ca6e26f5",
   "metadata": {},
   "outputs": [
    {
     "data": {
      "text/plain": [
       "(12838, 9)"
      ]
     },
     "execution_count": 5,
     "metadata": {},
     "output_type": "execute_result"
    }
   ],
   "source": [
    "df = df.reset_index()\n",
    "df.shape"
   ]
  },
  {
   "cell_type": "code",
   "execution_count": 6,
   "id": "c516d3ad",
   "metadata": {},
   "outputs": [
    {
     "data": {
      "text/plain": [
       "Index(['index', 'stationID', 'Days', 'observedTempMax', 'observedTempMin',\n",
       "       'observedHumidity', 'observedPressure', 'observedWind',\n",
       "       'observedRainfallcatagorical'],\n",
       "      dtype='object')"
      ]
     },
     "execution_count": 6,
     "metadata": {},
     "output_type": "execute_result"
    }
   ],
   "source": [
    "df.columns"
   ]
  },
  {
   "cell_type": "code",
   "execution_count": 7,
   "id": "5ac1767d",
   "metadata": {},
   "outputs": [
    {
     "data": {
      "text/plain": [
       "Index(['stationID', 'Days', 'observedTempMax', 'observedTempMin',\n",
       "       'observedHumidity', 'observedPressure', 'observedWind',\n",
       "       'observedRainfallcatagorical'],\n",
       "      dtype='object')"
      ]
     },
     "execution_count": 7,
     "metadata": {},
     "output_type": "execute_result"
    }
   ],
   "source": [
    "df.drop(\"index\", axis=1, inplace=True)\n",
    "df.columns"
   ]
  },
  {
   "cell_type": "code",
   "execution_count": 8,
   "id": "b2737793",
   "metadata": {},
   "outputs": [
    {
     "data": {
      "text/plain": [
       "1.0    9660\n",
       "0.0    3150\n",
       "Name: observedRainfallcatagorical, dtype: int64"
      ]
     },
     "execution_count": 8,
     "metadata": {},
     "output_type": "execute_result"
    }
   ],
   "source": [
    "df['observedRainfallcatagorical'].value_counts()"
   ]
  },
  {
   "cell_type": "code",
   "execution_count": 9,
   "id": "8b0b1a87",
   "metadata": {},
   "outputs": [],
   "source": [
    "df['observedRainfallcatagorical'].fillna(method='ffill',inplace=True,axis=0)"
   ]
  },
  {
   "cell_type": "code",
   "execution_count": 10,
   "id": "4f0f40c5",
   "metadata": {},
   "outputs": [
    {
     "data": {
      "text/plain": [
       "1.0    9660\n",
       "0.0    3178\n",
       "Name: observedRainfallcatagorical, dtype: int64"
      ]
     },
     "execution_count": 10,
     "metadata": {},
     "output_type": "execute_result"
    }
   ],
   "source": [
    "df['observedRainfallcatagorical'].value_counts()"
   ]
  },
  {
   "cell_type": "code",
   "execution_count": 11,
   "id": "3017036e",
   "metadata": {},
   "outputs": [],
   "source": [
    "df['observedHumidity'].fillna(method='ffill',inplace=True,axis=0)"
   ]
  },
  {
   "cell_type": "code",
   "execution_count": 12,
   "id": "82a16178",
   "metadata": {},
   "outputs": [],
   "source": [
    "df['observedPressure'].fillna(method='ffill',inplace=True,axis=0)"
   ]
  },
  {
   "cell_type": "code",
   "execution_count": 13,
   "id": "39c2dc57",
   "metadata": {},
   "outputs": [],
   "source": [
    "df['observedWind'].fillna(method='ffill',inplace=True,axis=0)"
   ]
  },
  {
   "cell_type": "code",
   "execution_count": 14,
   "id": "281eb584",
   "metadata": {},
   "outputs": [
    {
     "data": {
      "text/html": [
       "<div>\n",
       "<style scoped>\n",
       "    .dataframe tbody tr th:only-of-type {\n",
       "        vertical-align: middle;\n",
       "    }\n",
       "\n",
       "    .dataframe tbody tr th {\n",
       "        vertical-align: top;\n",
       "    }\n",
       "\n",
       "    .dataframe thead th {\n",
       "        text-align: right;\n",
       "    }\n",
       "</style>\n",
       "<table border=\"1\" class=\"dataframe\">\n",
       "  <thead>\n",
       "    <tr style=\"text-align: right;\">\n",
       "      <th></th>\n",
       "      <th>stationID</th>\n",
       "      <th>Days</th>\n",
       "      <th>observedTempMax</th>\n",
       "      <th>observedTempMin</th>\n",
       "      <th>observedHumidity</th>\n",
       "      <th>observedPressure</th>\n",
       "      <th>observedWind</th>\n",
       "      <th>observedRainfallcatagorical</th>\n",
       "    </tr>\n",
       "  </thead>\n",
       "  <tbody>\n",
       "    <tr>\n",
       "      <th>stationID</th>\n",
       "      <td>1.000000</td>\n",
       "      <td>-0.008462</td>\n",
       "      <td>0.042371</td>\n",
       "      <td>-0.000458</td>\n",
       "      <td>0.009811</td>\n",
       "      <td>-0.006394</td>\n",
       "      <td>0.387652</td>\n",
       "      <td>0.000351</td>\n",
       "    </tr>\n",
       "    <tr>\n",
       "      <th>Days</th>\n",
       "      <td>-0.008462</td>\n",
       "      <td>1.000000</td>\n",
       "      <td>0.045088</td>\n",
       "      <td>0.205650</td>\n",
       "      <td>0.437585</td>\n",
       "      <td>-0.072143</td>\n",
       "      <td>-0.266540</td>\n",
       "      <td>0.035526</td>\n",
       "    </tr>\n",
       "    <tr>\n",
       "      <th>observedTempMax</th>\n",
       "      <td>0.042371</td>\n",
       "      <td>0.045088</td>\n",
       "      <td>1.000000</td>\n",
       "      <td>0.866812</td>\n",
       "      <td>0.221166</td>\n",
       "      <td>-0.634708</td>\n",
       "      <td>0.298645</td>\n",
       "      <td>0.651053</td>\n",
       "    </tr>\n",
       "    <tr>\n",
       "      <th>observedTempMin</th>\n",
       "      <td>-0.000458</td>\n",
       "      <td>0.205650</td>\n",
       "      <td>0.866812</td>\n",
       "      <td>1.000000</td>\n",
       "      <td>0.571570</td>\n",
       "      <td>-0.785690</td>\n",
       "      <td>0.286132</td>\n",
       "      <td>0.714239</td>\n",
       "    </tr>\n",
       "    <tr>\n",
       "      <th>observedHumidity</th>\n",
       "      <td>0.009811</td>\n",
       "      <td>0.437585</td>\n",
       "      <td>0.221166</td>\n",
       "      <td>0.571570</td>\n",
       "      <td>1.000000</td>\n",
       "      <td>-0.532134</td>\n",
       "      <td>0.005046</td>\n",
       "      <td>0.366324</td>\n",
       "    </tr>\n",
       "    <tr>\n",
       "      <th>observedPressure</th>\n",
       "      <td>-0.006394</td>\n",
       "      <td>-0.072143</td>\n",
       "      <td>-0.634708</td>\n",
       "      <td>-0.785690</td>\n",
       "      <td>-0.532134</td>\n",
       "      <td>1.000000</td>\n",
       "      <td>-0.299707</td>\n",
       "      <td>-0.576958</td>\n",
       "    </tr>\n",
       "    <tr>\n",
       "      <th>observedWind</th>\n",
       "      <td>0.387652</td>\n",
       "      <td>-0.266540</td>\n",
       "      <td>0.298645</td>\n",
       "      <td>0.286132</td>\n",
       "      <td>0.005046</td>\n",
       "      <td>-0.299707</td>\n",
       "      <td>1.000000</td>\n",
       "      <td>0.250445</td>\n",
       "    </tr>\n",
       "    <tr>\n",
       "      <th>observedRainfallcatagorical</th>\n",
       "      <td>0.000351</td>\n",
       "      <td>0.035526</td>\n",
       "      <td>0.651053</td>\n",
       "      <td>0.714239</td>\n",
       "      <td>0.366324</td>\n",
       "      <td>-0.576958</td>\n",
       "      <td>0.250445</td>\n",
       "      <td>1.000000</td>\n",
       "    </tr>\n",
       "  </tbody>\n",
       "</table>\n",
       "</div>"
      ],
      "text/plain": [
       "                             stationID      Days  observedTempMax  \\\n",
       "stationID                     1.000000 -0.008462         0.042371   \n",
       "Days                         -0.008462  1.000000         0.045088   \n",
       "observedTempMax               0.042371  0.045088         1.000000   \n",
       "observedTempMin              -0.000458  0.205650         0.866812   \n",
       "observedHumidity              0.009811  0.437585         0.221166   \n",
       "observedPressure             -0.006394 -0.072143        -0.634708   \n",
       "observedWind                  0.387652 -0.266540         0.298645   \n",
       "observedRainfallcatagorical   0.000351  0.035526         0.651053   \n",
       "\n",
       "                             observedTempMin  observedHumidity  \\\n",
       "stationID                          -0.000458          0.009811   \n",
       "Days                                0.205650          0.437585   \n",
       "observedTempMax                     0.866812          0.221166   \n",
       "observedTempMin                     1.000000          0.571570   \n",
       "observedHumidity                    0.571570          1.000000   \n",
       "observedPressure                   -0.785690         -0.532134   \n",
       "observedWind                        0.286132          0.005046   \n",
       "observedRainfallcatagorical         0.714239          0.366324   \n",
       "\n",
       "                             observedPressure  observedWind  \\\n",
       "stationID                           -0.006394      0.387652   \n",
       "Days                                -0.072143     -0.266540   \n",
       "observedTempMax                     -0.634708      0.298645   \n",
       "observedTempMin                     -0.785690      0.286132   \n",
       "observedHumidity                    -0.532134      0.005046   \n",
       "observedPressure                     1.000000     -0.299707   \n",
       "observedWind                        -0.299707      1.000000   \n",
       "observedRainfallcatagorical         -0.576958      0.250445   \n",
       "\n",
       "                             observedRainfallcatagorical  \n",
       "stationID                                       0.000351  \n",
       "Days                                            0.035526  \n",
       "observedTempMax                                 0.651053  \n",
       "observedTempMin                                 0.714239  \n",
       "observedHumidity                                0.366324  \n",
       "observedPressure                               -0.576958  \n",
       "observedWind                                    0.250445  \n",
       "observedRainfallcatagorical                     1.000000  "
      ]
     },
     "execution_count": 14,
     "metadata": {},
     "output_type": "execute_result"
    }
   ],
   "source": [
    "df.corr()"
   ]
  },
  {
   "cell_type": "code",
   "execution_count": 15,
   "id": "edbbb283",
   "metadata": {},
   "outputs": [
    {
     "data": {
      "text/plain": [
       "array([[0.09091001, 0.04210156, 0.30425963, 0.01556457],\n",
       "       [0.09018602, 0.04211161, 0.30845166, 0.01575389],\n",
       "       [0.08736048, 0.04143791, 0.31588911, 0.01688979],\n",
       "       ...,\n",
       "       [0.107507  , 0.05637722, 0.2627451 , 0.00797386],\n",
       "       [0.10711485, 0.05676937, 0.2627451 , 0.00797386],\n",
       "       [0.1054902 , 0.05341176, 0.2627451 , 0.00797386]])"
      ]
     },
     "execution_count": 15,
     "metadata": {},
     "output_type": "execute_result"
    }
   ],
   "source": [
    "x =np.array(df.iloc[:,[2,3,4,6] ] )\n",
    "x"
   ]
  },
  {
   "cell_type": "code",
   "execution_count": 16,
   "id": "a287808d",
   "metadata": {},
   "outputs": [
    {
     "data": {
      "text/plain": [
       "array([[0.],\n",
       "       [0.],\n",
       "       [0.],\n",
       "       ...,\n",
       "       [0.],\n",
       "       [0.],\n",
       "       [0.]])"
      ]
     },
     "execution_count": 16,
     "metadata": {},
     "output_type": "execute_result"
    }
   ],
   "source": [
    "y=np.array(df.iloc[:, 7:])\n",
    "y"
   ]
  },
  {
   "cell_type": "code",
   "execution_count": 17,
   "id": "633c83e1",
   "metadata": {},
   "outputs": [],
   "source": [
    "x_train,x_test,y_train,y_test = train_test_split(x,y,test_size=0.2,random_state=1)\n"
   ]
  },
  {
   "cell_type": "code",
   "execution_count": 18,
   "id": "cd6a7844",
   "metadata": {},
   "outputs": [
    {
     "data": {
      "text/plain": [
       "(10270, 4)"
      ]
     },
     "execution_count": 18,
     "metadata": {},
     "output_type": "execute_result"
    }
   ],
   "source": [
    "x_train.shape"
   ]
  },
  {
   "cell_type": "code",
   "execution_count": 19,
   "id": "db77d4f8",
   "metadata": {},
   "outputs": [
    {
     "data": {
      "text/plain": [
       "(10270, 1)"
      ]
     },
     "execution_count": 19,
     "metadata": {},
     "output_type": "execute_result"
    }
   ],
   "source": [
    "y_train.shape"
   ]
  },
  {
   "cell_type": "code",
   "execution_count": 20,
   "id": "ebea7e41",
   "metadata": {},
   "outputs": [
    {
     "data": {
      "text/plain": [
       "(2568, 4)"
      ]
     },
     "execution_count": 20,
     "metadata": {},
     "output_type": "execute_result"
    }
   ],
   "source": [
    "yy_test=y_test\n",
    "x_test.shape"
   ]
  },
  {
   "cell_type": "markdown",
   "id": "2cff82be",
   "metadata": {},
   "source": [
    "## Decision trees( Random forest classifier)"
   ]
  },
  {
   "cell_type": "code",
   "execution_count": 21,
   "id": "a9a078cd",
   "metadata": {},
   "outputs": [
    {
     "name": "stderr",
     "output_type": "stream",
     "text": [
      "<ipython-input-21-1c5c579ef9c9>:2: DataConversionWarning: A column-vector y was passed when a 1d array was expected. Please change the shape of y to (n_samples,), for example using ravel().\n",
      "  h=RF.fit(x_train,y_train)\n"
     ]
    }
   ],
   "source": [
    "RF = RandomForestClassifier(max_depth=32,n_estimators=120,random_state=1)\n",
    "h=RF.fit(x_train,y_train)\n",
    "y_pred = RF.predict(x_test)"
   ]
  },
  {
   "cell_type": "code",
   "execution_count": 22,
   "id": "55ec70f9",
   "metadata": {},
   "outputs": [
    {
     "data": {
      "text/plain": [
       "0.8738317757009346"
      ]
     },
     "execution_count": 22,
     "metadata": {},
     "output_type": "execute_result"
    }
   ],
   "source": [
    "accuracy_score(y_test, y_pred)"
   ]
  },
  {
   "cell_type": "code",
   "execution_count": 23,
   "id": "6e8aa61a",
   "metadata": {},
   "outputs": [
    {
     "data": {
      "text/plain": [
       "array([0.27473395, 0.46055972, 0.14289171, 0.12181462])"
      ]
     },
     "execution_count": 23,
     "metadata": {},
     "output_type": "execute_result"
    }
   ],
   "source": [
    "RF.feature_importances_"
   ]
  },
  {
   "cell_type": "markdown",
   "id": "b9477312",
   "metadata": {},
   "source": [
    "## Gaussian Naive Bayes"
   ]
  },
  {
   "cell_type": "code",
   "execution_count": 24,
   "id": "4b246004",
   "metadata": {
    "scrolled": true
   },
   "outputs": [
    {
     "name": "stderr",
     "output_type": "stream",
     "text": [
      "C:\\Users\\shomy\\anaconda3\\envs\\cvpr\\lib\\site-packages\\sklearn\\utils\\validation.py:63: DataConversionWarning: A column-vector y was passed when a 1d array was expected. Please change the shape of y to (n_samples, ), for example using ravel().\n",
      "  return f(*args, **kwargs)\n"
     ]
    }
   ],
   "source": [
    "nb=GaussianNB()\n",
    "\n",
    "nb.fit(x_train,y_train)\n",
    "\n",
    "y_pred=nb.predict(x_test)"
   ]
  },
  {
   "cell_type": "code",
   "execution_count": 25,
   "id": "3f352533",
   "metadata": {},
   "outputs": [
    {
     "data": {
      "text/plain": [
       "0.8777258566978193"
      ]
     },
     "execution_count": 25,
     "metadata": {},
     "output_type": "execute_result"
    }
   ],
   "source": [
    "metrics.accuracy_score(y_test,y_pred)"
   ]
  },
  {
   "cell_type": "markdown",
   "id": "fd1cc954",
   "metadata": {},
   "source": [
    "## Artificial neural network"
   ]
  },
  {
   "cell_type": "code",
   "execution_count": 26,
   "id": "d0a7cd65",
   "metadata": {},
   "outputs": [
    {
     "name": "stdout",
     "output_type": "stream",
     "text": [
      "Epoch 1/150\n",
      "257/257 [==============================] - 1s 2ms/step - loss: 0.6892 - accuracy: 0.7507 - val_loss: 0.6833 - val_accuracy: 0.7561\n",
      "Epoch 2/150\n",
      "257/257 [==============================] - 0s 1ms/step - loss: 0.6659 - accuracy: 0.7515 - val_loss: 0.6344 - val_accuracy: 0.7561\n",
      "Epoch 3/150\n",
      "257/257 [==============================] - 0s 1ms/step - loss: 0.5990 - accuracy: 0.7515 - val_loss: 0.5611 - val_accuracy: 0.7561\n",
      "Epoch 4/150\n",
      "257/257 [==============================] - 0s 1ms/step - loss: 0.5715 - accuracy: 0.7515 - val_loss: 0.5511 - val_accuracy: 0.7561\n",
      "Epoch 5/150\n",
      "257/257 [==============================] - 0s 1ms/step - loss: 0.5728 - accuracy: 0.7515 - val_loss: 0.5503 - val_accuracy: 0.7561\n",
      "Epoch 6/150\n",
      "257/257 [==============================] - ETA: 0s - loss: 0.5721 - accuracy: 0.74 - 0s 1ms/step - loss: 0.5709 - accuracy: 0.7515 - val_loss: 0.5498 - val_accuracy: 0.7561\n",
      "Epoch 7/150\n",
      "257/257 [==============================] - 0s 1ms/step - loss: 0.5721 - accuracy: 0.7515 - val_loss: 0.5496 - val_accuracy: 0.7561\n",
      "Epoch 8/150\n",
      "257/257 [==============================] - 0s 1ms/step - loss: 0.5700 - accuracy: 0.7515 - val_loss: 0.5482 - val_accuracy: 0.7561\n",
      "Epoch 9/150\n",
      "257/257 [==============================] - 0s 1ms/step - loss: 0.5697 - accuracy: 0.7515 - val_loss: 0.5484 - val_accuracy: 0.7561\n",
      "Epoch 10/150\n",
      "257/257 [==============================] - 0s 1ms/step - loss: 0.5671 - accuracy: 0.7515 - val_loss: 0.5472 - val_accuracy: 0.7561\n",
      "Epoch 11/150\n",
      "257/257 [==============================] - 0s 1ms/step - loss: 0.5709 - accuracy: 0.7515 - val_loss: 0.5472 - val_accuracy: 0.7561\n",
      "Epoch 12/150\n",
      "257/257 [==============================] - 0s 1ms/step - loss: 0.5653 - accuracy: 0.7515 - val_loss: 0.5458 - val_accuracy: 0.7561\n",
      "Epoch 13/150\n",
      "257/257 [==============================] - 0s 2ms/step - loss: 0.5678 - accuracy: 0.7515 - val_loss: 0.5457 - val_accuracy: 0.7561\n",
      "Epoch 14/150\n",
      "257/257 [==============================] - 0s 2ms/step - loss: 0.5640 - accuracy: 0.7515 - val_loss: 0.5442 - val_accuracy: 0.7561\n",
      "Epoch 15/150\n",
      "257/257 [==============================] - 0s 2ms/step - loss: 0.5697 - accuracy: 0.7515 - val_loss: 0.5443 - val_accuracy: 0.7561\n",
      "Epoch 16/150\n",
      "257/257 [==============================] - 0s 2ms/step - loss: 0.5654 - accuracy: 0.7515 - val_loss: 0.5438 - val_accuracy: 0.7561\n",
      "Epoch 17/150\n",
      "257/257 [==============================] - 0s 2ms/step - loss: 0.5635 - accuracy: 0.7515 - val_loss: 0.5430 - val_accuracy: 0.7561\n",
      "Epoch 18/150\n",
      "257/257 [==============================] - 0s 2ms/step - loss: 0.5621 - accuracy: 0.7515 - val_loss: 0.5415 - val_accuracy: 0.7561\n",
      "Epoch 19/150\n",
      "257/257 [==============================] - 0s 2ms/step - loss: 0.5635 - accuracy: 0.7515 - val_loss: 0.5404 - val_accuracy: 0.7561\n",
      "Epoch 20/150\n",
      "257/257 [==============================] - 0s 2ms/step - loss: 0.5599 - accuracy: 0.7515 - val_loss: 0.5396 - val_accuracy: 0.7561\n",
      "Epoch 21/150\n",
      "257/257 [==============================] - 0s 2ms/step - loss: 0.5552 - accuracy: 0.7515 - val_loss: 0.5377 - val_accuracy: 0.7561\n",
      "Epoch 22/150\n",
      "257/257 [==============================] - 0s 2ms/step - loss: 0.5544 - accuracy: 0.7515 - val_loss: 0.5361 - val_accuracy: 0.7561\n",
      "Epoch 23/150\n",
      "257/257 [==============================] - 0s 2ms/step - loss: 0.5549 - accuracy: 0.7515 - val_loss: 0.5354 - val_accuracy: 0.7561\n",
      "Epoch 24/150\n",
      "257/257 [==============================] - 0s 2ms/step - loss: 0.5523 - accuracy: 0.7515 - val_loss: 0.5332 - val_accuracy: 0.7561\n",
      "Epoch 25/150\n",
      "257/257 [==============================] - 0s 2ms/step - loss: 0.5508 - accuracy: 0.7515 - val_loss: 0.5317 - val_accuracy: 0.7561\n",
      "Epoch 26/150\n",
      "257/257 [==============================] - 0s 2ms/step - loss: 0.5497 - accuracy: 0.7515 - val_loss: 0.5292 - val_accuracy: 0.7561\n",
      "Epoch 27/150\n",
      "257/257 [==============================] - 0s 2ms/step - loss: 0.5462 - accuracy: 0.7515 - val_loss: 0.5268 - val_accuracy: 0.7561\n",
      "Epoch 28/150\n",
      "257/257 [==============================] - 0s 2ms/step - loss: 0.5441 - accuracy: 0.7515 - val_loss: 0.5233 - val_accuracy: 0.7561\n",
      "Epoch 29/150\n",
      "257/257 [==============================] - 0s 2ms/step - loss: 0.5417 - accuracy: 0.7515 - val_loss: 0.5194 - val_accuracy: 0.7561\n",
      "Epoch 30/150\n",
      "257/257 [==============================] - 0s 2ms/step - loss: 0.5360 - accuracy: 0.7515 - val_loss: 0.5151 - val_accuracy: 0.7561\n",
      "Epoch 31/150\n",
      "257/257 [==============================] - 0s 2ms/step - loss: 0.5319 - accuracy: 0.7515 - val_loss: 0.5082 - val_accuracy: 0.7561\n",
      "Epoch 32/150\n",
      "257/257 [==============================] - 0s 2ms/step - loss: 0.5210 - accuracy: 0.7515 - val_loss: 0.4995 - val_accuracy: 0.7561\n",
      "Epoch 33/150\n",
      "257/257 [==============================] - 1s 2ms/step - loss: 0.5102 - accuracy: 0.7515 - val_loss: 0.4873 - val_accuracy: 0.7561\n",
      "Epoch 34/150\n",
      "257/257 [==============================] - 0s 2ms/step - loss: 0.4992 - accuracy: 0.7515 - val_loss: 0.4703 - val_accuracy: 0.7561\n",
      "Epoch 35/150\n",
      "257/257 [==============================] - 0s 2ms/step - loss: 0.4787 - accuracy: 0.7515 - val_loss: 0.4485 - val_accuracy: 0.7561\n",
      "Epoch 36/150\n",
      "257/257 [==============================] - 0s 1ms/step - loss: 0.4510 - accuracy: 0.7515 - val_loss: 0.4192 - val_accuracy: 0.7561\n",
      "Epoch 37/150\n",
      "257/257 [==============================] - 0s 1ms/step - loss: 0.4282 - accuracy: 0.7515 - val_loss: 0.3942 - val_accuracy: 0.7561\n",
      "Epoch 38/150\n",
      "257/257 [==============================] - 0s 2ms/step - loss: 0.4030 - accuracy: 0.7515 - val_loss: 0.3744 - val_accuracy: 0.7561\n",
      "Epoch 39/150\n",
      "257/257 [==============================] - 0s 2ms/step - loss: 0.3889 - accuracy: 0.7515 - val_loss: 0.3591 - val_accuracy: 0.7561\n",
      "Epoch 40/150\n",
      "257/257 [==============================] - 0s 2ms/step - loss: 0.3761 - accuracy: 0.7515 - val_loss: 0.3474 - val_accuracy: 0.7561\n",
      "Epoch 41/150\n",
      "257/257 [==============================] - 0s 2ms/step - loss: 0.3683 - accuracy: 0.7515 - val_loss: 0.3394 - val_accuracy: 0.7561\n",
      "Epoch 42/150\n",
      "257/257 [==============================] - 0s 2ms/step - loss: 0.3600 - accuracy: 0.7515 - val_loss: 0.3331 - val_accuracy: 0.7561\n",
      "Epoch 43/150\n",
      "257/257 [==============================] - 0s 2ms/step - loss: 0.3576 - accuracy: 0.7515 - val_loss: 0.3273 - val_accuracy: 0.7561\n",
      "Epoch 44/150\n",
      "257/257 [==============================] - 0s 2ms/step - loss: 0.3497 - accuracy: 0.7515 - val_loss: 0.3230 - val_accuracy: 0.7561\n",
      "Epoch 45/150\n",
      "257/257 [==============================] - 0s 2ms/step - loss: 0.3425 - accuracy: 0.7515 - val_loss: 0.3193 - val_accuracy: 0.7561\n",
      "Epoch 46/150\n",
      "257/257 [==============================] - 0s 2ms/step - loss: 0.3405 - accuracy: 0.7515 - val_loss: 0.3162 - val_accuracy: 0.7561\n",
      "Epoch 47/150\n",
      "257/257 [==============================] - 0s 2ms/step - loss: 0.3364 - accuracy: 0.7515 - val_loss: 0.3133 - val_accuracy: 0.7561\n",
      "Epoch 48/150\n",
      "257/257 [==============================] - 0s 2ms/step - loss: 0.3356 - accuracy: 0.7515 - val_loss: 0.3107 - val_accuracy: 0.7561\n",
      "Epoch 49/150\n",
      "257/257 [==============================] - 0s 2ms/step - loss: 0.3323 - accuracy: 0.7515 - val_loss: 0.3092 - val_accuracy: 0.7561\n",
      "Epoch 50/150\n",
      "257/257 [==============================] - 0s 2ms/step - loss: 0.3271 - accuracy: 0.7515 - val_loss: 0.3079 - val_accuracy: 0.7561\n",
      "Epoch 51/150\n",
      "257/257 [==============================] - 0s 2ms/step - loss: 0.3304 - accuracy: 0.7515 - val_loss: 0.3060 - val_accuracy: 0.7561\n",
      "Epoch 52/150\n",
      "257/257 [==============================] - 0s 2ms/step - loss: 0.3290 - accuracy: 0.7515 - val_loss: 0.3055 - val_accuracy: 0.7561\n",
      "Epoch 53/150\n",
      "257/257 [==============================] - 0s 2ms/step - loss: 0.3253 - accuracy: 0.8423 - val_loss: 0.3026 - val_accuracy: 0.8637\n",
      "Epoch 54/150\n",
      "257/257 [==============================] - 0s 2ms/step - loss: 0.3227 - accuracy: 0.8632 - val_loss: 0.3019 - val_accuracy: 0.8642\n",
      "Epoch 55/150\n",
      "257/257 [==============================] - 0s 2ms/step - loss: 0.3229 - accuracy: 0.8619 - val_loss: 0.2993 - val_accuracy: 0.8656\n",
      "Epoch 56/150\n",
      "257/257 [==============================] - 0s 2ms/step - loss: 0.3226 - accuracy: 0.8644 - val_loss: 0.2991 - val_accuracy: 0.8637\n",
      "Epoch 57/150\n"
     ]
    },
    {
     "name": "stdout",
     "output_type": "stream",
     "text": [
      "257/257 [==============================] - 0s 1ms/step - loss: 0.3254 - accuracy: 0.8625 - val_loss: 0.2974 - val_accuracy: 0.8617\n",
      "Epoch 58/150\n",
      "257/257 [==============================] - 0s 1ms/step - loss: 0.3214 - accuracy: 0.8616 - val_loss: 0.2973 - val_accuracy: 0.8656\n",
      "Epoch 59/150\n",
      "257/257 [==============================] - 0s 1ms/step - loss: 0.3204 - accuracy: 0.8638 - val_loss: 0.2972 - val_accuracy: 0.8656\n",
      "Epoch 60/150\n",
      "257/257 [==============================] - 0s 1ms/step - loss: 0.3156 - accuracy: 0.8616 - val_loss: 0.2965 - val_accuracy: 0.8642\n",
      "Epoch 61/150\n",
      "257/257 [==============================] - 0s 1ms/step - loss: 0.3191 - accuracy: 0.8620 - val_loss: 0.2946 - val_accuracy: 0.8637\n",
      "Epoch 62/150\n",
      "257/257 [==============================] - 0s 1ms/step - loss: 0.3120 - accuracy: 0.8630 - val_loss: 0.2948 - val_accuracy: 0.8627\n",
      "Epoch 63/150\n",
      "257/257 [==============================] - 0s 1ms/step - loss: 0.3145 - accuracy: 0.8643 - val_loss: 0.2971 - val_accuracy: 0.8651\n",
      "Epoch 64/150\n",
      "257/257 [==============================] - 0s 2ms/step - loss: 0.3181 - accuracy: 0.8610 - val_loss: 0.2929 - val_accuracy: 0.8622\n",
      "Epoch 65/150\n",
      "257/257 [==============================] - 0s 2ms/step - loss: 0.3151 - accuracy: 0.8611 - val_loss: 0.2944 - val_accuracy: 0.8617\n",
      "Epoch 66/150\n",
      "257/257 [==============================] - 0s 2ms/step - loss: 0.3095 - accuracy: 0.8622 - val_loss: 0.2921 - val_accuracy: 0.8622\n",
      "Epoch 67/150\n",
      "257/257 [==============================] - 0s 2ms/step - loss: 0.3162 - accuracy: 0.8591 - val_loss: 0.2916 - val_accuracy: 0.8612\n",
      "Epoch 68/150\n",
      "257/257 [==============================] - 0s 2ms/step - loss: 0.3121 - accuracy: 0.8609 - val_loss: 0.2915 - val_accuracy: 0.8622\n",
      "Epoch 69/150\n",
      "257/257 [==============================] - 0s 2ms/step - loss: 0.3128 - accuracy: 0.8603 - val_loss: 0.2913 - val_accuracy: 0.8622\n",
      "Epoch 70/150\n",
      "257/257 [==============================] - 0s 2ms/step - loss: 0.3114 - accuracy: 0.8612 - val_loss: 0.2922 - val_accuracy: 0.8642\n",
      "Epoch 71/150\n",
      "257/257 [==============================] - 0s 2ms/step - loss: 0.3101 - accuracy: 0.8611 - val_loss: 0.2906 - val_accuracy: 0.8622\n",
      "Epoch 72/150\n",
      "257/257 [==============================] - 0s 2ms/step - loss: 0.3090 - accuracy: 0.8603 - val_loss: 0.2903 - val_accuracy: 0.8617\n",
      "Epoch 73/150\n",
      "257/257 [==============================] - 0s 2ms/step - loss: 0.3104 - accuracy: 0.8603 - val_loss: 0.2897 - val_accuracy: 0.8622\n",
      "Epoch 74/150\n",
      "257/257 [==============================] - 0s 1ms/step - loss: 0.3160 - accuracy: 0.8586 - val_loss: 0.2898 - val_accuracy: 0.8617\n",
      "Epoch 75/150\n",
      "257/257 [==============================] - 0s 2ms/step - loss: 0.3089 - accuracy: 0.8605 - val_loss: 0.2902 - val_accuracy: 0.8622\n",
      "Epoch 76/150\n",
      "257/257 [==============================] - 0s 2ms/step - loss: 0.3120 - accuracy: 0.8595 - val_loss: 0.2893 - val_accuracy: 0.8627\n",
      "Epoch 77/150\n",
      "257/257 [==============================] - 0s 2ms/step - loss: 0.3126 - accuracy: 0.8604 - val_loss: 0.2888 - val_accuracy: 0.8617\n",
      "Epoch 78/150\n",
      "257/257 [==============================] - 0s 2ms/step - loss: 0.3118 - accuracy: 0.8582 - val_loss: 0.2900 - val_accuracy: 0.8622\n",
      "Epoch 79/150\n",
      "257/257 [==============================] - 0s 2ms/step - loss: 0.3110 - accuracy: 0.8599 - val_loss: 0.2883 - val_accuracy: 0.8578\n",
      "Epoch 80/150\n",
      "257/257 [==============================] - 0s 2ms/step - loss: 0.3117 - accuracy: 0.8597 - val_loss: 0.2882 - val_accuracy: 0.8612\n",
      "Epoch 81/150\n",
      "257/257 [==============================] - 0s 2ms/step - loss: 0.3107 - accuracy: 0.8580 - val_loss: 0.2893 - val_accuracy: 0.8622\n",
      "Epoch 82/150\n",
      "257/257 [==============================] - 0s 2ms/step - loss: 0.3082 - accuracy: 0.8598 - val_loss: 0.2889 - val_accuracy: 0.8622\n",
      "Epoch 83/150\n",
      "257/257 [==============================] - 0s 2ms/step - loss: 0.3067 - accuracy: 0.8580 - val_loss: 0.2895 - val_accuracy: 0.8622\n",
      "Epoch 84/150\n",
      "257/257 [==============================] - 0s 2ms/step - loss: 0.3085 - accuracy: 0.8598 - val_loss: 0.2882 - val_accuracy: 0.8617\n",
      "Epoch 85/150\n",
      "257/257 [==============================] - 0s 2ms/step - loss: 0.3080 - accuracy: 0.8600 - val_loss: 0.2884 - val_accuracy: 0.8612\n",
      "Epoch 86/150\n",
      "257/257 [==============================] - 0s 2ms/step - loss: 0.3064 - accuracy: 0.8612 - val_loss: 0.2876 - val_accuracy: 0.8617\n",
      "Epoch 87/150\n",
      "257/257 [==============================] - 0s 2ms/step - loss: 0.3073 - accuracy: 0.8588 - val_loss: 0.2872 - val_accuracy: 0.8617\n",
      "Epoch 88/150\n",
      "257/257 [==============================] - 0s 2ms/step - loss: 0.3052 - accuracy: 0.8605 - val_loss: 0.2889 - val_accuracy: 0.8622\n",
      "Epoch 89/150\n",
      "257/257 [==============================] - 0s 2ms/step - loss: 0.3095 - accuracy: 0.8598 - val_loss: 0.2874 - val_accuracy: 0.8617\n",
      "Epoch 90/150\n",
      "257/257 [==============================] - 0s 2ms/step - loss: 0.3077 - accuracy: 0.8587 - val_loss: 0.2870 - val_accuracy: 0.8617\n",
      "Epoch 91/150\n",
      "257/257 [==============================] - 0s 2ms/step - loss: 0.3059 - accuracy: 0.8603 - val_loss: 0.2871 - val_accuracy: 0.8622\n",
      "Epoch 92/150\n",
      "257/257 [==============================] - 0s 2ms/step - loss: 0.3075 - accuracy: 0.8603 - val_loss: 0.2879 - val_accuracy: 0.8622\n",
      "Epoch 93/150\n",
      "257/257 [==============================] - 0s 2ms/step - loss: 0.3027 - accuracy: 0.8617 - val_loss: 0.2869 - val_accuracy: 0.8617\n",
      "Epoch 94/150\n",
      "257/257 [==============================] - 0s 2ms/step - loss: 0.3070 - accuracy: 0.8589 - val_loss: 0.2870 - val_accuracy: 0.8612\n",
      "Epoch 95/150\n",
      "257/257 [==============================] - 0s 2ms/step - loss: 0.3042 - accuracy: 0.8599 - val_loss: 0.2872 - val_accuracy: 0.8622\n",
      "Epoch 96/150\n",
      "257/257 [==============================] - 0s 2ms/step - loss: 0.3116 - accuracy: 0.8583 - val_loss: 0.2877 - val_accuracy: 0.8622\n",
      "Epoch 97/150\n",
      "257/257 [==============================] - 0s 2ms/step - loss: 0.3079 - accuracy: 0.8584 - val_loss: 0.2870 - val_accuracy: 0.8622\n",
      "Epoch 98/150\n",
      "257/257 [==============================] - 0s 2ms/step - loss: 0.3087 - accuracy: 0.8586 - val_loss: 0.2863 - val_accuracy: 0.8627\n",
      "Epoch 99/150\n",
      "257/257 [==============================] - 0s 2ms/step - loss: 0.3054 - accuracy: 0.8614 - val_loss: 0.2855 - val_accuracy: 0.8612\n",
      "Epoch 100/150\n",
      "257/257 [==============================] - 0s 2ms/step - loss: 0.3079 - accuracy: 0.8572 - val_loss: 0.2850 - val_accuracy: 0.8612\n",
      "Epoch 101/150\n",
      "257/257 [==============================] - 0s 2ms/step - loss: 0.3087 - accuracy: 0.8589 - val_loss: 0.2855 - val_accuracy: 0.8617\n",
      "Epoch 102/150\n",
      "257/257 [==============================] - 0s 2ms/step - loss: 0.3073 - accuracy: 0.8595 - val_loss: 0.2868 - val_accuracy: 0.8632\n",
      "Epoch 103/150\n",
      "257/257 [==============================] - 0s 2ms/step - loss: 0.3090 - accuracy: 0.8587 - val_loss: 0.2846 - val_accuracy: 0.8612\n",
      "Epoch 104/150\n",
      "257/257 [==============================] - 0s 2ms/step - loss: 0.3064 - accuracy: 0.8583 - val_loss: 0.2855 - val_accuracy: 0.8622\n",
      "Epoch 105/150\n",
      "257/257 [==============================] - 0s 2ms/step - loss: 0.3086 - accuracy: 0.8587 - val_loss: 0.2875 - val_accuracy: 0.8661\n",
      "Epoch 106/150\n",
      "257/257 [==============================] - 0s 2ms/step - loss: 0.3067 - accuracy: 0.8628 - val_loss: 0.2846 - val_accuracy: 0.8617\n",
      "Epoch 107/150\n",
      "257/257 [==============================] - 0s 2ms/step - loss: 0.3043 - accuracy: 0.8602 - val_loss: 0.2845 - val_accuracy: 0.8617\n",
      "Epoch 108/150\n",
      "257/257 [==============================] - 0s 2ms/step - loss: 0.3056 - accuracy: 0.8598 - val_loss: 0.2852 - val_accuracy: 0.8622\n",
      "Epoch 109/150\n",
      "257/257 [==============================] - 0s 2ms/step - loss: 0.3120 - accuracy: 0.8566 - val_loss: 0.2848 - val_accuracy: 0.8617\n",
      "Epoch 110/150\n",
      "257/257 [==============================] - 0s 2ms/step - loss: 0.3089 - accuracy: 0.8580 - val_loss: 0.2847 - val_accuracy: 0.8617\n",
      "Epoch 111/150\n",
      "257/257 [==============================] - 0s 2ms/step - loss: 0.3071 - accuracy: 0.8599 - val_loss: 0.2844 - val_accuracy: 0.8612\n",
      "Epoch 112/150\n",
      "257/257 [==============================] - 0s 2ms/step - loss: 0.3094 - accuracy: 0.8577 - val_loss: 0.2842 - val_accuracy: 0.8603\n",
      "Epoch 113/150\n",
      "257/257 [==============================] - 0s 2ms/step - loss: 0.3076 - accuracy: 0.8576 - val_loss: 0.2844 - val_accuracy: 0.8612\n"
     ]
    },
    {
     "name": "stdout",
     "output_type": "stream",
     "text": [
      "Epoch 114/150\n",
      "257/257 [==============================] - 0s 1ms/step - loss: 0.3053 - accuracy: 0.8580 - val_loss: 0.2887 - val_accuracy: 0.8651\n",
      "Epoch 115/150\n",
      "257/257 [==============================] - 0s 2ms/step - loss: 0.3056 - accuracy: 0.8610 - val_loss: 0.2869 - val_accuracy: 0.8637\n",
      "Epoch 116/150\n",
      "257/257 [==============================] - 0s 2ms/step - loss: 0.3048 - accuracy: 0.8599 - val_loss: 0.2841 - val_accuracy: 0.8603\n",
      "Epoch 117/150\n",
      "257/257 [==============================] - 1s 2ms/step - loss: 0.3091 - accuracy: 0.8570 - val_loss: 0.2851 - val_accuracy: 0.8622\n",
      "Epoch 118/150\n",
      "257/257 [==============================] - 0s 2ms/step - loss: 0.3062 - accuracy: 0.8604 - val_loss: 0.2840 - val_accuracy: 0.8603\n",
      "Epoch 119/150\n",
      "257/257 [==============================] - 0s 2ms/step - loss: 0.3058 - accuracy: 0.8604 - val_loss: 0.2850 - val_accuracy: 0.8622\n",
      "Epoch 120/150\n",
      "257/257 [==============================] - 0s 2ms/step - loss: 0.3068 - accuracy: 0.8600 - val_loss: 0.2840 - val_accuracy: 0.8603\n",
      "Epoch 121/150\n",
      "257/257 [==============================] - 0s 2ms/step - loss: 0.3116 - accuracy: 0.8582 - val_loss: 0.2839 - val_accuracy: 0.8608\n",
      "Epoch 122/150\n",
      "257/257 [==============================] - 0s 2ms/step - loss: 0.3060 - accuracy: 0.8577 - val_loss: 0.2848 - val_accuracy: 0.8612\n",
      "Epoch 123/150\n",
      "257/257 [==============================] - 0s 2ms/step - loss: 0.3027 - accuracy: 0.8606 - val_loss: 0.2847 - val_accuracy: 0.8612\n",
      "Epoch 124/150\n",
      "257/257 [==============================] - 0s 2ms/step - loss: 0.3019 - accuracy: 0.8598 - val_loss: 0.2869 - val_accuracy: 0.8637\n",
      "Epoch 125/150\n",
      "257/257 [==============================] - 0s 2ms/step - loss: 0.3011 - accuracy: 0.8622 - val_loss: 0.2853 - val_accuracy: 0.8617\n",
      "Epoch 126/150\n",
      "257/257 [==============================] - 0s 2ms/step - loss: 0.3054 - accuracy: 0.8592 - val_loss: 0.2852 - val_accuracy: 0.8622\n",
      "Epoch 127/150\n",
      "257/257 [==============================] - 0s 2ms/step - loss: 0.3070 - accuracy: 0.8584 - val_loss: 0.2842 - val_accuracy: 0.8564\n"
     ]
    }
   ],
   "source": [
    "early_stopping = callbacks.EarlyStopping(\n",
    "    min_delta=0.001, # minimium amount of change to count as an improvement\n",
    "    patience=20, # how many epochs to wait before stopping\n",
    "    restore_best_weights=True,\n",
    ")\n",
    "\n",
    "# Initialising\n",
    "model = Sequential()\n",
    "\n",
    "model.add(Dense(units = 32, kernel_initializer = 'uniform', activation = 'relu', input_dim = 4))\n",
    "model.add(Dense(units = 32, kernel_initializer = 'uniform', activation = 'relu'))\n",
    "model.add(Dense(units = 16, kernel_initializer = 'uniform', activation = 'relu'))\n",
    "model.add(Dropout(0.25))\n",
    "model.add(Dense(units = 8, kernel_initializer = 'uniform', activation = 'relu'))\n",
    "model.add(Dropout(0.5))\n",
    "model.add(Dense(units = 1, kernel_initializer = 'uniform', activation = 'sigmoid'))\n",
    "\n",
    "# Compiling \n",
    "opt = Adam(learning_rate=0.00009)\n",
    "model.compile(optimizer = opt, loss = 'binary_crossentropy', metrics = ['accuracy'])\n",
    "\n",
    "# Train \n",
    "history = model.fit(x_train, y_train, batch_size = 32, epochs = 150, callbacks=[early_stopping], validation_split=0.2)"
   ]
  },
  {
   "cell_type": "code",
   "execution_count": 27,
   "id": "70b010ee",
   "metadata": {},
   "outputs": [
    {
     "data": {
      "image/png": "[encoded data removed]",
      "text/plain": [
       "<Figure size 1080x360 with 2 Axes>"
      ]
     },
     "metadata": {
      "needs_background": "light"
     },
     "output_type": "display_data"
    }
   ],
   "source": [
    "h=history\n",
    "plt.figure(figsize=(15,5))\n",
    "plt.subplot(1,2,1)\n",
    "plt.plot(h.history['accuracy'], 'o-', label='train accuracy')\n",
    "plt.plot(h.history['val_accuracy'], 'o-', label = 'validation accuracy')\n",
    "plt.xlabel('Epoch')\n",
    "plt.ylabel('Accuracy')\n",
    "plt.grid(True)\n",
    "plt.legend(loc='lower right')\n",
    "\n",
    "plt.subplot(1,2,2)\n",
    "plt.plot(h.history['loss'], 'o-', label='train loss')\n",
    "plt.plot(h.history['val_loss'], 'o-', label='validation loss')\n",
    "plt.xlabel('Epoch')\n",
    "plt.ylabel('Loss')\n",
    "plt.grid(True)\n",
    "plt.legend(loc='upper right')\n",
    "\n",
    "plt.show()"
   ]
  },
  {
   "cell_type": "code",
   "execution_count": 28,
   "id": "f13e6131",
   "metadata": {},
   "outputs": [
    {
     "name": "stdout",
     "output_type": "stream",
     "text": [
      "81/81 [==============================] - 0s 1ms/step - loss: 0.2732 - accuracy: 0.8738\n",
      "\n",
      "Test Accuracy: 0.8738317489624023\n",
      "\n",
      "Test Loss: 0.27316737174987793\n"
     ]
    }
   ],
   "source": [
    "test_loss, test_acc = model.evaluate(x_test, y_test)\n",
    "print('\\nTest Accuracy:', test_acc)\n",
    "print('\\nTest Loss:', test_loss)"
   ]
  },
  {
   "cell_type": "code",
   "execution_count": null,
   "id": "6367de5b",
   "metadata": {},
   "outputs": [],
   "source": []
  },
  {
   "cell_type": "markdown",
   "id": "6abbf913",
   "metadata": {},
   "source": [
    "## Linear Regression"
   ]
  },
  {
   "cell_type": "code",
   "execution_count": 29,
   "id": "ac47e60f",
   "metadata": {},
   "outputs": [
    {
     "data": {
      "text/plain": [
       "LinearRegression()"
      ]
     },
     "execution_count": 29,
     "metadata": {},
     "output_type": "execute_result"
    }
   ],
   "source": [
    "reg = linear_model.LinearRegression()\n",
    "  \n",
    "# train the model using the training sets\n",
    "reg.fit(x_train, y_train)\n",
    "  \n",
    "\n",
    " "
   ]
  },
  {
   "cell_type": "code",
   "execution_count": 30,
   "id": "2bb239fc",
   "metadata": {},
   "outputs": [
    {
     "name": "stdout",
     "output_type": "stream",
     "text": [
      "Coefficients:  [[ 4.56375408 13.55174893 -0.16174575  3.73006407]]\n",
      "Variance score: 0.5280513144923227\n"
     ]
    }
   ],
   "source": [
    "# regression coefficients\n",
    "print('Coefficients: ', reg.coef_)\n",
    "  \n",
    "# variance score: 1 means perfect prediction\n",
    "print('Variance score: {}'.format(reg.score(x_test, y_test)))"
   ]
  },
  {
   "cell_type": "code",
   "execution_count": 31,
   "id": "144bf334",
   "metadata": {},
   "outputs": [
    {
     "name": "stdout",
     "output_type": "stream",
     "text": [
      "      prediction    0\n",
      "0       0.994633  1.0\n",
      "1       0.910892  1.0\n",
      "2       0.094848  1.0\n",
      "3       0.979554  1.0\n",
      "4       0.237061  0.0\n",
      "...          ...  ...\n",
      "2563    0.955586  1.0\n",
      "2564    0.513589  0.0\n",
      "2565    1.008244  1.0\n",
      "2566    0.612021  0.0\n",
      "2567    0.132145  0.0\n",
      "\n",
      "[2568 rows x 2 columns]\n"
     ]
    }
   ],
   "source": [
    "m=reg.predict(x_test)\n",
    "# Convert the dictionary into DataFrame\n",
    "pdf = pd.DataFrame(yy_test)\n",
    " \n",
    "# Using DataFrame.insert() to add a column\n",
    "pdf.insert(0, \"prediction\",m, True)\n",
    " \n",
    "# Observe the result\n",
    "print(pdf)"
   ]
  }
 ],
 "metadata": {
  "kernelspec": {
   "display_name": "cvpr tf2.3 py3.8",
   "language": "python",
   "name": "cvpr"
  },
  "language_info": {
   "codemirror_mode": {
    "name": "ipython",
    "version": 3
   },
   "file_extension": ".py",
   "mimetype": "text/x-python",
   "name": "python",
   "nbconvert_exporter": "python",
   "pygments_lexer": "ipython3",
   "version": "3.8.10"
  }
 },
 "nbformat": 4,
 "nbformat_minor": 5
}
