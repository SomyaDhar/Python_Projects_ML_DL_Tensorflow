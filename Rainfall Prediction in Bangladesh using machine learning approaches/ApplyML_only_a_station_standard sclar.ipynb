{
 "cells": [
  {
   "cell_type": "code",
   "execution_count": 1,
   "id": "93dee11d",
   "metadata": {},
   "outputs": [],
   "source": [
    "import pandas as pd\n",
    "import numpy as np\n",
    "import matplotlib.pyplot as plt\n",
    "import tensorflow as tf\n",
    "from sklearn.model_selection import train_test_split\n",
    "from sklearn.ensemble import RandomForestClassifier\n",
    "from sklearn.metrics import accuracy_score\n",
    "import datetime\n",
    "from sklearn.preprocessing import LabelEncoder\n",
    "from sklearn import preprocessing\n",
    "from sklearn.preprocessing import StandardScaler\n",
    "from sklearn.model_selection import train_test_split\n",
    "import seaborn as sns\n",
    "from keras.layers import Dense, BatchNormalization, Dropout, LSTM\n",
    "from keras.models import Sequential\n",
    "from keras.utils import to_categorical\n",
    "from keras.optimizers import Adam\n",
    "from tensorflow.keras import regularizers\n",
    "from sklearn.metrics import precision_score, recall_score, confusion_matrix, classification_report, accuracy_score, f1_score\n",
    "from keras import callbacks\n",
    "from sklearn.naive_bayes import GaussianNB\n",
    "from sklearn import datasets, linear_model, metrics\n",
    "from sklearn.preprocessing import MinMaxScaler\n",
    "from numpy import mean\n",
    "from numpy import std\n",
    "from numpy import absolute\n",
    "from sklearn.model_selection import cross_val_score\n",
    "from sklearn.model_selection import RepeatedKFold\n",
    "from sklearn.model_selection import KFold\n",
    "from sklearn.preprocessing import StandardScaler  \n",
    "from sklearn.metrics import r2_score\n",
    "from sklearn.metrics import mean_squared_error\n",
    "np.random.seed(0)"
   ]
  },
  {
   "cell_type": "code",
   "execution_count": 2,
   "id": "01dbe09e",
   "metadata": {},
   "outputs": [],
   "source": [
    "df1 = pd.read_csv('observedDataset1.csv')"
   ]
  },
  {
   "cell_type": "code",
   "execution_count": 3,
   "id": "71030a47",
   "metadata": {},
   "outputs": [
    {
     "data": {
      "text/html": [
       "<div>\n",
       "<style scoped>\n",
       "    .dataframe tbody tr th:only-of-type {\n",
       "        vertical-align: middle;\n",
       "    }\n",
       "\n",
       "    .dataframe tbody tr th {\n",
       "        vertical-align: top;\n",
       "    }\n",
       "\n",
       "    .dataframe thead th {\n",
       "        text-align: right;\n",
       "    }\n",
       "</style>\n",
       "<table border=\"1\" class=\"dataframe\">\n",
       "  <thead>\n",
       "    <tr style=\"text-align: right;\">\n",
       "      <th></th>\n",
       "      <th>Unnamed: 0</th>\n",
       "      <th>stationID</th>\n",
       "      <th>Days</th>\n",
       "      <th>observedTempMax</th>\n",
       "      <th>observedTempMin</th>\n",
       "      <th>observedHumidity</th>\n",
       "      <th>observedPressure</th>\n",
       "      <th>observedWind</th>\n",
       "      <th>observedRainfallcatagorical</th>\n",
       "    </tr>\n",
       "  </thead>\n",
       "  <tbody>\n",
       "    <tr>\n",
       "      <th>0</th>\n",
       "      <td>0</td>\n",
       "      <td>10120</td>\n",
       "      <td>1</td>\n",
       "      <td>23.182051</td>\n",
       "      <td>10.735897</td>\n",
       "      <td>77.586207</td>\n",
       "      <td>1016.255172</td>\n",
       "      <td>3.968966</td>\n",
       "      <td>0.0</td>\n",
       "    </tr>\n",
       "    <tr>\n",
       "      <th>1</th>\n",
       "      <td>1</td>\n",
       "      <td>10120</td>\n",
       "      <td>2</td>\n",
       "      <td>22.997436</td>\n",
       "      <td>10.738462</td>\n",
       "      <td>78.655172</td>\n",
       "      <td>1016.424138</td>\n",
       "      <td>4.017241</td>\n",
       "      <td>0.0</td>\n",
       "    </tr>\n",
       "    <tr>\n",
       "      <th>2</th>\n",
       "      <td>2</td>\n",
       "      <td>10120</td>\n",
       "      <td>3</td>\n",
       "      <td>22.276923</td>\n",
       "      <td>10.566667</td>\n",
       "      <td>80.551724</td>\n",
       "      <td>1016.227586</td>\n",
       "      <td>4.306897</td>\n",
       "      <td>0.0</td>\n",
       "    </tr>\n",
       "    <tr>\n",
       "      <th>3</th>\n",
       "      <td>3</td>\n",
       "      <td>10120</td>\n",
       "      <td>4</td>\n",
       "      <td>22.115385</td>\n",
       "      <td>10.712821</td>\n",
       "      <td>79.862069</td>\n",
       "      <td>1016.027586</td>\n",
       "      <td>4.234483</td>\n",
       "      <td>1.0</td>\n",
       "    </tr>\n",
       "    <tr>\n",
       "      <th>4</th>\n",
       "      <td>4</td>\n",
       "      <td>10120</td>\n",
       "      <td>5</td>\n",
       "      <td>22.325641</td>\n",
       "      <td>10.274359</td>\n",
       "      <td>79.758621</td>\n",
       "      <td>1015.627586</td>\n",
       "      <td>4.434483</td>\n",
       "      <td>0.0</td>\n",
       "    </tr>\n",
       "  </tbody>\n",
       "</table>\n",
       "</div>"
      ],
      "text/plain": [
       "   Unnamed: 0  stationID  Days  observedTempMax  observedTempMin  \\\n",
       "0           0      10120     1        23.182051        10.735897   \n",
       "1           1      10120     2        22.997436        10.738462   \n",
       "2           2      10120     3        22.276923        10.566667   \n",
       "3           3      10120     4        22.115385        10.712821   \n",
       "4           4      10120     5        22.325641        10.274359   \n",
       "\n",
       "   observedHumidity  observedPressure  observedWind  \\\n",
       "0         77.586207       1016.255172      3.968966   \n",
       "1         78.655172       1016.424138      4.017241   \n",
       "2         80.551724       1016.227586      4.306897   \n",
       "3         79.862069       1016.027586      4.234483   \n",
       "4         79.758621       1015.627586      4.434483   \n",
       "\n",
       "   observedRainfallcatagorical  \n",
       "0                          0.0  \n",
       "1                          0.0  \n",
       "2                          0.0  \n",
       "3                          1.0  \n",
       "4                          0.0  "
      ]
     },
     "execution_count": 3,
     "metadata": {},
     "output_type": "execute_result"
    }
   ],
   "source": [
    "df1.head()"
   ]
  },
  {
   "cell_type": "code",
   "execution_count": 4,
   "id": "0c86a81b",
   "metadata": {},
   "outputs": [],
   "source": [
    "df1.drop(\"Unnamed: 0\", axis=1, inplace=True)"
   ]
  },
  {
   "cell_type": "code",
   "execution_count": 5,
   "id": "824fc113",
   "metadata": {},
   "outputs": [],
   "source": [
    "for c in range(12078,12106):\n",
    "    df1.drop(c,axis=0,inplace=True)\n",
    "    \n",
    "\n",
    "\n",
    "    \n",
    "\n",
    "pd.set_option('display.max_columns', None)\n",
    "pd.set_option('display.max_rows', None) \n",
    "\n",
    "pd.set_option('display.max_colwidth',0) \n",
    "#df1.reset_index()\n",
    "#print(df1)"
   ]
  },
  {
   "cell_type": "markdown",
   "id": "7ffe5905",
   "metadata": {},
   "source": [
    "### Only one station data selection"
   ]
  },
  {
   "cell_type": "code",
   "execution_count": 6,
   "id": "0bfa91a9",
   "metadata": {},
   "outputs": [],
   "source": [
    "df = df1.iloc[0:366,:]"
   ]
  },
  {
   "cell_type": "code",
   "execution_count": 7,
   "id": "ca1923c2",
   "metadata": {},
   "outputs": [],
   "source": [
    "#df"
   ]
  },
  {
   "cell_type": "code",
   "execution_count": 8,
   "id": "ca6e26f5",
   "metadata": {},
   "outputs": [
    {
     "data": {
      "text/plain": [
       "(366, 9)"
      ]
     },
     "execution_count": 8,
     "metadata": {},
     "output_type": "execute_result"
    }
   ],
   "source": [
    "df = df.reset_index()\n",
    "df.shape"
   ]
  },
  {
   "cell_type": "code",
   "execution_count": 9,
   "id": "c516d3ad",
   "metadata": {},
   "outputs": [
    {
     "data": {
      "text/plain": [
       "Index(['index', 'stationID', 'Days', 'observedTempMax', 'observedTempMin',\n",
       "       'observedHumidity', 'observedPressure', 'observedWind',\n",
       "       'observedRainfallcatagorical'],\n",
       "      dtype='object')"
      ]
     },
     "execution_count": 9,
     "metadata": {},
     "output_type": "execute_result"
    }
   ],
   "source": [
    "df.columns"
   ]
  },
  {
   "cell_type": "code",
   "execution_count": 10,
   "id": "5ac1767d",
   "metadata": {},
   "outputs": [
    {
     "data": {
      "text/plain": [
       "Index(['stationID', 'Days', 'observedTempMax', 'observedTempMin',\n",
       "       'observedHumidity', 'observedPressure', 'observedWind',\n",
       "       'observedRainfallcatagorical'],\n",
       "      dtype='object')"
      ]
     },
     "execution_count": 10,
     "metadata": {},
     "output_type": "execute_result"
    }
   ],
   "source": [
    "df.drop(\"index\", axis=1, inplace=True)\n",
    "\n",
    "df.columns"
   ]
  },
  {
   "cell_type": "code",
   "execution_count": 11,
   "id": "693f98a2",
   "metadata": {},
   "outputs": [
    {
     "data": {
      "text/plain": [
       "Index(['stationID', 'Days', 'observedTempMax', 'observedTempMin',\n",
       "       'observedHumidity', 'observedPressure', 'observedWind',\n",
       "       'observedRainfallcatagorical'],\n",
       "      dtype='object')"
      ]
     },
     "execution_count": 11,
     "metadata": {},
     "output_type": "execute_result"
    }
   ],
   "source": [
    "df.columns"
   ]
  },
  {
   "cell_type": "code",
   "execution_count": 12,
   "id": "b2737793",
   "metadata": {},
   "outputs": [
    {
     "data": {
      "text/plain": [
       "1.0    244\n",
       "0.0    122\n",
       "Name: observedRainfallcatagorical, dtype: int64"
      ]
     },
     "execution_count": 12,
     "metadata": {},
     "output_type": "execute_result"
    }
   ],
   "source": [
    "df['observedRainfallcatagorical'].value_counts()"
   ]
  },
  {
   "cell_type": "code",
   "execution_count": 13,
   "id": "8b0b1a87",
   "metadata": {},
   "outputs": [],
   "source": [
    "df['observedRainfallcatagorical'].fillna(method='ffill',inplace=True,axis=0)"
   ]
  },
  {
   "cell_type": "code",
   "execution_count": 14,
   "id": "4f0f40c5",
   "metadata": {},
   "outputs": [
    {
     "data": {
      "text/plain": [
       "1.0    244\n",
       "0.0    122\n",
       "Name: observedRainfallcatagorical, dtype: int64"
      ]
     },
     "execution_count": 14,
     "metadata": {},
     "output_type": "execute_result"
    }
   ],
   "source": [
    "df['observedRainfallcatagorical'].value_counts()"
   ]
  },
  {
   "cell_type": "code",
   "execution_count": 15,
   "id": "3017036e",
   "metadata": {},
   "outputs": [],
   "source": [
    "df['observedHumidity'].fillna(method='ffill',inplace=True,axis=0)"
   ]
  },
  {
   "cell_type": "code",
   "execution_count": 16,
   "id": "82a16178",
   "metadata": {},
   "outputs": [],
   "source": [
    "df['observedPressure'].fillna(method='ffill',inplace=True,axis=0)"
   ]
  },
  {
   "cell_type": "code",
   "execution_count": 17,
   "id": "39c2dc57",
   "metadata": {},
   "outputs": [],
   "source": [
    "df['observedWind'].fillna(method='ffill',inplace=True,axis=0)"
   ]
  },
  {
   "cell_type": "code",
   "execution_count": 18,
   "id": "281eb584",
   "metadata": {},
   "outputs": [
    {
     "data": {
      "text/html": [
       "<div>\n",
       "<style scoped>\n",
       "    .dataframe tbody tr th:only-of-type {\n",
       "        vertical-align: middle;\n",
       "    }\n",
       "\n",
       "    .dataframe tbody tr th {\n",
       "        vertical-align: top;\n",
       "    }\n",
       "\n",
       "    .dataframe thead th {\n",
       "        text-align: right;\n",
       "    }\n",
       "</style>\n",
       "<table border=\"1\" class=\"dataframe\">\n",
       "  <thead>\n",
       "    <tr style=\"text-align: right;\">\n",
       "      <th></th>\n",
       "      <th>stationID</th>\n",
       "      <th>Days</th>\n",
       "      <th>observedTempMax</th>\n",
       "      <th>observedTempMin</th>\n",
       "      <th>observedHumidity</th>\n",
       "      <th>observedPressure</th>\n",
       "      <th>observedWind</th>\n",
       "      <th>observedRainfallcatagorical</th>\n",
       "    </tr>\n",
       "  </thead>\n",
       "  <tbody>\n",
       "    <tr>\n",
       "      <th>stationID</th>\n",
       "      <td>NaN</td>\n",
       "      <td>NaN</td>\n",
       "      <td>NaN</td>\n",
       "      <td>NaN</td>\n",
       "      <td>NaN</td>\n",
       "      <td>NaN</td>\n",
       "      <td>NaN</td>\n",
       "      <td>NaN</td>\n",
       "    </tr>\n",
       "    <tr>\n",
       "      <th>Days</th>\n",
       "      <td>NaN</td>\n",
       "      <td>1.000000</td>\n",
       "      <td>0.135647</td>\n",
       "      <td>0.232854</td>\n",
       "      <td>0.452880</td>\n",
       "      <td>-0.029081</td>\n",
       "      <td>-0.489957</td>\n",
       "      <td>0.025728</td>\n",
       "    </tr>\n",
       "    <tr>\n",
       "      <th>observedTempMax</th>\n",
       "      <td>NaN</td>\n",
       "      <td>0.135647</td>\n",
       "      <td>1.000000</td>\n",
       "      <td>0.915483</td>\n",
       "      <td>0.132692</td>\n",
       "      <td>-0.831025</td>\n",
       "      <td>0.438335</td>\n",
       "      <td>0.650666</td>\n",
       "    </tr>\n",
       "    <tr>\n",
       "      <th>observedTempMin</th>\n",
       "      <td>NaN</td>\n",
       "      <td>0.232854</td>\n",
       "      <td>0.915483</td>\n",
       "      <td>1.000000</td>\n",
       "      <td>0.494443</td>\n",
       "      <td>-0.922523</td>\n",
       "      <td>0.250930</td>\n",
       "      <td>0.745856</td>\n",
       "    </tr>\n",
       "    <tr>\n",
       "      <th>observedHumidity</th>\n",
       "      <td>NaN</td>\n",
       "      <td>0.452880</td>\n",
       "      <td>0.132692</td>\n",
       "      <td>0.494443</td>\n",
       "      <td>1.000000</td>\n",
       "      <td>-0.448527</td>\n",
       "      <td>-0.464762</td>\n",
       "      <td>0.417390</td>\n",
       "    </tr>\n",
       "    <tr>\n",
       "      <th>observedPressure</th>\n",
       "      <td>NaN</td>\n",
       "      <td>-0.029081</td>\n",
       "      <td>-0.831025</td>\n",
       "      <td>-0.922523</td>\n",
       "      <td>-0.448527</td>\n",
       "      <td>1.000000</td>\n",
       "      <td>-0.351664</td>\n",
       "      <td>-0.704026</td>\n",
       "    </tr>\n",
       "    <tr>\n",
       "      <th>observedWind</th>\n",
       "      <td>NaN</td>\n",
       "      <td>-0.489957</td>\n",
       "      <td>0.438335</td>\n",
       "      <td>0.250930</td>\n",
       "      <td>-0.464762</td>\n",
       "      <td>-0.351664</td>\n",
       "      <td>1.000000</td>\n",
       "      <td>0.242347</td>\n",
       "    </tr>\n",
       "    <tr>\n",
       "      <th>observedRainfallcatagorical</th>\n",
       "      <td>NaN</td>\n",
       "      <td>0.025728</td>\n",
       "      <td>0.650666</td>\n",
       "      <td>0.745856</td>\n",
       "      <td>0.417390</td>\n",
       "      <td>-0.704026</td>\n",
       "      <td>0.242347</td>\n",
       "      <td>1.000000</td>\n",
       "    </tr>\n",
       "  </tbody>\n",
       "</table>\n",
       "</div>"
      ],
      "text/plain": [
       "                             stationID      Days  observedTempMax  \\\n",
       "stationID                   NaN        NaN       NaN                \n",
       "Days                        NaN         1.000000  0.135647          \n",
       "observedTempMax             NaN         0.135647  1.000000          \n",
       "observedTempMin             NaN         0.232854  0.915483          \n",
       "observedHumidity            NaN         0.452880  0.132692          \n",
       "observedPressure            NaN        -0.029081 -0.831025          \n",
       "observedWind                NaN        -0.489957  0.438335          \n",
       "observedRainfallcatagorical NaN         0.025728  0.650666          \n",
       "\n",
       "                             observedTempMin  observedHumidity  \\\n",
       "stationID                   NaN              NaN                 \n",
       "Days                         0.232854         0.452880           \n",
       "observedTempMax              0.915483         0.132692           \n",
       "observedTempMin              1.000000         0.494443           \n",
       "observedHumidity             0.494443         1.000000           \n",
       "observedPressure            -0.922523        -0.448527           \n",
       "observedWind                 0.250930        -0.464762           \n",
       "observedRainfallcatagorical  0.745856         0.417390           \n",
       "\n",
       "                             observedPressure  observedWind  \\\n",
       "stationID                   NaN               NaN             \n",
       "Days                        -0.029081         -0.489957       \n",
       "observedTempMax             -0.831025          0.438335       \n",
       "observedTempMin             -0.922523          0.250930       \n",
       "observedHumidity            -0.448527         -0.464762       \n",
       "observedPressure             1.000000         -0.351664       \n",
       "observedWind                -0.351664          1.000000       \n",
       "observedRainfallcatagorical -0.704026          0.242347       \n",
       "\n",
       "                             observedRainfallcatagorical  \n",
       "stationID                   NaN                           \n",
       "Days                         0.025728                     \n",
       "observedTempMax              0.650666                     \n",
       "observedTempMin              0.745856                     \n",
       "observedHumidity             0.417390                     \n",
       "observedPressure            -0.704026                     \n",
       "observedWind                 0.242347                     \n",
       "observedRainfallcatagorical  1.000000                     "
      ]
     },
     "execution_count": 18,
     "metadata": {},
     "output_type": "execute_result"
    }
   ],
   "source": [
    "df.corr()"
   ]
  },
  {
   "cell_type": "code",
   "execution_count": 19,
   "id": "edbbb283",
   "metadata": {},
   "outputs": [],
   "source": [
    "x = df.iloc[:,[2,3,4,6] ] \n"
   ]
  },
  {
   "cell_type": "code",
   "execution_count": 20,
   "id": "a287808d",
   "metadata": {},
   "outputs": [],
   "source": [
    "y=df.iloc[:, 7:]\n",
    "\n"
   ]
  },
  {
   "cell_type": "code",
   "execution_count": 21,
   "id": "fc8186a9",
   "metadata": {},
   "outputs": [],
   "source": [
    "#scaler_x = MinMaxScaler()\n",
    "#scaler_y = MinMaxScaler()\n",
    "#scaler_x.fit(x)\n",
    "#x_=scaler_x.transform(x)\n",
    "\n",
    "#scaler_y.fit(y)\n",
    "#y_=scaler_y.transform(y)\n",
    "\n",
    "  \n",
    "stx= StandardScaler()    \n",
    "x_= stx.fit_transform(x)    \n",
    "y_= y \n"
   ]
  },
  {
   "cell_type": "code",
   "execution_count": 22,
   "id": "633c83e1",
   "metadata": {},
   "outputs": [],
   "source": [
    "x_train,x_test,y_train,y_test = train_test_split(x_,y_,test_size=0.2,random_state=1)"
   ]
  },
  {
   "cell_type": "code",
   "execution_count": 23,
   "id": "cd6a7844",
   "metadata": {},
   "outputs": [
    {
     "data": {
      "text/plain": [
       "(292, 4)"
      ]
     },
     "execution_count": 23,
     "metadata": {},
     "output_type": "execute_result"
    }
   ],
   "source": [
    "x_train.shape"
   ]
  },
  {
   "cell_type": "code",
   "execution_count": 24,
   "id": "db77d4f8",
   "metadata": {},
   "outputs": [
    {
     "data": {
      "text/plain": [
       "(292, 1)"
      ]
     },
     "execution_count": 24,
     "metadata": {},
     "output_type": "execute_result"
    }
   ],
   "source": [
    "y_train.shape"
   ]
  },
  {
   "cell_type": "code",
   "execution_count": 25,
   "id": "ebea7e41",
   "metadata": {},
   "outputs": [
    {
     "data": {
      "text/plain": [
       "(74, 1)"
      ]
     },
     "execution_count": 25,
     "metadata": {},
     "output_type": "execute_result"
    }
   ],
   "source": [
    "yy_test = y_test\n",
    "y_test.shape"
   ]
  },
  {
   "cell_type": "markdown",
   "id": "2cff82be",
   "metadata": {},
   "source": [
    "## Decision trees( Random forest classifier)"
   ]
  },
  {
   "cell_type": "code",
   "execution_count": 26,
   "id": "4cea3413",
   "metadata": {},
   "outputs": [],
   "source": [
    "yTrain=np.ravel(y_train)\n",
    "yTest=np.ravel(y_test)"
   ]
  },
  {
   "cell_type": "code",
   "execution_count": 27,
   "id": "a9a078cd",
   "metadata": {},
   "outputs": [],
   "source": [
    "RF = RandomForestClassifier(max_depth=32,n_estimators=120,random_state=1)\n",
    "h=RF.fit(x_train,yTrain)\n",
    "y_pred = RF.predict(x_test)"
   ]
  },
  {
   "cell_type": "code",
   "execution_count": 28,
   "id": "55ec70f9",
   "metadata": {},
   "outputs": [
    {
     "data": {
      "text/plain": [
       "0.8783783783783784"
      ]
     },
     "execution_count": 28,
     "metadata": {},
     "output_type": "execute_result"
    }
   ],
   "source": [
    "accuracy_score(yTest, y_pred)"
   ]
  },
  {
   "cell_type": "code",
   "execution_count": 29,
   "id": "6e8aa61a",
   "metadata": {},
   "outputs": [
    {
     "data": {
      "text/plain": [
       "array([0.29369206, 0.47782666, 0.12672482, 0.10175645])"
      ]
     },
     "execution_count": 29,
     "metadata": {},
     "output_type": "execute_result"
    }
   ],
   "source": [
    "RF.feature_importances_"
   ]
  },
  {
   "cell_type": "markdown",
   "id": "b9477312",
   "metadata": {},
   "source": [
    "## Gaussian Naive Bayes"
   ]
  },
  {
   "cell_type": "code",
   "execution_count": 30,
   "id": "4b246004",
   "metadata": {
    "scrolled": true
   },
   "outputs": [
    {
     "data": {
      "text/plain": [
       "array([1., 1., 1., 1., 1., 1., 1., 1., 1., 0., 0., 0., 0., 1., 1., 1., 1.,\n",
       "       1., 0., 1., 1., 1., 0., 1., 0., 1., 1., 0., 1., 1., 1., 0., 1., 1.,\n",
       "       0., 0., 1., 1., 1., 1., 1., 0., 0., 0., 1., 1., 0., 1., 1., 1., 1.,\n",
       "       1., 1., 1., 1., 0., 0., 1., 1., 1., 1., 1., 1., 0., 1., 1., 1., 1.,\n",
       "       1., 0., 0., 1., 0., 1.])"
      ]
     },
     "execution_count": 30,
     "metadata": {},
     "output_type": "execute_result"
    }
   ],
   "source": [
    "nb=GaussianNB()\n",
    "\n",
    "nb.fit(x_train,yTrain)\n",
    "\n",
    "y_pred1=nb.predict(x_test)\n",
    "y_pred1"
   ]
  },
  {
   "cell_type": "code",
   "execution_count": 31,
   "id": "3f352533",
   "metadata": {},
   "outputs": [
    {
     "data": {
      "text/plain": [
       "0.9054054054054054"
      ]
     },
     "execution_count": 31,
     "metadata": {},
     "output_type": "execute_result"
    }
   ],
   "source": [
    "metrics.accuracy_score(yTest,y_pred1)"
   ]
  },
  {
   "cell_type": "code",
   "execution_count": 32,
   "id": "111cc1f5",
   "metadata": {},
   "outputs": [],
   "source": [
    "gdf = pd.DataFrame(yy_test)\n",
    "# Using DataFrame.insert() to add a column\n",
    "gdf.insert(0, \"prediction\",y_pred1, True)\n",
    "gdf.rename(columns = { 0:'Actual value'}, inplace = True)\n",
    "pd.set_option('display.max_columns', None)\n",
    "pd.set_option('display.max_rows', None) \n",
    "\n",
    "pd.set_option('display.max_colwidth',0) \n",
    "\n",
    "# Observe the result\n",
    "#print(gdf)"
   ]
  },
  {
   "cell_type": "markdown",
   "id": "fd1cc954",
   "metadata": {},
   "source": [
    "## Artificial neural network"
   ]
  },
  {
   "cell_type": "code",
   "execution_count": 33,
   "id": "d0a7cd65",
   "metadata": {},
   "outputs": [
    {
     "name": "stdout",
     "output_type": "stream",
     "text": [
      "Epoch 1/150\n",
      "8/8 [==============================] - 0s 48ms/step - loss: 0.6931 - accuracy: 0.6781 - val_loss: 0.6931 - val_accuracy: 0.5932\n",
      "Epoch 2/150\n",
      "8/8 [==============================] - 0s 5ms/step - loss: 0.6929 - accuracy: 0.6910 - val_loss: 0.6930 - val_accuracy: 0.5932\n",
      "Epoch 3/150\n",
      "8/8 [==============================] - 0s 5ms/step - loss: 0.6928 - accuracy: 0.6910 - val_loss: 0.6930 - val_accuracy: 0.5932\n",
      "Epoch 4/150\n",
      "8/8 [==============================] - 0s 6ms/step - loss: 0.6927 - accuracy: 0.6910 - val_loss: 0.6929 - val_accuracy: 0.5932\n",
      "Epoch 5/150\n",
      "8/8 [==============================] - 0s 6ms/step - loss: 0.6926 - accuracy: 0.6910 - val_loss: 0.6928 - val_accuracy: 0.5932\n",
      "Epoch 6/150\n",
      "8/8 [==============================] - 0s 6ms/step - loss: 0.6925 - accuracy: 0.6910 - val_loss: 0.6928 - val_accuracy: 0.5932\n",
      "Epoch 7/150\n",
      "8/8 [==============================] - 0s 7ms/step - loss: 0.6923 - accuracy: 0.6910 - val_loss: 0.6927 - val_accuracy: 0.5932\n",
      "Epoch 8/150\n",
      "8/8 [==============================] - 0s 6ms/step - loss: 0.6922 - accuracy: 0.6910 - val_loss: 0.6926 - val_accuracy: 0.5932\n",
      "Epoch 9/150\n",
      "8/8 [==============================] - 0s 8ms/step - loss: 0.6921 - accuracy: 0.6910 - val_loss: 0.6926 - val_accuracy: 0.5932\n",
      "Epoch 10/150\n",
      "8/8 [==============================] - 0s 7ms/step - loss: 0.6919 - accuracy: 0.6910 - val_loss: 0.6925 - val_accuracy: 0.5932\n",
      "Epoch 11/150\n",
      "8/8 [==============================] - ETA: 0s - loss: 0.6919 - accuracy: 0.68 - 0s 6ms/step - loss: 0.6918 - accuracy: 0.6910 - val_loss: 0.6924 - val_accuracy: 0.5932\n",
      "Epoch 12/150\n",
      "8/8 [==============================] - 0s 7ms/step - loss: 0.6917 - accuracy: 0.6910 - val_loss: 0.6924 - val_accuracy: 0.5932\n",
      "Epoch 13/150\n",
      "8/8 [==============================] - 0s 6ms/step - loss: 0.6915 - accuracy: 0.6910 - val_loss: 0.6923 - val_accuracy: 0.5932\n",
      "Epoch 14/150\n",
      "8/8 [==============================] - 0s 7ms/step - loss: 0.6914 - accuracy: 0.6910 - val_loss: 0.6922 - val_accuracy: 0.5932\n",
      "Epoch 15/150\n",
      "8/8 [==============================] - 0s 7ms/step - loss: 0.6913 - accuracy: 0.6910 - val_loss: 0.6922 - val_accuracy: 0.5932\n",
      "Epoch 16/150\n",
      "8/8 [==============================] - 0s 8ms/step - loss: 0.6912 - accuracy: 0.6910 - val_loss: 0.6921 - val_accuracy: 0.5932\n",
      "Epoch 17/150\n",
      "8/8 [==============================] - 0s 7ms/step - loss: 0.6910 - accuracy: 0.6910 - val_loss: 0.6920 - val_accuracy: 0.5932\n",
      "Epoch 18/150\n",
      "8/8 [==============================] - 0s 7ms/step - loss: 0.6909 - accuracy: 0.6910 - val_loss: 0.6919 - val_accuracy: 0.5932\n",
      "Epoch 19/150\n",
      "8/8 [==============================] - 0s 7ms/step - loss: 0.6907 - accuracy: 0.6910 - val_loss: 0.6918 - val_accuracy: 0.5932\n",
      "Epoch 20/150\n",
      "8/8 [==============================] - 0s 5ms/step - loss: 0.6905 - accuracy: 0.6910 - val_loss: 0.6918 - val_accuracy: 0.5932\n",
      "Epoch 21/150\n",
      "8/8 [==============================] - 0s 6ms/step - loss: 0.6903 - accuracy: 0.6910 - val_loss: 0.6917 - val_accuracy: 0.5932\n",
      "Epoch 22/150\n",
      "8/8 [==============================] - 0s 5ms/step - loss: 0.6902 - accuracy: 0.6910 - val_loss: 0.6916 - val_accuracy: 0.5932\n",
      "Epoch 23/150\n",
      "8/8 [==============================] - 0s 5ms/step - loss: 0.6899 - accuracy: 0.6910 - val_loss: 0.6914 - val_accuracy: 0.5932\n",
      "Epoch 24/150\n",
      "8/8 [==============================] - 0s 5ms/step - loss: 0.6898 - accuracy: 0.6910 - val_loss: 0.6913 - val_accuracy: 0.5932\n",
      "Epoch 25/150\n",
      "8/8 [==============================] - 0s 5ms/step - loss: 0.6896 - accuracy: 0.6910 - val_loss: 0.6912 - val_accuracy: 0.5932\n",
      "Epoch 26/150\n",
      "8/8 [==============================] - 0s 5ms/step - loss: 0.6894 - accuracy: 0.6910 - val_loss: 0.6911 - val_accuracy: 0.5932\n",
      "Epoch 27/150\n",
      "8/8 [==============================] - 0s 5ms/step - loss: 0.6891 - accuracy: 0.6910 - val_loss: 0.6909 - val_accuracy: 0.5932\n",
      "Epoch 28/150\n",
      "8/8 [==============================] - 0s 6ms/step - loss: 0.6888 - accuracy: 0.6910 - val_loss: 0.6907 - val_accuracy: 0.5932\n",
      "Epoch 29/150\n",
      "8/8 [==============================] - 0s 7ms/step - loss: 0.6886 - accuracy: 0.6910 - val_loss: 0.6906 - val_accuracy: 0.5932\n",
      "Epoch 30/150\n",
      "8/8 [==============================] - 0s 6ms/step - loss: 0.6885 - accuracy: 0.6910 - val_loss: 0.6904 - val_accuracy: 0.5932\n",
      "Epoch 31/150\n",
      "8/8 [==============================] - 0s 6ms/step - loss: 0.6880 - accuracy: 0.6910 - val_loss: 0.6902 - val_accuracy: 0.5932\n",
      "Epoch 32/150\n",
      "8/8 [==============================] - 0s 8ms/step - loss: 0.6877 - accuracy: 0.6910 - val_loss: 0.6899 - val_accuracy: 0.5932\n",
      "Epoch 33/150\n",
      "8/8 [==============================] - 0s 8ms/step - loss: 0.6876 - accuracy: 0.6910 - val_loss: 0.6897 - val_accuracy: 0.5932\n",
      "Epoch 34/150\n",
      "8/8 [==============================] - 0s 7ms/step - loss: 0.6869 - accuracy: 0.6910 - val_loss: 0.6894 - val_accuracy: 0.5932\n",
      "Epoch 35/150\n",
      "8/8 [==============================] - 0s 7ms/step - loss: 0.6867 - accuracy: 0.6910 - val_loss: 0.6891 - val_accuracy: 0.5932\n",
      "Epoch 36/150\n",
      "8/8 [==============================] - 0s 6ms/step - loss: 0.6863 - accuracy: 0.6910 - val_loss: 0.6888 - val_accuracy: 0.5932\n",
      "Epoch 37/150\n",
      "8/8 [==============================] - 0s 5ms/step - loss: 0.6859 - accuracy: 0.6910 - val_loss: 0.6884 - val_accuracy: 0.5932\n",
      "Epoch 38/150\n",
      "8/8 [==============================] - 0s 5ms/step - loss: 0.6856 - accuracy: 0.6910 - val_loss: 0.6881 - val_accuracy: 0.5932\n",
      "Epoch 39/150\n",
      "8/8 [==============================] - 0s 5ms/step - loss: 0.6847 - accuracy: 0.6910 - val_loss: 0.6876 - val_accuracy: 0.5932\n",
      "Epoch 40/150\n",
      "8/8 [==============================] - 0s 5ms/step - loss: 0.6841 - accuracy: 0.6910 - val_loss: 0.6872 - val_accuracy: 0.5932\n",
      "Epoch 41/150\n",
      "8/8 [==============================] - 0s 6ms/step - loss: 0.6832 - accuracy: 0.6910 - val_loss: 0.6867 - val_accuracy: 0.5932\n",
      "Epoch 42/150\n",
      "8/8 [==============================] - 0s 6ms/step - loss: 0.6825 - accuracy: 0.6910 - val_loss: 0.6861 - val_accuracy: 0.5932\n",
      "Epoch 43/150\n",
      "8/8 [==============================] - 0s 5ms/step - loss: 0.6823 - accuracy: 0.6910 - val_loss: 0.6855 - val_accuracy: 0.5932\n",
      "Epoch 44/150\n",
      "8/8 [==============================] - 0s 6ms/step - loss: 0.6812 - accuracy: 0.6910 - val_loss: 0.6848 - val_accuracy: 0.5932\n",
      "Epoch 45/150\n",
      "8/8 [==============================] - 0s 5ms/step - loss: 0.6809 - accuracy: 0.6910 - val_loss: 0.6841 - val_accuracy: 0.5932\n",
      "Epoch 46/150\n",
      "8/8 [==============================] - 0s 7ms/step - loss: 0.6779 - accuracy: 0.6910 - val_loss: 0.6833 - val_accuracy: 0.5932\n",
      "Epoch 47/150\n",
      "8/8 [==============================] - 0s 5ms/step - loss: 0.6796 - accuracy: 0.6910 - val_loss: 0.6825 - val_accuracy: 0.5932\n",
      "Epoch 48/150\n",
      "8/8 [==============================] - 0s 6ms/step - loss: 0.6771 - accuracy: 0.6910 - val_loss: 0.6816 - val_accuracy: 0.5932\n",
      "Epoch 49/150\n",
      "8/8 [==============================] - 0s 5ms/step - loss: 0.6769 - accuracy: 0.6910 - val_loss: 0.6806 - val_accuracy: 0.5932\n",
      "Epoch 50/150\n",
      "8/8 [==============================] - 0s 6ms/step - loss: 0.6763 - accuracy: 0.6910 - val_loss: 0.6796 - val_accuracy: 0.5932\n",
      "Epoch 51/150\n",
      "8/8 [==============================] - 0s 5ms/step - loss: 0.6738 - accuracy: 0.6910 - val_loss: 0.6786 - val_accuracy: 0.5932\n",
      "Epoch 52/150\n",
      "8/8 [==============================] - 0s 6ms/step - loss: 0.6734 - accuracy: 0.6910 - val_loss: 0.6775 - val_accuracy: 0.5932\n",
      "Epoch 53/150\n",
      "8/8 [==============================] - 0s 7ms/step - loss: 0.6721 - accuracy: 0.6910 - val_loss: 0.6763 - val_accuracy: 0.5932\n",
      "Epoch 54/150\n",
      "8/8 [==============================] - 0s 6ms/step - loss: 0.6715 - accuracy: 0.6910 - val_loss: 0.6751 - val_accuracy: 0.5932\n",
      "Epoch 55/150\n",
      "8/8 [==============================] - 0s 8ms/step - loss: 0.6694 - accuracy: 0.6910 - val_loss: 0.6737 - val_accuracy: 0.5932\n",
      "Epoch 56/150\n",
      "8/8 [==============================] - 0s 9ms/step - loss: 0.6664 - accuracy: 0.6910 - val_loss: 0.6723 - val_accuracy: 0.5932\n",
      "Epoch 57/150\n",
      "8/8 [==============================] - 0s 7ms/step - loss: 0.6664 - accuracy: 0.6910 - val_loss: 0.6708 - val_accuracy: 0.5932\n",
      "Epoch 58/150\n",
      "8/8 [==============================] - 0s 6ms/step - loss: 0.6654 - accuracy: 0.6910 - val_loss: 0.6692 - val_accuracy: 0.5932\n",
      "Epoch 59/150\n"
     ]
    },
    {
     "name": "stdout",
     "output_type": "stream",
     "text": [
      "8/8 [==============================] - 0s 8ms/step - loss: 0.6636 - accuracy: 0.6910 - val_loss: 0.6676 - val_accuracy: 0.5932\n",
      "Epoch 60/150\n",
      "8/8 [==============================] - 0s 6ms/step - loss: 0.6614 - accuracy: 0.6910 - val_loss: 0.6660 - val_accuracy: 0.5932\n",
      "Epoch 61/150\n",
      "8/8 [==============================] - 0s 6ms/step - loss: 0.6577 - accuracy: 0.6910 - val_loss: 0.6641 - val_accuracy: 0.5932\n",
      "Epoch 62/150\n",
      "8/8 [==============================] - 0s 6ms/step - loss: 0.6565 - accuracy: 0.6910 - val_loss: 0.6622 - val_accuracy: 0.5932\n",
      "Epoch 63/150\n",
      "8/8 [==============================] - 0s 7ms/step - loss: 0.6558 - accuracy: 0.6910 - val_loss: 0.6601 - val_accuracy: 0.5932\n",
      "Epoch 64/150\n",
      "8/8 [==============================] - 0s 6ms/step - loss: 0.6507 - accuracy: 0.6953 - val_loss: 0.6579 - val_accuracy: 0.5932\n",
      "Epoch 65/150\n",
      "8/8 [==============================] - 0s 6ms/step - loss: 0.6478 - accuracy: 0.6867 - val_loss: 0.6557 - val_accuracy: 0.5932\n",
      "Epoch 66/150\n",
      "8/8 [==============================] - 0s 6ms/step - loss: 0.6451 - accuracy: 0.7167 - val_loss: 0.6533 - val_accuracy: 0.5932\n",
      "Epoch 67/150\n",
      "8/8 [==============================] - 0s 6ms/step - loss: 0.6418 - accuracy: 0.7039 - val_loss: 0.6509 - val_accuracy: 0.5932\n",
      "Epoch 68/150\n",
      "8/8 [==============================] - 0s 6ms/step - loss: 0.6433 - accuracy: 0.6996 - val_loss: 0.6483 - val_accuracy: 0.5932\n",
      "Epoch 69/150\n",
      "8/8 [==============================] - 0s 5ms/step - loss: 0.6461 - accuracy: 0.6996 - val_loss: 0.6459 - val_accuracy: 0.5932\n",
      "Epoch 70/150\n",
      "8/8 [==============================] - 0s 6ms/step - loss: 0.6328 - accuracy: 0.6996 - val_loss: 0.6433 - val_accuracy: 0.5932\n",
      "Epoch 71/150\n",
      "8/8 [==============================] - 0s 6ms/step - loss: 0.6332 - accuracy: 0.7082 - val_loss: 0.6406 - val_accuracy: 0.5932\n",
      "Epoch 72/150\n",
      "8/8 [==============================] - 0s 7ms/step - loss: 0.6260 - accuracy: 0.7210 - val_loss: 0.6376 - val_accuracy: 0.5932\n",
      "Epoch 73/150\n",
      "8/8 [==============================] - 0s 6ms/step - loss: 0.6256 - accuracy: 0.7082 - val_loss: 0.6344 - val_accuracy: 0.5932\n",
      "Epoch 74/150\n",
      "8/8 [==============================] - 0s 5ms/step - loss: 0.6224 - accuracy: 0.7167 - val_loss: 0.6311 - val_accuracy: 0.5932\n",
      "Epoch 75/150\n",
      "8/8 [==============================] - 0s 6ms/step - loss: 0.6179 - accuracy: 0.7039 - val_loss: 0.6278 - val_accuracy: 0.5932\n",
      "Epoch 76/150\n",
      "8/8 [==============================] - 0s 5ms/step - loss: 0.6250 - accuracy: 0.7468 - val_loss: 0.6243 - val_accuracy: 0.5932\n",
      "Epoch 77/150\n",
      "8/8 [==============================] - 0s 6ms/step - loss: 0.6196 - accuracy: 0.7082 - val_loss: 0.6209 - val_accuracy: 0.5932\n",
      "Epoch 78/150\n",
      "8/8 [==============================] - 0s 7ms/step - loss: 0.6057 - accuracy: 0.7296 - val_loss: 0.6173 - val_accuracy: 0.5932\n",
      "Epoch 79/150\n",
      "8/8 [==============================] - 0s 6ms/step - loss: 0.6120 - accuracy: 0.7253 - val_loss: 0.6137 - val_accuracy: 0.5932\n",
      "Epoch 80/150\n",
      "8/8 [==============================] - 0s 6ms/step - loss: 0.5991 - accuracy: 0.7425 - val_loss: 0.6100 - val_accuracy: 0.5932\n",
      "Epoch 81/150\n",
      "8/8 [==============================] - 0s 6ms/step - loss: 0.5890 - accuracy: 0.7554 - val_loss: 0.6061 - val_accuracy: 0.5932\n",
      "Epoch 82/150\n",
      "8/8 [==============================] - 0s 7ms/step - loss: 0.5961 - accuracy: 0.7296 - val_loss: 0.6021 - val_accuracy: 0.5932\n",
      "Epoch 83/150\n",
      "8/8 [==============================] - 0s 6ms/step - loss: 0.5965 - accuracy: 0.7468 - val_loss: 0.5980 - val_accuracy: 0.5932\n",
      "Epoch 84/150\n",
      "8/8 [==============================] - 0s 6ms/step - loss: 0.5916 - accuracy: 0.7339 - val_loss: 0.5939 - val_accuracy: 0.5932\n",
      "Epoch 85/150\n",
      "8/8 [==============================] - 0s 6ms/step - loss: 0.5839 - accuracy: 0.7597 - val_loss: 0.5900 - val_accuracy: 0.5932\n",
      "Epoch 86/150\n",
      "8/8 [==============================] - 0s 6ms/step - loss: 0.5762 - accuracy: 0.7382 - val_loss: 0.5857 - val_accuracy: 0.5932\n",
      "Epoch 87/150\n",
      "8/8 [==============================] - 0s 6ms/step - loss: 0.5689 - accuracy: 0.7854 - val_loss: 0.5812 - val_accuracy: 0.6102\n",
      "Epoch 88/150\n",
      "8/8 [==============================] - 0s 7ms/step - loss: 0.5734 - accuracy: 0.7639 - val_loss: 0.5768 - val_accuracy: 0.6441\n",
      "Epoch 89/150\n",
      "8/8 [==============================] - 0s 7ms/step - loss: 0.5683 - accuracy: 0.7639 - val_loss: 0.5724 - val_accuracy: 0.6610\n",
      "Epoch 90/150\n",
      "8/8 [==============================] - 0s 6ms/step - loss: 0.5565 - accuracy: 0.8026 - val_loss: 0.5680 - val_accuracy: 0.6610\n",
      "Epoch 91/150\n",
      "8/8 [==============================] - 0s 5ms/step - loss: 0.5624 - accuracy: 0.7597 - val_loss: 0.5634 - val_accuracy: 0.6610\n",
      "Epoch 92/150\n",
      "8/8 [==============================] - 0s 5ms/step - loss: 0.5553 - accuracy: 0.7983 - val_loss: 0.5588 - val_accuracy: 0.6610\n",
      "Epoch 93/150\n",
      "8/8 [==============================] - 0s 6ms/step - loss: 0.5468 - accuracy: 0.7811 - val_loss: 0.5543 - val_accuracy: 0.7119\n",
      "Epoch 94/150\n",
      "8/8 [==============================] - 0s 5ms/step - loss: 0.5320 - accuracy: 0.7940 - val_loss: 0.5498 - val_accuracy: 0.7119\n",
      "Epoch 95/150\n",
      "8/8 [==============================] - 0s 10ms/step - loss: 0.5368 - accuracy: 0.8112 - val_loss: 0.5451 - val_accuracy: 0.7288\n",
      "Epoch 96/150\n",
      "8/8 [==============================] - 0s 8ms/step - loss: 0.5275 - accuracy: 0.7511 - val_loss: 0.5407 - val_accuracy: 0.7458\n",
      "Epoch 97/150\n",
      "8/8 [==============================] - 0s 7ms/step - loss: 0.5215 - accuracy: 0.7811 - val_loss: 0.5362 - val_accuracy: 0.7458\n",
      "Epoch 98/150\n",
      "8/8 [==============================] - 0s 6ms/step - loss: 0.5335 - accuracy: 0.7811 - val_loss: 0.5318 - val_accuracy: 0.7458\n",
      "Epoch 99/150\n",
      "8/8 [==============================] - 0s 6ms/step - loss: 0.5290 - accuracy: 0.7811 - val_loss: 0.5273 - val_accuracy: 0.7458\n",
      "Epoch 100/150\n",
      "8/8 [==============================] - 0s 5ms/step - loss: 0.5088 - accuracy: 0.7983 - val_loss: 0.5229 - val_accuracy: 0.7458\n",
      "Epoch 101/150\n",
      "8/8 [==============================] - 0s 6ms/step - loss: 0.5114 - accuracy: 0.7768 - val_loss: 0.5186 - val_accuracy: 0.7627\n",
      "Epoch 102/150\n",
      "8/8 [==============================] - 0s 5ms/step - loss: 0.5083 - accuracy: 0.8155 - val_loss: 0.5143 - val_accuracy: 0.7797\n",
      "Epoch 103/150\n",
      "8/8 [==============================] - 0s 5ms/step - loss: 0.5058 - accuracy: 0.7897 - val_loss: 0.5098 - val_accuracy: 0.7797\n",
      "Epoch 104/150\n",
      "8/8 [==============================] - 0s 6ms/step - loss: 0.5091 - accuracy: 0.8155 - val_loss: 0.5054 - val_accuracy: 0.7797\n",
      "Epoch 105/150\n",
      "8/8 [==============================] - 0s 6ms/step - loss: 0.5032 - accuracy: 0.8069 - val_loss: 0.5013 - val_accuracy: 0.7797\n",
      "Epoch 106/150\n",
      "8/8 [==============================] - 0s 5ms/step - loss: 0.4736 - accuracy: 0.7983 - val_loss: 0.4970 - val_accuracy: 0.7797\n",
      "Epoch 107/150\n",
      "8/8 [==============================] - 0s 5ms/step - loss: 0.4754 - accuracy: 0.8112 - val_loss: 0.4928 - val_accuracy: 0.7797\n",
      "Epoch 108/150\n",
      "8/8 [==============================] - 0s 5ms/step - loss: 0.4973 - accuracy: 0.7897 - val_loss: 0.4888 - val_accuracy: 0.7797\n",
      "Epoch 109/150\n",
      "8/8 [==============================] - 0s 6ms/step - loss: 0.4878 - accuracy: 0.8369 - val_loss: 0.4848 - val_accuracy: 0.7797\n",
      "Epoch 110/150\n",
      "8/8 [==============================] - 0s 5ms/step - loss: 0.4663 - accuracy: 0.8112 - val_loss: 0.4809 - val_accuracy: 0.7797\n",
      "Epoch 111/150\n",
      "8/8 [==============================] - 0s 5ms/step - loss: 0.4691 - accuracy: 0.8155 - val_loss: 0.4770 - val_accuracy: 0.7966\n",
      "Epoch 112/150\n",
      "8/8 [==============================] - 0s 5ms/step - loss: 0.4665 - accuracy: 0.8112 - val_loss: 0.4731 - val_accuracy: 0.7966\n",
      "Epoch 113/150\n",
      "8/8 [==============================] - 0s 5ms/step - loss: 0.4516 - accuracy: 0.8412 - val_loss: 0.4693 - val_accuracy: 0.7966\n",
      "Epoch 114/150\n",
      "8/8 [==============================] - 0s 6ms/step - loss: 0.4623 - accuracy: 0.8283 - val_loss: 0.4657 - val_accuracy: 0.7966\n",
      "Epoch 115/150\n",
      "8/8 [==============================] - 0s 5ms/step - loss: 0.4644 - accuracy: 0.8112 - val_loss: 0.4620 - val_accuracy: 0.7966\n",
      "Epoch 116/150\n",
      "8/8 [==============================] - 0s 5ms/step - loss: 0.4370 - accuracy: 0.8197 - val_loss: 0.4581 - val_accuracy: 0.7966\n",
      "Epoch 117/150\n"
     ]
    },
    {
     "name": "stdout",
     "output_type": "stream",
     "text": [
      "8/8 [==============================] - 0s 6ms/step - loss: 0.4506 - accuracy: 0.8069 - val_loss: 0.4546 - val_accuracy: 0.8136\n",
      "Epoch 118/150\n",
      "8/8 [==============================] - 0s 5ms/step - loss: 0.4477 - accuracy: 0.8412 - val_loss: 0.4512 - val_accuracy: 0.8136\n",
      "Epoch 119/150\n",
      "8/8 [==============================] - 0s 6ms/step - loss: 0.4349 - accuracy: 0.8026 - val_loss: 0.4478 - val_accuracy: 0.8136\n",
      "Epoch 120/150\n",
      "8/8 [==============================] - 0s 5ms/step - loss: 0.4429 - accuracy: 0.8755 - val_loss: 0.4443 - val_accuracy: 0.8136\n",
      "Epoch 121/150\n",
      "8/8 [==============================] - 0s 6ms/step - loss: 0.4404 - accuracy: 0.8455 - val_loss: 0.4411 - val_accuracy: 0.8136\n",
      "Epoch 122/150\n",
      "8/8 [==============================] - 0s 5ms/step - loss: 0.4351 - accuracy: 0.8112 - val_loss: 0.4380 - val_accuracy: 0.8136\n",
      "Epoch 123/150\n",
      "8/8 [==============================] - 0s 6ms/step - loss: 0.4263 - accuracy: 0.8369 - val_loss: 0.4349 - val_accuracy: 0.8136\n",
      "Epoch 124/150\n",
      "8/8 [==============================] - 0s 5ms/step - loss: 0.4276 - accuracy: 0.8498 - val_loss: 0.4315 - val_accuracy: 0.8305\n",
      "Epoch 125/150\n",
      "8/8 [==============================] - 0s 5ms/step - loss: 0.4213 - accuracy: 0.8326 - val_loss: 0.4284 - val_accuracy: 0.8475\n",
      "Epoch 126/150\n",
      "8/8 [==============================] - 0s 6ms/step - loss: 0.4146 - accuracy: 0.8326 - val_loss: 0.4254 - val_accuracy: 0.8475\n",
      "Epoch 127/150\n",
      "8/8 [==============================] - 0s 6ms/step - loss: 0.4130 - accuracy: 0.8412 - val_loss: 0.4224 - val_accuracy: 0.8475\n",
      "Epoch 128/150\n",
      "8/8 [==============================] - 0s 6ms/step - loss: 0.4110 - accuracy: 0.8283 - val_loss: 0.4194 - val_accuracy: 0.8475\n",
      "Epoch 129/150\n",
      "8/8 [==============================] - 0s 6ms/step - loss: 0.4209 - accuracy: 0.8670 - val_loss: 0.4163 - val_accuracy: 0.8475\n",
      "Epoch 130/150\n",
      "8/8 [==============================] - 0s 6ms/step - loss: 0.4238 - accuracy: 0.8283 - val_loss: 0.4138 - val_accuracy: 0.8475\n",
      "Epoch 131/150\n",
      "8/8 [==============================] - 0s 6ms/step - loss: 0.4176 - accuracy: 0.8627 - val_loss: 0.4114 - val_accuracy: 0.8475\n",
      "Epoch 132/150\n",
      "8/8 [==============================] - 0s 5ms/step - loss: 0.4191 - accuracy: 0.8627 - val_loss: 0.4090 - val_accuracy: 0.8475\n",
      "Epoch 133/150\n",
      "8/8 [==============================] - 0s 5ms/step - loss: 0.4013 - accuracy: 0.8584 - val_loss: 0.4065 - val_accuracy: 0.8475\n",
      "Epoch 134/150\n",
      "8/8 [==============================] - 0s 6ms/step - loss: 0.4034 - accuracy: 0.8112 - val_loss: 0.4041 - val_accuracy: 0.8475\n",
      "Epoch 135/150\n",
      "8/8 [==============================] - 0s 5ms/step - loss: 0.3994 - accuracy: 0.8369 - val_loss: 0.4019 - val_accuracy: 0.8475\n",
      "Epoch 136/150\n",
      "8/8 [==============================] - 0s 5ms/step - loss: 0.4105 - accuracy: 0.8326 - val_loss: 0.3998 - val_accuracy: 0.8475\n",
      "Epoch 137/150\n",
      "8/8 [==============================] - 0s 6ms/step - loss: 0.4027 - accuracy: 0.8412 - val_loss: 0.3976 - val_accuracy: 0.8475\n",
      "Epoch 138/150\n",
      "8/8 [==============================] - 0s 5ms/step - loss: 0.3960 - accuracy: 0.8326 - val_loss: 0.3953 - val_accuracy: 0.8475\n",
      "Epoch 139/150\n",
      "8/8 [==============================] - 0s 6ms/step - loss: 0.4061 - accuracy: 0.8455 - val_loss: 0.3932 - val_accuracy: 0.8475\n",
      "Epoch 140/150\n",
      "8/8 [==============================] - 0s 6ms/step - loss: 0.3985 - accuracy: 0.8412 - val_loss: 0.3911 - val_accuracy: 0.8475\n",
      "Epoch 141/150\n",
      "8/8 [==============================] - 0s 5ms/step - loss: 0.3806 - accuracy: 0.8455 - val_loss: 0.3892 - val_accuracy: 0.8475\n",
      "Epoch 142/150\n",
      "8/8 [==============================] - 0s 5ms/step - loss: 0.4003 - accuracy: 0.8584 - val_loss: 0.3868 - val_accuracy: 0.8475\n",
      "Epoch 143/150\n",
      "8/8 [==============================] - 0s 5ms/step - loss: 0.3814 - accuracy: 0.8412 - val_loss: 0.3846 - val_accuracy: 0.8475\n",
      "Epoch 144/150\n",
      "8/8 [==============================] - 0s 5ms/step - loss: 0.3878 - accuracy: 0.8541 - val_loss: 0.3825 - val_accuracy: 0.8644\n",
      "Epoch 145/150\n",
      "8/8 [==============================] - 0s 5ms/step - loss: 0.3873 - accuracy: 0.8584 - val_loss: 0.3806 - val_accuracy: 0.8644\n",
      "Epoch 146/150\n",
      "8/8 [==============================] - 0s 6ms/step - loss: 0.3880 - accuracy: 0.8326 - val_loss: 0.3787 - val_accuracy: 0.8644\n",
      "Epoch 147/150\n",
      "8/8 [==============================] - 0s 5ms/step - loss: 0.3796 - accuracy: 0.8498 - val_loss: 0.3769 - val_accuracy: 0.8644\n",
      "Epoch 148/150\n",
      "8/8 [==============================] - 0s 5ms/step - loss: 0.3850 - accuracy: 0.8541 - val_loss: 0.3754 - val_accuracy: 0.8644\n",
      "Epoch 149/150\n",
      "8/8 [==============================] - 0s 5ms/step - loss: 0.3727 - accuracy: 0.8498 - val_loss: 0.3737 - val_accuracy: 0.8644\n",
      "Epoch 150/150\n",
      "8/8 [==============================] - 0s 5ms/step - loss: 0.3970 - accuracy: 0.8712 - val_loss: 0.3721 - val_accuracy: 0.8644\n"
     ]
    }
   ],
   "source": [
    "early_stopping = callbacks.EarlyStopping(\n",
    "    min_delta=0.001, # minimium amount of change to count as an improvement\n",
    "    patience=20, # how many epochs to wait before stopping\n",
    "    restore_best_weights=True,\n",
    ")\n",
    "\n",
    "# Initialising\n",
    "model = Sequential()\n",
    "\n",
    "model.add(Dense(units = 32, kernel_initializer = 'uniform', activation = 'relu', input_dim = 4))\n",
    "\n",
    "model.add(Dense(units = 16, kernel_initializer = 'uniform', activation = 'relu'))\n",
    "model.add(Dropout(0.25))\n",
    "model.add(Dense(units = 8, kernel_initializer = 'uniform', activation = 'relu'))\n",
    "model.add(Dropout(0.5))\n",
    "model.add(Dense(units = 1, kernel_initializer = 'uniform', activation = 'sigmoid'))\n",
    "\n",
    "# Compiling \n",
    "opt = Adam(learning_rate=0.00009)\n",
    "model.compile(optimizer = opt, loss = 'binary_crossentropy', metrics = ['accuracy'])\n",
    "\n",
    "# Train \n",
    "history = model.fit(x_train, y_train, batch_size = 32, epochs = 150, callbacks=[early_stopping], validation_split=0.2)"
   ]
  },
  {
   "cell_type": "code",
   "execution_count": 34,
   "id": "70b010ee",
   "metadata": {},
   "outputs": [
    {
     "data": {
      "image/png": "[encoded data removed]",
      "text/plain": [
       "<Figure size 1080x360 with 2 Axes>"
      ]
     },
     "metadata": {
      "needs_background": "light"
     },
     "output_type": "display_data"
    }
   ],
   "source": [
    "h=history\n",
    "plt.figure(figsize=(15,5))\n",
    "plt.subplot(1,2,1)\n",
    "plt.plot(h.history['accuracy'], 'o-', label='train accuracy')\n",
    "plt.plot(h.history['val_accuracy'], 'o-', label = 'validation accuracy')\n",
    "plt.xlabel('Epoch')\n",
    "plt.ylabel('Accuracy')\n",
    "plt.grid(True)\n",
    "plt.legend(loc='lower right')\n",
    "\n",
    "plt.subplot(1,2,2)\n",
    "plt.plot(h.history['loss'], 'o-', label='train loss')\n",
    "plt.plot(h.history['val_loss'], 'o-', label='validation loss')\n",
    "plt.xlabel('Epoch')\n",
    "plt.ylabel('Loss')\n",
    "plt.grid(True)\n",
    "plt.legend(loc='upper right')\n",
    "\n",
    "plt.show()"
   ]
  },
  {
   "cell_type": "code",
   "execution_count": 35,
   "id": "812e991b",
   "metadata": {},
   "outputs": [
    {
     "name": "stderr",
     "output_type": "stream",
     "text": [
      "C:\\Users\\shomy\\anaconda3\\envs\\cvpr\\lib\\site-packages\\pandas\\core\\frame.py:4308: SettingWithCopyWarning: \n",
      "A value is trying to be set on a copy of a slice from a DataFrame\n",
      "\n",
      "See the caveats in the documentation: https://pandas.pydata.org/pandas-docs/stable/user_guide/indexing.html#returning-a-view-versus-a-copy\n",
      "  return super().drop(\n"
     ]
    }
   ],
   "source": [
    "y_test.drop(\"prediction\", axis=1, inplace=True)\n",
    "#y_test\n"
   ]
  },
  {
   "cell_type": "code",
   "execution_count": 36,
   "id": "f13e6131",
   "metadata": {},
   "outputs": [
    {
     "name": "stdout",
     "output_type": "stream",
     "text": [
      "3/3 [==============================] - 0s 3ms/step - loss: 0.3029 - accuracy: 0.9324\n",
      "\n",
      "Test Accuracy: 0.9324324131011963\n",
      "\n",
      "Test Loss: 0.3028940260410309\n"
     ]
    }
   ],
   "source": [
    "test_loss, test_acc = model.evaluate(x_test, y_test)\n",
    "print('\\nTest Accuracy:', test_acc)\n",
    "print('\\nTest Loss:', test_loss)"
   ]
  },
  {
   "cell_type": "code",
   "execution_count": 37,
   "id": "6367de5b",
   "metadata": {},
   "outputs": [
    {
     "data": {
      "text/plain": [
       "Index(['prediction', 'observedRainfallcatagorical'], dtype='object')"
      ]
     },
     "execution_count": 37,
     "metadata": {},
     "output_type": "execute_result"
    }
   ],
   "source": [
    "m1=model.predict(x_test)\n",
    "ndf = pd.DataFrame(yy_test)\n",
    "# Using DataFrame.insert() to add a column\n",
    "ndf.insert(0, \"prediction\",m1, True)\n",
    "ndf.columns"
   ]
  },
  {
   "cell_type": "code",
   "execution_count": 38,
   "id": "008814e8",
   "metadata": {},
   "outputs": [
    {
     "name": "stdout",
     "output_type": "stream",
     "text": [
      "     prediction  observedRainfallcatagorical\n",
      "247  0.930520    1.0                        \n",
      "127  0.876280    1.0                        \n",
      "230  0.951466    1.0                        \n",
      "162  0.937353    1.0                        \n",
      "159  0.914340    1.0                        \n",
      "296  0.767524    0.0                        \n",
      "208  0.947348    1.0                        \n",
      "146  0.923936    1.0                        \n",
      "277  0.899191    1.0                        \n",
      "5    0.395937    0.0                        \n",
      "357  0.415014    0.0                        \n",
      "342  0.426029    0.0                        \n",
      "65   0.451970    0.0                        \n",
      "271  0.937304    1.0                        \n",
      "188  0.942483    1.0                        \n",
      "102  0.831391    1.0                        \n",
      "249  0.933107    1.0                        \n",
      "311  0.486776    0.0                        \n",
      "327  0.447769    0.0                        \n",
      "250  0.946662    1.0                        \n",
      "106  0.842170    1.0                        \n",
      "270  0.932006    1.0                        \n",
      "351  0.418276    0.0                        \n",
      "287  0.829574    1.0                        \n",
      "67   0.458784    0.0                        \n",
      "147  0.902967    1.0                        \n",
      "201  0.973741    1.0                        \n",
      "363  0.400074    0.0                        \n",
      "224  0.955692    1.0                        \n",
      "310  0.464678    0.0                        \n",
      "172  0.950874    1.0                        \n",
      "4    0.405457    0.0                        \n",
      "95   0.810550    1.0                        \n",
      "244  0.947824    1.0                        \n",
      "330  0.435371    0.0                        \n",
      "17   0.398570    0.0                        \n",
      "180  0.943391    1.0                        \n",
      "173  0.952072    1.0                        \n",
      "236  0.948992    1.0                        \n",
      "306  0.570613    0.0                        \n",
      "122  0.872343    1.0                        \n",
      "11   0.396538    0.0                        \n",
      "18   0.409099    0.0                        \n",
      "62   0.450971    0.0                        \n",
      "256  0.942685    1.0                        \n",
      "291  0.865079    1.0                        \n",
      "41   0.419142    0.0                        \n",
      "124  0.895778    1.0                        \n",
      "171  0.948694    1.0                        \n",
      "206  0.928906    1.0                        \n",
      "238  0.941479    1.0                        \n",
      "283  0.838277    1.0                        \n",
      "186  0.935210    1.0                        \n",
      "117  0.876992    1.0                        \n",
      "272  0.920184    1.0                        \n",
      "13   0.400158    0.0                        \n",
      "331  0.436626    0.0                        \n",
      "132  0.881646    1.0                        \n",
      "219  0.958076    1.0                        \n",
      "125  0.861057    1.0                        \n",
      "81   0.642372    0.0                        \n",
      "302  0.751040    1.0                        \n",
      "89   0.745449    1.0                        \n",
      "6    0.402256    0.0                        \n",
      "123  0.875446    1.0                        \n",
      "169  0.935663    1.0                        \n",
      "93   0.705138    1.0                        \n",
      "150  0.931367    1.0                        \n",
      "273  0.919826    1.0                        \n",
      "362  0.403113    1.0                        \n",
      "337  0.430494    0.0                        \n",
      "78   0.603499    0.0                        \n",
      "27   0.411914    0.0                        \n",
      "284  0.837648    1.0                        \n"
     ]
    }
   ],
   "source": [
    "ndf.rename(columns = { 0:'Actual value'}, inplace = True)\n",
    "pd.set_option('display.max_columns', None)\n",
    "pd.set_option('display.max_rows', None) \n",
    "\n",
    "pd.set_option('display.max_colwidth',0)  \n",
    "\n",
    "# Observe the result\n",
    "print(ndf)"
   ]
  },
  {
   "cell_type": "markdown",
   "id": "5f1c5b71",
   "metadata": {},
   "source": [
    "## Linear Regression"
   ]
  },
  {
   "cell_type": "code",
   "execution_count": 39,
   "id": "0f6ac4d9",
   "metadata": {},
   "outputs": [
    {
     "data": {
      "text/plain": [
       "LinearRegression()"
      ]
     },
     "execution_count": 39,
     "metadata": {},
     "output_type": "execute_result"
    }
   ],
   "source": [
    "reg = linear_model.LinearRegression()\n",
    "  \n",
    "# train the model using the training sets\n",
    "reg.fit(x_train, y_train)\n",
    "  \n",
    "\n",
    " "
   ]
  },
  {
   "cell_type": "code",
   "execution_count": 40,
   "id": "dae71342",
   "metadata": {},
   "outputs": [
    {
     "name": "stdout",
     "output_type": "stream",
     "text": [
      "Coefficients:  [[-0.07789749  0.35497258  0.06642763  0.08768912]]\n",
      "Variance score: 0.7114916088038657\n"
     ]
    },
    {
     "name": "stderr",
     "output_type": "stream",
     "text": [
      "C:\\Users\\shomy\\anaconda3\\envs\\cvpr\\lib\\site-packages\\pandas\\core\\frame.py:4308: SettingWithCopyWarning: \n",
      "A value is trying to be set on a copy of a slice from a DataFrame\n",
      "\n",
      "See the caveats in the documentation: https://pandas.pydata.org/pandas-docs/stable/user_guide/indexing.html#returning-a-view-versus-a-copy\n",
      "  return super().drop(\n"
     ]
    }
   ],
   "source": [
    "# regression coefficients\n",
    "print('Coefficients: ', reg.coef_)\n",
    "y_test.drop(\"prediction\", axis=1, inplace=True)  \n",
    "\n",
    "print('Variance score: {}'.format(reg.score(x_test, y_test[['observedRainfallcatagorical']])))"
   ]
  },
  {
   "cell_type": "code",
   "execution_count": 41,
   "id": "bd758913",
   "metadata": {},
   "outputs": [
    {
     "data": {
      "text/plain": [
       "Index(['Linear prediction', 'observedRainfallcatagorical'], dtype='object')"
      ]
     },
     "execution_count": 41,
     "metadata": {},
     "output_type": "execute_result"
    }
   ],
   "source": [
    "m=reg.predict(x_test)\n",
    "\n",
    "pdf = pd.DataFrame(yy_test)\n",
    "# Using DataFrame.insert() to add a column\n",
    "pdf.insert(0, \"Linear prediction\",m, True)\n",
    "pdf.columns\n"
   ]
  },
  {
   "cell_type": "code",
   "execution_count": 42,
   "id": "2b4ff512",
   "metadata": {},
   "outputs": [],
   "source": [
    "pdf.rename(columns = { 0:'Actual value'}, inplace = True)\n",
    "pd.set_option('display.max_columns', None)\n",
    "pd.set_option('display.max_rows', None) \n",
    "\n",
    "pd.set_option('display.max_colwidth',0)  \n",
    "\n",
    "# Observe the result\n",
    "#print(pdf)"
   ]
  },
  {
   "cell_type": "code",
   "execution_count": 43,
   "id": "962bffa2",
   "metadata": {},
   "outputs": [
    {
     "name": "stdout",
     "output_type": "stream",
     "text": [
      "Variance score: 0.7114916088038657\n",
      "Linear regression r2 score : 0.7115 \n",
      "Error : 0.2564 \n"
     ]
    }
   ],
   "source": [
    "print('Variance score: {}'.format(reg.score(x_test, y_test[['observedRainfallcatagorical']])))\n",
    "print('Linear regression r2 score : %.4f '  %  r2_score(y_test[['observedRainfallcatagorical']], m))\n",
    "print( 'Error : %.4f ' % np.sqrt(mean_squared_error(y_test[['observedRainfallcatagorical']],m))) "
   ]
  },
  {
   "cell_type": "code",
   "execution_count": 44,
   "id": "490dd686",
   "metadata": {},
   "outputs": [
    {
     "name": "stdout",
     "output_type": "stream",
     "text": [
      "Linear cross_val_score mean: 0.656 std: (0.205)\n"
     ]
    }
   ],
   "source": [
    "# prepare the cross-validation procedure\n",
    "cv2 = KFold(n_splits=10, random_state=1, shuffle=True)\n",
    "# evaluate model\n",
    "scores = cross_val_score(reg,x_test,y_test[['observedRainfallcatagorical']], scoring='r2', cv=cv2, n_jobs=1)\n",
    "# report performance\n",
    "print('Linear cross_val_score mean: %.3f std: (%.3f)' % (mean(scores), std(scores)))"
   ]
  },
  {
   "cell_type": "markdown",
   "id": "500cddf6",
   "metadata": {},
   "source": [
    "## Logistic Regression"
   ]
  },
  {
   "cell_type": "code",
   "execution_count": 45,
   "id": "befd0749",
   "metadata": {},
   "outputs": [],
   "source": [
    "from sklearn.linear_model import LogisticRegression  \n",
    "classifier= LogisticRegression(random_state=0)  \n",
    "classifier.fit(x_train, yTrain) \n",
    "y_predi= classifier.predict(x_test) "
   ]
  },
  {
   "cell_type": "code",
   "execution_count": 46,
   "id": "e209d8cd",
   "metadata": {},
   "outputs": [
    {
     "name": "stdout",
     "output_type": "stream",
     "text": [
      "Logistic cross_val_score: 0.669 std: (0.435)\n",
      "Logistic cross_val_score(accuracy): 0.934 std: (0.087)\n"
     ]
    }
   ],
   "source": [
    "# prepare the cross-validation procedure\n",
    "cv = KFold(n_splits=10, random_state=1, shuffle=True)\n",
    "# evaluate model\n",
    "scores = cross_val_score(classifier,x_test,y_test[['observedRainfallcatagorical']], scoring='r2', cv=cv, n_jobs=-1)\n",
    "scores1 = cross_val_score(classifier,x_test,y_test[['observedRainfallcatagorical']], scoring='accuracy', cv=cv, n_jobs=-1)\n",
    "# report performance\n",
    "print('Logistic cross_val_score: %.3f std: (%.3f)' % (mean(scores), std(scores)))\n",
    "print('Logistic cross_val_score(accuracy): %.3f std: (%.3f)' % (mean(scores1), std(scores1)))"
   ]
  },
  {
   "cell_type": "code",
   "execution_count": null,
   "id": "fcd85edc",
   "metadata": {},
   "outputs": [],
   "source": []
  },
  {
   "cell_type": "code",
   "execution_count": 47,
   "id": "04548c8d",
   "metadata": {},
   "outputs": [],
   "source": [
    "y_true=y_test[['observedRainfallcatagorical']]\n",
    " "
   ]
  },
  {
   "cell_type": "code",
   "execution_count": 48,
   "id": "e190b66f",
   "metadata": {},
   "outputs": [
    {
     "data": {
      "text/plain": [
       "array([[23,  1],\n",
       "       [ 3, 47]], dtype=int64)"
      ]
     },
     "execution_count": 48,
     "metadata": {},
     "output_type": "execute_result"
    }
   ],
   "source": [
    "from sklearn.metrics import confusion_matrix  \n",
    "cm= confusion_matrix(y_predi,y_true)  \n",
    "cm"
   ]
  },
  {
   "cell_type": "code",
   "execution_count": 49,
   "id": "6e468600",
   "metadata": {},
   "outputs": [],
   "source": [
    "ldf = pd.DataFrame(yy_test)\n",
    "# Using DataFrame.insert() to add a column\n",
    "ldf.insert(0, \"Logistic prediction\",y_predi, True)\n",
    "\n",
    "pd.set_option('display.max_columns', None)\n",
    "pd.set_option('display.max_rows', None) \n",
    "\n",
    "pd.set_option('display.max_colwidth',0) \n",
    "\n",
    "# Observe the result\n",
    "#print(ldf)"
   ]
  },
  {
   "cell_type": "code",
   "execution_count": 50,
   "id": "b9f760f5",
   "metadata": {},
   "outputs": [
    {
     "name": "stdout",
     "output_type": "stream",
     "text": [
      "Variance score: 0.9459459459459459\n",
      "Logistic regression score : 0.7628 \n",
      "Error : 0.2325 \n"
     ]
    }
   ],
   "source": [
    "print('Variance score: {}'.format(classifier.score(x_test, y_test[['observedRainfallcatagorical']])))\n",
    "\n",
    "print('Logistic regression score : %.4f '  %  r2_score(y_test[['observedRainfallcatagorical']],y_predi))\n",
    "print( 'Error : %.4f ' % np.sqrt(mean_squared_error(y_test[['observedRainfallcatagorical']],y_predi))) "
   ]
  },
  {
   "cell_type": "markdown",
   "id": "0ea99e2f",
   "metadata": {},
   "source": [
    "## Ridge Regression"
   ]
  },
  {
   "cell_type": "code",
   "execution_count": 51,
   "id": "4e22ff28",
   "metadata": {},
   "outputs": [],
   "source": [
    "from sklearn.linear_model import Ridge\n",
    "rid = Ridge(alpha=1.0,normalize=True)\n",
    "rid.fit(x_train,yTrain)\n",
    "y_predr = rid.predict(x_test)"
   ]
  },
  {
   "cell_type": "code",
   "execution_count": 52,
   "id": "0934c45f",
   "metadata": {},
   "outputs": [],
   "source": [
    "#yy_test"
   ]
  },
  {
   "cell_type": "code",
   "execution_count": 53,
   "id": "30a7357d",
   "metadata": {},
   "outputs": [
    {
     "data": {
      "text/html": [
       "<div>\n",
       "<style scoped>\n",
       "    .dataframe tbody tr th:only-of-type {\n",
       "        vertical-align: middle;\n",
       "    }\n",
       "\n",
       "    .dataframe tbody tr th {\n",
       "        vertical-align: top;\n",
       "    }\n",
       "\n",
       "    .dataframe thead th {\n",
       "        text-align: right;\n",
       "    }\n",
       "</style>\n",
       "<table border=\"1\" class=\"dataframe\">\n",
       "  <thead>\n",
       "    <tr style=\"text-align: right;\">\n",
       "      <th></th>\n",
       "      <th>Ridge prediction</th>\n",
       "      <th>Logistic prediction</th>\n",
       "      <th>Linear prediction</th>\n",
       "      <th>observedRainfallcatagorical</th>\n",
       "    </tr>\n",
       "  </thead>\n",
       "  <tbody>\n",
       "    <tr>\n",
       "      <th>247</th>\n",
       "      <td>0.885782</td>\n",
       "      <td>1.0</td>\n",
       "      <td>1.018374</td>\n",
       "      <td>1.0</td>\n",
       "    </tr>\n",
       "    <tr>\n",
       "      <th>127</th>\n",
       "      <td>0.789305</td>\n",
       "      <td>1.0</td>\n",
       "      <td>0.784338</td>\n",
       "      <td>1.0</td>\n",
       "    </tr>\n",
       "    <tr>\n",
       "      <th>230</th>\n",
       "      <td>0.930613</td>\n",
       "      <td>1.0</td>\n",
       "      <td>1.074986</td>\n",
       "      <td>1.0</td>\n",
       "    </tr>\n",
       "    <tr>\n",
       "      <th>162</th>\n",
       "      <td>0.892635</td>\n",
       "      <td>1.0</td>\n",
       "      <td>0.956814</td>\n",
       "      <td>1.0</td>\n",
       "    </tr>\n",
       "    <tr>\n",
       "      <th>159</th>\n",
       "      <td>0.853699</td>\n",
       "      <td>1.0</td>\n",
       "      <td>0.898985</td>\n",
       "      <td>1.0</td>\n",
       "    </tr>\n",
       "    <tr>\n",
       "      <th>296</th>\n",
       "      <td>0.705594</td>\n",
       "      <td>1.0</td>\n",
       "      <td>0.695405</td>\n",
       "      <td>0.0</td>\n",
       "    </tr>\n",
       "    <tr>\n",
       "      <th>208</th>\n",
       "      <td>0.916602</td>\n",
       "      <td>1.0</td>\n",
       "      <td>1.078966</td>\n",
       "      <td>1.0</td>\n",
       "    </tr>\n",
       "    <tr>\n",
       "      <th>146</th>\n",
       "      <td>0.864714</td>\n",
       "      <td>1.0</td>\n",
       "      <td>0.937264</td>\n",
       "      <td>1.0</td>\n",
       "    </tr>\n",
       "    <tr>\n",
       "      <th>277</th>\n",
       "      <td>0.832538</td>\n",
       "      <td>1.0</td>\n",
       "      <td>0.900730</td>\n",
       "      <td>1.0</td>\n",
       "    </tr>\n",
       "    <tr>\n",
       "      <th>5</th>\n",
       "      <td>0.252690</td>\n",
       "      <td>0.0</td>\n",
       "      <td>0.095943</td>\n",
       "      <td>0.0</td>\n",
       "    </tr>\n",
       "    <tr>\n",
       "      <th>357</th>\n",
       "      <td>0.345363</td>\n",
       "      <td>0.0</td>\n",
       "      <td>0.200925</td>\n",
       "      <td>0.0</td>\n",
       "    </tr>\n",
       "    <tr>\n",
       "      <th>342</th>\n",
       "      <td>0.381935</td>\n",
       "      <td>0.0</td>\n",
       "      <td>0.214132</td>\n",
       "      <td>0.0</td>\n",
       "    </tr>\n",
       "    <tr>\n",
       "      <th>65</th>\n",
       "      <td>0.466981</td>\n",
       "      <td>0.0</td>\n",
       "      <td>0.368531</td>\n",
       "      <td>0.0</td>\n",
       "    </tr>\n",
       "    <tr>\n",
       "      <th>271</th>\n",
       "      <td>0.899234</td>\n",
       "      <td>1.0</td>\n",
       "      <td>1.048730</td>\n",
       "      <td>1.0</td>\n",
       "    </tr>\n",
       "    <tr>\n",
       "      <th>188</th>\n",
       "      <td>0.912506</td>\n",
       "      <td>1.0</td>\n",
       "      <td>1.065838</td>\n",
       "      <td>1.0</td>\n",
       "    </tr>\n",
       "    <tr>\n",
       "      <th>102</th>\n",
       "      <td>0.726129</td>\n",
       "      <td>1.0</td>\n",
       "      <td>0.703485</td>\n",
       "      <td>1.0</td>\n",
       "    </tr>\n",
       "    <tr>\n",
       "      <th>249</th>\n",
       "      <td>0.889476</td>\n",
       "      <td>1.0</td>\n",
       "      <td>1.010467</td>\n",
       "      <td>1.0</td>\n",
       "    </tr>\n",
       "    <tr>\n",
       "      <th>311</th>\n",
       "      <td>0.588760</td>\n",
       "      <td>0.0</td>\n",
       "      <td>0.460076</td>\n",
       "      <td>0.0</td>\n",
       "    </tr>\n",
       "    <tr>\n",
       "      <th>327</th>\n",
       "      <td>0.491865</td>\n",
       "      <td>0.0</td>\n",
       "      <td>0.339974</td>\n",
       "      <td>0.0</td>\n",
       "    </tr>\n",
       "    <tr>\n",
       "      <th>250</th>\n",
       "      <td>0.918381</td>\n",
       "      <td>1.0</td>\n",
       "      <td>1.055359</td>\n",
       "      <td>1.0</td>\n",
       "    </tr>\n",
       "    <tr>\n",
       "      <th>106</th>\n",
       "      <td>0.742822</td>\n",
       "      <td>1.0</td>\n",
       "      <td>0.755967</td>\n",
       "      <td>1.0</td>\n",
       "    </tr>\n",
       "    <tr>\n",
       "      <th>270</th>\n",
       "      <td>0.888992</td>\n",
       "      <td>1.0</td>\n",
       "      <td>1.020537</td>\n",
       "      <td>1.0</td>\n",
       "    </tr>\n",
       "    <tr>\n",
       "      <th>351</th>\n",
       "      <td>0.368386</td>\n",
       "      <td>0.0</td>\n",
       "      <td>0.265744</td>\n",
       "      <td>0.0</td>\n",
       "    </tr>\n",
       "    <tr>\n",
       "      <th>287</th>\n",
       "      <td>0.757187</td>\n",
       "      <td>1.0</td>\n",
       "      <td>0.780111</td>\n",
       "      <td>1.0</td>\n",
       "    </tr>\n",
       "    <tr>\n",
       "      <th>67</th>\n",
       "      <td>0.504150</td>\n",
       "      <td>0.0</td>\n",
       "      <td>0.432096</td>\n",
       "      <td>0.0</td>\n",
       "    </tr>\n",
       "    <tr>\n",
       "      <th>147</th>\n",
       "      <td>0.831391</td>\n",
       "      <td>1.0</td>\n",
       "      <td>0.878094</td>\n",
       "      <td>1.0</td>\n",
       "    </tr>\n",
       "    <tr>\n",
       "      <th>201</th>\n",
       "      <td>1.006127</td>\n",
       "      <td>1.0</td>\n",
       "      <td>1.258569</td>\n",
       "      <td>1.0</td>\n",
       "    </tr>\n",
       "    <tr>\n",
       "      <th>363</th>\n",
       "      <td>0.262971</td>\n",
       "      <td>0.0</td>\n",
       "      <td>0.043740</td>\n",
       "      <td>0.0</td>\n",
       "    </tr>\n",
       "    <tr>\n",
       "      <th>224</th>\n",
       "      <td>0.947357</td>\n",
       "      <td>1.0</td>\n",
       "      <td>1.138518</td>\n",
       "      <td>1.0</td>\n",
       "    </tr>\n",
       "    <tr>\n",
       "      <th>310</th>\n",
       "      <td>0.557577</td>\n",
       "      <td>0.0</td>\n",
       "      <td>0.405982</td>\n",
       "      <td>0.0</td>\n",
       "    </tr>\n",
       "    <tr>\n",
       "      <th>172</th>\n",
       "      <td>0.930412</td>\n",
       "      <td>1.0</td>\n",
       "      <td>1.104535</td>\n",
       "      <td>1.0</td>\n",
       "    </tr>\n",
       "    <tr>\n",
       "      <th>4</th>\n",
       "      <td>0.322615</td>\n",
       "      <td>0.0</td>\n",
       "      <td>0.269097</td>\n",
       "      <td>0.0</td>\n",
       "    </tr>\n",
       "    <tr>\n",
       "      <th>95</th>\n",
       "      <td>0.706617</td>\n",
       "      <td>1.0</td>\n",
       "      <td>0.661254</td>\n",
       "      <td>1.0</td>\n",
       "    </tr>\n",
       "    <tr>\n",
       "      <th>244</th>\n",
       "      <td>0.925164</td>\n",
       "      <td>1.0</td>\n",
       "      <td>1.076840</td>\n",
       "      <td>1.0</td>\n",
       "    </tr>\n",
       "    <tr>\n",
       "      <th>330</th>\n",
       "      <td>0.408575</td>\n",
       "      <td>0.0</td>\n",
       "      <td>0.167900</td>\n",
       "      <td>0.0</td>\n",
       "    </tr>\n",
       "    <tr>\n",
       "      <th>17</th>\n",
       "      <td>0.260978</td>\n",
       "      <td>0.0</td>\n",
       "      <td>0.102450</td>\n",
       "      <td>0.0</td>\n",
       "    </tr>\n",
       "    <tr>\n",
       "      <th>180</th>\n",
       "      <td>0.914351</td>\n",
       "      <td>1.0</td>\n",
       "      <td>1.051776</td>\n",
       "      <td>1.0</td>\n",
       "    </tr>\n",
       "    <tr>\n",
       "      <th>173</th>\n",
       "      <td>0.934935</td>\n",
       "      <td>1.0</td>\n",
       "      <td>1.079822</td>\n",
       "      <td>1.0</td>\n",
       "    </tr>\n",
       "    <tr>\n",
       "      <th>236</th>\n",
       "      <td>0.927835</td>\n",
       "      <td>1.0</td>\n",
       "      <td>1.105730</td>\n",
       "      <td>1.0</td>\n",
       "    </tr>\n",
       "    <tr>\n",
       "      <th>306</th>\n",
       "      <td>0.620163</td>\n",
       "      <td>1.0</td>\n",
       "      <td>0.498398</td>\n",
       "      <td>0.0</td>\n",
       "    </tr>\n",
       "    <tr>\n",
       "      <th>122</th>\n",
       "      <td>0.785865</td>\n",
       "      <td>1.0</td>\n",
       "      <td>0.818167</td>\n",
       "      <td>1.0</td>\n",
       "    </tr>\n",
       "    <tr>\n",
       "      <th>11</th>\n",
       "      <td>0.266567</td>\n",
       "      <td>0.0</td>\n",
       "      <td>0.166908</td>\n",
       "      <td>0.0</td>\n",
       "    </tr>\n",
       "    <tr>\n",
       "      <th>18</th>\n",
       "      <td>0.334952</td>\n",
       "      <td>0.0</td>\n",
       "      <td>0.266610</td>\n",
       "      <td>0.0</td>\n",
       "    </tr>\n",
       "    <tr>\n",
       "      <th>62</th>\n",
       "      <td>0.471119</td>\n",
       "      <td>0.0</td>\n",
       "      <td>0.377807</td>\n",
       "      <td>0.0</td>\n",
       "    </tr>\n",
       "    <tr>\n",
       "      <th>256</th>\n",
       "      <td>0.910781</td>\n",
       "      <td>1.0</td>\n",
       "      <td>1.028394</td>\n",
       "      <td>1.0</td>\n",
       "    </tr>\n",
       "    <tr>\n",
       "      <th>291</th>\n",
       "      <td>0.784499</td>\n",
       "      <td>1.0</td>\n",
       "      <td>0.805331</td>\n",
       "      <td>1.0</td>\n",
       "    </tr>\n",
       "    <tr>\n",
       "      <th>41</th>\n",
       "      <td>0.326781</td>\n",
       "      <td>0.0</td>\n",
       "      <td>0.156867</td>\n",
       "      <td>0.0</td>\n",
       "    </tr>\n",
       "    <tr>\n",
       "      <th>124</th>\n",
       "      <td>0.811470</td>\n",
       "      <td>1.0</td>\n",
       "      <td>0.870006</td>\n",
       "      <td>1.0</td>\n",
       "    </tr>\n",
       "    <tr>\n",
       "      <th>171</th>\n",
       "      <td>0.925116</td>\n",
       "      <td>1.0</td>\n",
       "      <td>1.036109</td>\n",
       "      <td>1.0</td>\n",
       "    </tr>\n",
       "    <tr>\n",
       "      <th>206</th>\n",
       "      <td>0.882967</td>\n",
       "      <td>1.0</td>\n",
       "      <td>1.005271</td>\n",
       "      <td>1.0</td>\n",
       "    </tr>\n",
       "    <tr>\n",
       "      <th>238</th>\n",
       "      <td>0.908611</td>\n",
       "      <td>1.0</td>\n",
       "      <td>1.029036</td>\n",
       "      <td>1.0</td>\n",
       "    </tr>\n",
       "    <tr>\n",
       "      <th>283</th>\n",
       "      <td>0.766394</td>\n",
       "      <td>1.0</td>\n",
       "      <td>0.793280</td>\n",
       "      <td>1.0</td>\n",
       "    </tr>\n",
       "    <tr>\n",
       "      <th>186</th>\n",
       "      <td>0.898097</td>\n",
       "      <td>1.0</td>\n",
       "      <td>1.061189</td>\n",
       "      <td>1.0</td>\n",
       "    </tr>\n",
       "    <tr>\n",
       "      <th>117</th>\n",
       "      <td>0.785073</td>\n",
       "      <td>1.0</td>\n",
       "      <td>0.825479</td>\n",
       "      <td>1.0</td>\n",
       "    </tr>\n",
       "    <tr>\n",
       "      <th>272</th>\n",
       "      <td>0.866131</td>\n",
       "      <td>1.0</td>\n",
       "      <td>0.963129</td>\n",
       "      <td>1.0</td>\n",
       "    </tr>\n",
       "    <tr>\n",
       "      <th>13</th>\n",
       "      <td>0.291713</td>\n",
       "      <td>0.0</td>\n",
       "      <td>0.191230</td>\n",
       "      <td>0.0</td>\n",
       "    </tr>\n",
       "    <tr>\n",
       "      <th>331</th>\n",
       "      <td>0.421316</td>\n",
       "      <td>0.0</td>\n",
       "      <td>0.214324</td>\n",
       "      <td>0.0</td>\n",
       "    </tr>\n",
       "    <tr>\n",
       "      <th>132</th>\n",
       "      <td>0.794248</td>\n",
       "      <td>1.0</td>\n",
       "      <td>0.793255</td>\n",
       "      <td>1.0</td>\n",
       "    </tr>\n",
       "    <tr>\n",
       "      <th>219</th>\n",
       "      <td>0.947838</td>\n",
       "      <td>1.0</td>\n",
       "      <td>1.102731</td>\n",
       "      <td>1.0</td>\n",
       "    </tr>\n",
       "    <tr>\n",
       "      <th>125</th>\n",
       "      <td>0.771128</td>\n",
       "      <td>1.0</td>\n",
       "      <td>0.820417</td>\n",
       "      <td>1.0</td>\n",
       "    </tr>\n",
       "    <tr>\n",
       "      <th>81</th>\n",
       "      <td>0.607395</td>\n",
       "      <td>1.0</td>\n",
       "      <td>0.547150</td>\n",
       "      <td>0.0</td>\n",
       "    </tr>\n",
       "    <tr>\n",
       "      <th>302</th>\n",
       "      <td>0.694604</td>\n",
       "      <td>1.0</td>\n",
       "      <td>0.682262</td>\n",
       "      <td>1.0</td>\n",
       "    </tr>\n",
       "    <tr>\n",
       "      <th>89</th>\n",
       "      <td>0.667575</td>\n",
       "      <td>1.0</td>\n",
       "      <td>0.649045</td>\n",
       "      <td>1.0</td>\n",
       "    </tr>\n",
       "    <tr>\n",
       "      <th>6</th>\n",
       "      <td>0.297735</td>\n",
       "      <td>0.0</td>\n",
       "      <td>0.201819</td>\n",
       "      <td>0.0</td>\n",
       "    </tr>\n",
       "    <tr>\n",
       "      <th>123</th>\n",
       "      <td>0.791759</td>\n",
       "      <td>1.0</td>\n",
       "      <td>0.849023</td>\n",
       "      <td>1.0</td>\n",
       "    </tr>\n",
       "    <tr>\n",
       "      <th>169</th>\n",
       "      <td>0.895774</td>\n",
       "      <td>1.0</td>\n",
       "      <td>0.985955</td>\n",
       "      <td>1.0</td>\n",
       "    </tr>\n",
       "    <tr>\n",
       "      <th>93</th>\n",
       "      <td>0.642059</td>\n",
       "      <td>1.0</td>\n",
       "      <td>0.594256</td>\n",
       "      <td>1.0</td>\n",
       "    </tr>\n",
       "    <tr>\n",
       "      <th>150</th>\n",
       "      <td>0.877116</td>\n",
       "      <td>1.0</td>\n",
       "      <td>0.943074</td>\n",
       "      <td>1.0</td>\n",
       "    </tr>\n",
       "    <tr>\n",
       "      <th>273</th>\n",
       "      <td>0.865132</td>\n",
       "      <td>1.0</td>\n",
       "      <td>0.939851</td>\n",
       "      <td>1.0</td>\n",
       "    </tr>\n",
       "    <tr>\n",
       "      <th>362</th>\n",
       "      <td>0.286998</td>\n",
       "      <td>0.0</td>\n",
       "      <td>0.144666</td>\n",
       "      <td>1.0</td>\n",
       "    </tr>\n",
       "    <tr>\n",
       "      <th>337</th>\n",
       "      <td>0.398204</td>\n",
       "      <td>0.0</td>\n",
       "      <td>0.187718</td>\n",
       "      <td>0.0</td>\n",
       "    </tr>\n",
       "    <tr>\n",
       "      <th>78</th>\n",
       "      <td>0.592456</td>\n",
       "      <td>0.0</td>\n",
       "      <td>0.522941</td>\n",
       "      <td>0.0</td>\n",
       "    </tr>\n",
       "    <tr>\n",
       "      <th>27</th>\n",
       "      <td>0.322176</td>\n",
       "      <td>0.0</td>\n",
       "      <td>0.179921</td>\n",
       "      <td>0.0</td>\n",
       "    </tr>\n",
       "    <tr>\n",
       "      <th>284</th>\n",
       "      <td>0.765562</td>\n",
       "      <td>1.0</td>\n",
       "      <td>0.751511</td>\n",
       "      <td>1.0</td>\n",
       "    </tr>\n",
       "  </tbody>\n",
       "</table>\n",
       "</div>"
      ],
      "text/plain": [
       "     Ridge prediction  Logistic prediction  Linear prediction  \\\n",
       "247  0.885782          1.0                  1.018374            \n",
       "127  0.789305          1.0                  0.784338            \n",
       "230  0.930613          1.0                  1.074986            \n",
       "162  0.892635          1.0                  0.956814            \n",
       "159  0.853699          1.0                  0.898985            \n",
       "296  0.705594          1.0                  0.695405            \n",
       "208  0.916602          1.0                  1.078966            \n",
       "146  0.864714          1.0                  0.937264            \n",
       "277  0.832538          1.0                  0.900730            \n",
       "5    0.252690          0.0                  0.095943            \n",
       "357  0.345363          0.0                  0.200925            \n",
       "342  0.381935          0.0                  0.214132            \n",
       "65   0.466981          0.0                  0.368531            \n",
       "271  0.899234          1.0                  1.048730            \n",
       "188  0.912506          1.0                  1.065838            \n",
       "102  0.726129          1.0                  0.703485            \n",
       "249  0.889476          1.0                  1.010467            \n",
       "311  0.588760          0.0                  0.460076            \n",
       "327  0.491865          0.0                  0.339974            \n",
       "250  0.918381          1.0                  1.055359            \n",
       "106  0.742822          1.0                  0.755967            \n",
       "270  0.888992          1.0                  1.020537            \n",
       "351  0.368386          0.0                  0.265744            \n",
       "287  0.757187          1.0                  0.780111            \n",
       "67   0.504150          0.0                  0.432096            \n",
       "147  0.831391          1.0                  0.878094            \n",
       "201  1.006127          1.0                  1.258569            \n",
       "363  0.262971          0.0                  0.043740            \n",
       "224  0.947357          1.0                  1.138518            \n",
       "310  0.557577          0.0                  0.405982            \n",
       "172  0.930412          1.0                  1.104535            \n",
       "4    0.322615          0.0                  0.269097            \n",
       "95   0.706617          1.0                  0.661254            \n",
       "244  0.925164          1.0                  1.076840            \n",
       "330  0.408575          0.0                  0.167900            \n",
       "17   0.260978          0.0                  0.102450            \n",
       "180  0.914351          1.0                  1.051776            \n",
       "173  0.934935          1.0                  1.079822            \n",
       "236  0.927835          1.0                  1.105730            \n",
       "306  0.620163          1.0                  0.498398            \n",
       "122  0.785865          1.0                  0.818167            \n",
       "11   0.266567          0.0                  0.166908            \n",
       "18   0.334952          0.0                  0.266610            \n",
       "62   0.471119          0.0                  0.377807            \n",
       "256  0.910781          1.0                  1.028394            \n",
       "291  0.784499          1.0                  0.805331            \n",
       "41   0.326781          0.0                  0.156867            \n",
       "124  0.811470          1.0                  0.870006            \n",
       "171  0.925116          1.0                  1.036109            \n",
       "206  0.882967          1.0                  1.005271            \n",
       "238  0.908611          1.0                  1.029036            \n",
       "283  0.766394          1.0                  0.793280            \n",
       "186  0.898097          1.0                  1.061189            \n",
       "117  0.785073          1.0                  0.825479            \n",
       "272  0.866131          1.0                  0.963129            \n",
       "13   0.291713          0.0                  0.191230            \n",
       "331  0.421316          0.0                  0.214324            \n",
       "132  0.794248          1.0                  0.793255            \n",
       "219  0.947838          1.0                  1.102731            \n",
       "125  0.771128          1.0                  0.820417            \n",
       "81   0.607395          1.0                  0.547150            \n",
       "302  0.694604          1.0                  0.682262            \n",
       "89   0.667575          1.0                  0.649045            \n",
       "6    0.297735          0.0                  0.201819            \n",
       "123  0.791759          1.0                  0.849023            \n",
       "169  0.895774          1.0                  0.985955            \n",
       "93   0.642059          1.0                  0.594256            \n",
       "150  0.877116          1.0                  0.943074            \n",
       "273  0.865132          1.0                  0.939851            \n",
       "362  0.286998          0.0                  0.144666            \n",
       "337  0.398204          0.0                  0.187718            \n",
       "78   0.592456          0.0                  0.522941            \n",
       "27   0.322176          0.0                  0.179921            \n",
       "284  0.765562          1.0                  0.751511            \n",
       "\n",
       "     observedRainfallcatagorical  \n",
       "247  1.0                          \n",
       "127  1.0                          \n",
       "230  1.0                          \n",
       "162  1.0                          \n",
       "159  1.0                          \n",
       "296  0.0                          \n",
       "208  1.0                          \n",
       "146  1.0                          \n",
       "277  1.0                          \n",
       "5    0.0                          \n",
       "357  0.0                          \n",
       "342  0.0                          \n",
       "65   0.0                          \n",
       "271  1.0                          \n",
       "188  1.0                          \n",
       "102  1.0                          \n",
       "249  1.0                          \n",
       "311  0.0                          \n",
       "327  0.0                          \n",
       "250  1.0                          \n",
       "106  1.0                          \n",
       "270  1.0                          \n",
       "351  0.0                          \n",
       "287  1.0                          \n",
       "67   0.0                          \n",
       "147  1.0                          \n",
       "201  1.0                          \n",
       "363  0.0                          \n",
       "224  1.0                          \n",
       "310  0.0                          \n",
       "172  1.0                          \n",
       "4    0.0                          \n",
       "95   1.0                          \n",
       "244  1.0                          \n",
       "330  0.0                          \n",
       "17   0.0                          \n",
       "180  1.0                          \n",
       "173  1.0                          \n",
       "236  1.0                          \n",
       "306  0.0                          \n",
       "122  1.0                          \n",
       "11   0.0                          \n",
       "18   0.0                          \n",
       "62   0.0                          \n",
       "256  1.0                          \n",
       "291  1.0                          \n",
       "41   0.0                          \n",
       "124  1.0                          \n",
       "171  1.0                          \n",
       "206  1.0                          \n",
       "238  1.0                          \n",
       "283  1.0                          \n",
       "186  1.0                          \n",
       "117  1.0                          \n",
       "272  1.0                          \n",
       "13   0.0                          \n",
       "331  0.0                          \n",
       "132  1.0                          \n",
       "219  1.0                          \n",
       "125  1.0                          \n",
       "81   0.0                          \n",
       "302  1.0                          \n",
       "89   1.0                          \n",
       "6    0.0                          \n",
       "123  1.0                          \n",
       "169  1.0                          \n",
       "93   1.0                          \n",
       "150  1.0                          \n",
       "273  1.0                          \n",
       "362  1.0                          \n",
       "337  0.0                          \n",
       "78   0.0                          \n",
       "27   0.0                          \n",
       "284  1.0                          "
      ]
     },
     "execution_count": 53,
     "metadata": {},
     "output_type": "execute_result"
    }
   ],
   "source": [
    "rdf = pd.DataFrame(yy_test)\n",
    "# Using DataFrame.insert() to add a column\n",
    "rdf.insert(0, \"Ridge prediction\",y_predr, True)\n",
    "\n",
    "pd.set_option('display.max_columns',5)\n",
    "pd.set_option('display.max_rows', None) \n",
    "\n",
    "pd.set_option('display.max_colwidth',0) \n",
    "\n",
    "# Observe the result\n",
    "rdf"
   ]
  },
  {
   "cell_type": "code",
   "execution_count": 54,
   "id": "24e422f1",
   "metadata": {},
   "outputs": [
    {
     "name": "stdout",
     "output_type": "stream",
     "text": [
      "Mean MAE: 0.286 std: (0.039)\n"
     ]
    }
   ],
   "source": [
    "# define model evaluation method\n",
    "#the average MAE across the three repeats of 10-fold cross-validation\n",
    "cv = RepeatedKFold(n_splits=10, n_repeats=3, random_state=1)\n",
    "# evaluate model\n",
    "scores = cross_val_score(rid,x_train,yTrain, scoring='neg_mean_absolute_error', cv=cv, n_jobs=-1)\n",
    "# force scores to be positive\n",
    "scores = absolute(scores)\n",
    "print('Mean MAE: %.3f std: (%.3f)' % (mean(scores), std(scores)))"
   ]
  },
  {
   "cell_type": "code",
   "execution_count": 55,
   "id": "cb97d568",
   "metadata": {},
   "outputs": [
    {
     "name": "stdout",
     "output_type": "stream",
     "text": [
      "Variance score: 0.5916049995146753\n",
      "Ridge regression score : 0.5916 \n",
      "Error : 0.3051 \n"
     ]
    }
   ],
   "source": [
    "print('Variance score: {}'.format(rid.score(x_test, y_test[['observedRainfallcatagorical']])))\n",
    "\n",
    "print('Ridge regression score : %.4f '  %  r2_score(y_test[['observedRainfallcatagorical']],y_predr))\n",
    "print( 'Error : %.4f ' % np.sqrt(mean_squared_error(y_test[['observedRainfallcatagorical']],y_predr))) "
   ]
  },
  {
   "cell_type": "code",
   "execution_count": 56,
   "id": "6dad4011",
   "metadata": {},
   "outputs": [
    {
     "data": {
      "text/plain": [
       "array([0.85442836, 0.53907703, 0.74009329, 0.65723426, 0.47627915,\n",
       "       0.68937707, 0.7239389 , 0.33676718, 0.34353019, 0.56520316])"
      ]
     },
     "execution_count": 56,
     "metadata": {},
     "output_type": "execute_result"
    }
   ],
   "source": [
    "# prepare the cross-validation procedure\n",
    "cv1 = KFold(n_splits=10, random_state=1, shuffle=True)\n",
    "# evaluate model\n",
    "scores = cross_val_score(rid,x_test,y_test[['observedRainfallcatagorical']], scoring='r2', cv=cv1, n_jobs=1)\n",
    "# report performance\n",
    "scores\n"
   ]
  },
  {
   "cell_type": "code",
   "execution_count": 57,
   "id": "5c887fdd",
   "metadata": {},
   "outputs": [
    {
     "name": "stdout",
     "output_type": "stream",
     "text": [
      "Ridge cross_val_score mean: 0.593 std: (0.163)\n"
     ]
    }
   ],
   "source": [
    "print('Ridge cross_val_score mean: %.3f std: (%.3f)' % (mean(scores), std(scores)))"
   ]
  },
  {
   "cell_type": "code",
   "execution_count": null,
   "id": "75b994ec",
   "metadata": {},
   "outputs": [],
   "source": []
  }
 ],
 "metadata": {
  "kernelspec": {
   "display_name": "cvpr tf2.3 py3.8",
   "language": "python",
   "name": "cvpr"
  },
  "language_info": {
   "codemirror_mode": {
    "name": "ipython",
    "version": 3
   },
   "file_extension": ".py",
   "mimetype": "text/x-python",
   "name": "python",
   "nbconvert_exporter": "python",
   "pygments_lexer": "ipython3",
   "version": "3.8.10"
  }
 },
 "nbformat": 4,
 "nbformat_minor": 5
}
